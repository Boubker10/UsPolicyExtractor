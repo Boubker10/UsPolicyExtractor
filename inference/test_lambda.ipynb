{
 "cells": [
  {
   "cell_type": "code",
   "execution_count": 1,
   "id": "7c18ff1b",
   "metadata": {},
   "outputs": [],
   "source": [
    "import sys \n",
    "sys.path.append(r\"C:\\Users\\o\\agentflightbooking\\fiancialAIAgent\")"
   ]
  },
  {
   "cell_type": "code",
   "execution_count": 2,
   "id": "8a59db47",
   "metadata": {},
   "outputs": [],
   "source": [
    "#exemple event \n",
    "event = {\n",
    "    \"resource\": \"/ask\",\n",
    "    \"path\": \"/ask\",\n",
    "    \"httpMethod\": \"POST\",\n",
    "    \"headers\": {\n",
    "        \"Content-Type\": \"application/json\"\n",
    "    },\n",
    "    \"queryStringParameters\": None,\n",
    "    \"pathParameters\": None,\n",
    "    \"stageVariables\": None,\n",
    "    \"requestContext\": {},\n",
    "    \"body\": '{\"question\": \"can i film with a camera in public in US?\"}',\n",
    "    \"isBase64Encoded\": False\n",
    "}\n"
   ]
  },
  {
   "cell_type": "code",
   "execution_count": 3,
   "metadata": {},
   "outputs": [
    {
     "name": "stderr",
     "output_type": "stream",
     "text": [
      "INFO:sentence_transformers.SentenceTransformer:Use pytorch device_name: cpu\n",
      "INFO:sentence_transformers.SentenceTransformer:Load pretrained SentenceTransformer: sentence-transformers/all-mpnet-base-v2\n",
      "INFO:sentence_transformers.SentenceTransformer:Use pytorch device_name: cpu\n",
      "INFO:sentence_transformers.SentenceTransformer:Load pretrained SentenceTransformer: sentence-transformers/all-mpnet-base-v2\n",
      "INFO:root:Question received: can i film with a camera in public in US?\n",
      "INFO:root:Building pipeline...\n",
      "INFO:root:Executing pipeline...\n",
      "INFO:httpx:HTTP Request: POST https://api.deepseek.com/v1/chat/completions \"HTTP/1.1 200 OK\"\n",
      "INFO:src.main:[ReformulateQuestion] Reformulated query: us public filming laws site:.gov filetype:pdf\n"
     ]
    },
    {
     "name": "stdout",
     "output_type": "stream",
     "text": [
      "https://www.congress.gov/crs_external_products/IF/PDF/IF10340/IF10340.11.pdf (3 pages, date=2025-04-09 00:00:00)\n",
      "https://www.dhs.gov/sites/default/files/publications/Operational%20Readiness%20Order%20HQ-ORO-002-2018%20Photography%20and%20Videotaping%20....pdf (6 pages, date=2018-03-30 00:00:00)\n",
      "https://bja.ojp.gov/sites/g/files/xyckuh186/files/media/document/privacy_and_first_amendment_protections_chart.pdf (9 pages, date=None)\n",
      "https://www.supremecourt.gov/DocketPDF/21/21-57/187473/20210813143511599_21-57%20Amicus%20Rutherford%20Supp.%20Petitioner.pdf ignored  (too much pages)\n",
      "https://www.supremecourt.gov/DocketPDF/22/22-665/255016/20230216180129861_NPPA%20-FINAL%20Price%20v.%20Garland%20amicus.pdf ignored  (too much pages)\n",
      "https://www.congress.gov/crs_external_products/IF/PDF/IF10340/IF10340.10.pdf (3 pages, date=2022-12-01 00:00:00)\n",
      "https://www.copyright.gov/circs/circ45.pdf (4 pages, date=None)\n",
      "https://www.nps.gov/subjects/wilderness/upload/film-photo-in-wilderness_508.pdf ignored  (too much pages)\n",
      "https://capitol.texas.gov/tlodocs/87R/handouts/C4202021040810301/77be1f82-d190-4eef-961f-368040355267.PDF ignored  (too much pages)\n"
     ]
    },
    {
     "name": "stderr",
     "output_type": "stream",
     "text": [
      "INFO:src.main:[SearchPDFs] Found URLs: ['https://www.congress.gov/crs_external_products/IF/PDF/IF10340/IF10340.11.pdf', 'https://www.congress.gov/crs_external_products/IF/PDF/IF10340/IF10340.10.pdf', 'https://www.dhs.gov/sites/default/files/publications/Operational%20Readiness%20Order%20HQ-ORO-002-2018%20Photography%20and%20Videotaping%20....pdf', 'https://www.dhs.gov/xlibrary/assets/foia/mgmt_directive_2231_participation_of_the_department_of_homeland_security_with_film_and_television_productions.pdf', 'https://bja.ojp.gov/sites/g/files/xyckuh186/files/media/document/privacy_and_first_amendment_protections_chart.pdf', 'https://www.copyright.gov/circs/circ45.pdf']\n",
      "INFO:src.main:[DownloadPDF] PDF downloaded at: data/temp\\document_20250721_125619_666202.pdf\n"
     ]
    },
    {
     "name": "stdout",
     "output_type": "stream",
     "text": [
      "https://www.dhs.gov/xlibrary/assets/foia/mgmt_directive_2231_participation_of_the_department_of_homeland_security_with_film_and_television_productions.pdf (10 pages, date=2005-02-28 00:00:00)\n",
      "Saved page_1.png\n",
      "Saved page_2.png\n",
      "Saved page_3.png\n",
      "Removed page_1.png\n",
      "Removed page_2.png\n"
     ]
    },
    {
     "name": "stderr",
     "output_type": "stream",
     "text": [
      "INFO:src.main:[OCRExtractor] Extracted OCR text from 3 pages.\n"
     ]
    },
    {
     "name": "stdout",
     "output_type": "stream",
     "text": [
      "Removed page_3.png\n"
     ]
    },
    {
     "name": "stderr",
     "output_type": "stream",
     "text": [
      "INFO:httpx:HTTP Request: POST https://api.deepseek.com/v1/chat/completions \"HTTP/1.1 200 OK\"\n",
      "INFO:src.main:[AIAgentAnswer] AI answer: Yes, you can generally film with a camera in public on federal lands in the U.S., but there are specific rules depending on the circumstances:\n",
      "\n",
      "1. **Small Groups (1-5 people)**: No permit or fee is required for filming or photography, provided the activity does not disturb natural/cultural resources, impede other visitors, or occur in closed or highly visited areas. Hand-held equipment is typically allowed.\n",
      "\n",
      "2. **Medium Groups (6-8 people)**: A \"de minimis use authorization\" (not a permit) is required, but no fee can be charged. The same restrictions on disruption and location apply.\n",
      "\n",
      "3. **Large Groups (9+ people)**: A permit and fee may be required, especially if the activity involves staging equipment or could incur administrative costs.\n",
      "\n",
      "4. **Key Restrictions**: Filming must not:\n",
      "   - Damage resources or scenic values.\n",
      "   - Unreasonably disrupt public use.\n",
      "   - Pose health/safety risks.\n",
      "   - Violate other laws (e.g., drone use or wilderness area rules).\n",
      "\n",
      "The **EXPLORE Act (2025)** removed the prior distinction between commercial and noncommercial filming, so these rules apply regardless of whether the content is for profit. \n",
      "\n",
      "Always check with the specific federal land agency (e.g., National Park Service, Forest Service) for local regulations or closures.\n"
     ]
    },
    {
     "data": {
      "application/vnd.jupyter.widget-view+json": {
       "model_id": "3225aa8c76c6447181fd51d8ae0c7017",
       "version_major": 2,
       "version_minor": 0
      },
      "text/plain": [
       "Batches:   0%|          | 0/5 [00:00<?, ?it/s]"
      ]
     },
     "metadata": {},
     "output_type": "display_data"
    },
    {
     "data": {
      "application/vnd.jupyter.widget-view+json": {
       "model_id": "5392a33aedea449d8ee96b57c35f2144",
       "version_major": 2,
       "version_minor": 0
      },
      "text/plain": [
       "Batches:   0%|          | 0/2 [00:00<?, ?it/s]"
      ]
     },
     "metadata": {},
     "output_type": "display_data"
    },
    {
     "data": {
      "application/vnd.jupyter.widget-view+json": {
       "model_id": "a86823d112194701b84ad78edbe97fa7",
       "version_major": 2,
       "version_minor": 0
      },
      "text/plain": [
       "Batches:   0%|          | 0/1 [00:00<?, ?it/s]"
      ]
     },
     "metadata": {},
     "output_type": "display_data"
    },
    {
     "name": "stderr",
     "output_type": "stream",
     "text": [
      "INFO:src.main:[RAGRetriever] Top chunk: Filming and photography for commercial activities were required to obtain a permit in news-gathering purposes are not explicitly addressed in the advance of filming or shooting on federal lands. law; however, interim guidance issued by NPS indicates Implementing regulations promulgated by DOI defined that such activities are not treated differently. commercial filming as activities conducted “for a market audience with the intent of generating income” (78 Federal Issues for Congress Register 52087). FS regulations defined commercial Prior to enactment of the EXPLORE Act, some filming to be activities involving “the advertisement of a stakeholders advocated for a permitting system that product or service, the creation of a product for sale, or the regulated based on the impact of the activity rather than use of models, actors, sets, or props” (69 Federal Register whether such activity was commercial in nature.\n",
      "INFO:src.main:[RAGRetriever] Found on page: 2\n",
      "INFO:root:Pipeline completed successfully\n",
      "INFO:root:Result keys: ['ai_answer', 'top_chunk', 'page']\n"
     ]
    }
   ],
   "source": [
    "from inference.lambda_handler import lambda_handler \n",
    "\n",
    "result = lambda_handler(event=event,context=None)"
   ]
  },
  {
   "cell_type": "code",
   "execution_count": 6,
   "id": "e3bba127",
   "metadata": {},
   "outputs": [],
   "source": [
    "import json\n",
    "answer = json.loads(result['body'])"
   ]
  },
  {
   "cell_type": "code",
   "execution_count": 8,
   "id": "9309c978",
   "metadata": {},
   "outputs": [
    {
     "data": {
      "text/plain": [
       "{'status': 'success',\n",
       " 'question': 'can i film with a camera in public in US?',\n",
       " 'result': {'ai_answer': 'Yes, you can generally film with a camera in public on federal lands in the U.S., but there are specific rules depending on the circumstances:\\n\\n1. **Small Groups (1-5 people)**: No permit or fee is required for filming or photography, provided the activity does not disturb natural/cultural resources, impede other visitors, or occur in closed or highly visited areas. Hand-held equipment is typically allowed.\\n\\n2. **Medium Groups (6-8 people)**: A \"de minimis use authorization\" (not a permit) is required, but no fee can be charged. The same restrictions on disruption and location apply.\\n\\n3. **Large Groups (9+ people)**: A permit and fee may be required, especially if the activity involves staging equipment or could incur administrative costs.\\n\\n4. **Key Restrictions**: Filming must not:\\n   - Damage resources or scenic values.\\n   - Unreasonably disrupt public use.\\n   - Pose health/safety risks.\\n   - Violate other laws (e.g., drone use or wilderness area rules).\\n\\nThe **EXPLORE Act (2025)** removed the prior distinction between commercial and noncommercial filming, so these rules apply regardless of whether the content is for profit. \\n\\nAlways check with the specific federal land agency (e.g., National Park Service, Forest Service) for local regulations or closures.',\n",
       "  'top_chunk': 'Filming and photography for commercial activities were required to obtain a permit in news-gathering purposes are not explicitly addressed in the advance of filming or shooting on federal lands. law; however, interim guidance issued by NPS indicates Implementing regulations promulgated by DOI defined that such activities are not treated differently. commercial filming as activities conducted “for a market audience with the intent of generating income” (78 Federal Issues for Congress Register 52087). FS regulations defined commercial Prior to enactment of the EXPLORE Act, some filming to be activities involving “the advertisement of a stakeholders advocated for a permitting system that product or service, the creation of a product for sale, or the regulated based on the impact of the activity rather than use of models, actors, sets, or props” (69 Federal Register whether such activity was commercial in nature.',\n",
       "  'page': 2}}"
      ]
     },
     "execution_count": 8,
     "metadata": {},
     "output_type": "execute_result"
    }
   ],
   "source": [
    "answer"
   ]
  },
  {
   "cell_type": "code",
   "execution_count": 12,
   "id": "a38822f0",
   "metadata": {},
   "outputs": [
    {
     "name": "stdout",
     "output_type": "stream",
     "text": [
      "Yes, you can generally film with a camera in public on federal lands in the U.S., but there are specific rules depending on the circumstances:\n",
      "\n",
      "1. **Small Groups (1-5 people)**: No permit or fee is required for filming or photography, provided the activity does not disturb natural/cultural resources, impede other visitors, or occur in closed or highly visited areas. Hand-held equipment is typically allowed.\n",
      "\n",
      "2. **Medium Groups (6-8 people)**: A \"de minimis use authorization\" (not a permit) is required, but no fee can be charged. The same restrictions on disruption and location apply.\n",
      "\n",
      "3. **Large Groups (9+ people)**: A permit and fee may be required, especially if the activity involves staging equipment or could incur administrative costs.\n",
      "\n",
      "4. **Key Restrictions**: Filming must not:\n",
      "   - Damage resources or scenic values.\n",
      "   - Unreasonably disrupt public use.\n",
      "   - Pose health/safety risks.\n",
      "   - Violate other laws (e.g., drone use or wilderness area rules).\n",
      "\n",
      "The **EXPLORE Act (2025)** removed the prior distinction between commercial and noncommercial filming, so these rules apply regardless of whether the content is for profit. \n",
      "\n",
      "Always check with the specific federal land agency (e.g., National Park Service, Forest Service) for local regulations or closures.\n",
      "----------------------------\n",
      "page found : \n",
      " 2\n",
      "----------------------------\n",
      "chunk found : \n",
      " Filming and photography for commercial activities were required to obtain a permit in news-gathering purposes are not explicitly addressed in the advance of filming or shooting on federal lands. law; however, interim guidance issued by NPS indicates Implementing regulations promulgated by DOI defined that such activities are not treated differently. commercial filming as activities conducted “for a market audience with the intent of generating income” (78 Federal Issues for Congress Register 52087). FS regulations defined commercial Prior to enactment of the EXPLORE Act, some filming to be activities involving “the advertisement of a stakeholders advocated for a permitting system that product or service, the creation of a product for sale, or the regulated based on the impact of the activity rather than use of models, actors, sets, or props” (69 Federal Register whether such activity was commercial in nature.\n"
     ]
    }
   ],
   "source": [
    "print(answer['result'][\"ai_answer\"])\n",
    "print(\"----------------------------\")\n",
    "print(\"page found : \\n\",answer['result']['page'])\n",
    "print(\"----------------------------\")\n",
    "print(\"chunk found : \\n\",answer['result']['top_chunk'])\n",
    "\n"
   ]
  }
 ],
 "metadata": {
  "kernelspec": {
   "display_name": "Python 3",
   "language": "python",
   "name": "python3"
  },
  "language_info": {
   "codemirror_mode": {
    "name": "ipython",
    "version": 3
   },
   "file_extension": ".py",
   "mimetype": "text/x-python",
   "name": "python",
   "nbconvert_exporter": "python",
   "pygments_lexer": "ipython3",
   "version": "3.11.0"
  }
 },
 "nbformat": 4,
 "nbformat_minor": 5
}
