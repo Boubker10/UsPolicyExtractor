{
 "cells": [
  {
   "cell_type": "code",
   "execution_count": 1,
   "id": "7c18ff1b",
   "metadata": {},
   "outputs": [],
   "source": [
    "import sys \n",
    "sys.path.append(r\"C:\\Users\\o\\agentflightbooking\\fiancialAIAgent\")"
   ]
  },
  {
   "cell_type": "code",
   "execution_count": 2,
   "id": "8a59db47",
   "metadata": {},
   "outputs": [],
   "source": [
    "#exemple event \n",
    "event = {\n",
    "    \"resource\": \"/ask\",\n",
    "    \"path\": \"/ask\",\n",
    "    \"httpMethod\": \"POST\",\n",
    "    \"headers\": {\n",
    "        \"Content-Type\": \"application/json\"\n",
    "    },\n",
    "    \"queryStringParameters\": None,\n",
    "    \"pathParameters\": None,\n",
    "    \"stageVariables\": None,\n",
    "    \"requestContext\": {},\n",
    "    \"body\": '{\"question\": \"Can a person who travels to cuba can enter the US?\"}',\n",
    "    \"isBase64Encoded\": False\n",
    "}\n"
   ]
  },
  {
   "cell_type": "code",
   "execution_count": 3,
   "metadata": {},
   "outputs": [
    {
     "name": "stderr",
     "output_type": "stream",
     "text": [
      "INFO:sentence_transformers.SentenceTransformer:Use pytorch device_name: cpu\n",
      "INFO:sentence_transformers.SentenceTransformer:Load pretrained SentenceTransformer: sentence-transformers/all-mpnet-base-v2\n",
      "INFO:sentence_transformers.SentenceTransformer:Use pytorch device_name: cpu\n",
      "INFO:sentence_transformers.SentenceTransformer:Load pretrained SentenceTransformer: sentence-transformers/all-mpnet-base-v2\n",
      "INFO:root:Question received: Can a person who travels to cuba can enter the US?\n",
      "INFO:httpx:HTTP Request: POST https://api.deepseek.com/v1/chat/completions \"HTTP/1.1 200 OK\"\n",
      "INFO:src.main:[ReformulateQuestion] Reformulated query: cuba travel restrictions entry us site:.gov filetype:pdf\n"
     ]
    },
    {
     "name": "stdout",
     "output_type": "stream",
     "text": [
      "https://www.congress.gov/crs_external_products/RL/PDF/RL31139/RL31139.94.pdf ignored  (too much pages)\n",
      "https://www.cbp.gov/sites/default/files/2025-06/CLP%20Bulletin%20%20Presidential%20Proclamation%20Restricting%20Entry%20Final.pdf (2 pages, date=2025-06-09 00:00:00)\n",
      "https://www.congress.gov/crs_external_products/IF/PDF/IF10045/IF10045.66.pdf (3 pages, date=None)\n",
      "https://travel.state.gov/content/dam/visas/iv-dv-supplemental/HAV%20-%20Havana-5-20-2024.pdf ignored  (too much pages)\n",
      "https://www.dhs.gov/sites/default/files/publications/DHS%20Fact%20Sheet%20FINAL.pdf (3 pages, date=2017-01-12 00:00:00)\n"
     ]
    },
    {
     "name": "stderr",
     "output_type": "stream",
     "text": [
      "INFO:src.main:[SearchPDFs] Found URLs: ['https://www.cbp.gov/sites/default/files/2025-06/CLP%20Bulletin%20%20Presidential%20Proclamation%20Restricting%20Entry%20Final.pdf', 'https://www.dhs.gov/sites/default/files/publications/DHS%20Fact%20Sheet%20FINAL.pdf', 'https://www.congress.gov/crs_external_products/IF/PDF/IF10045/IF10045.66.pdf', 'https://www.uscis.gov/sites/default/files/err/H6%20-%20Waiver%20of%20Inadmissibility%20-%20Unlawful%20Presence%20-%20212%20(a)(9)(B)/Decisions_Issued_in_2013/JUN252013_01H6212.pdf']\n",
      "INFO:src.main:[DownloadPDF] PDF downloaded at: data/temp\\document_20250720_141458_952650.pdf\n"
     ]
    },
    {
     "name": "stdout",
     "output_type": "stream",
     "text": [
      "https://www.uscis.gov/sites/default/files/err/H6%20-%20Waiver%20of%20Inadmissibility%20-%20Unlawful%20Presence%20-%20212%20(a)(9)(B)/Decisions_Issued_in_2013/JUN252013_01H6212.pdf (7 pages, date=None)\n",
      "Saved page_1.png\n",
      "Saved page_2.png\n",
      "Removed page_1.png\n"
     ]
    },
    {
     "name": "stderr",
     "output_type": "stream",
     "text": [
      "INFO:src.main:[OCRExtractor] Extracted OCR text from 2 pages.\n"
     ]
    },
    {
     "name": "stdout",
     "output_type": "stream",
     "text": [
      "Removed page_2.png\n"
     ]
    },
    {
     "name": "stderr",
     "output_type": "stream",
     "text": [
      "INFO:httpx:HTTP Request: POST https://api.deepseek.com/v1/chat/completions \"HTTP/1.1 200 OK\"\n",
      "INFO:src.main:[AIAgentAnswer] AI answer: Based on the extracted text from the PDF document, a person who travels to **Cuba** (one of the 19 listed countries) **cannot enter the United States** under the following conditions:  \n",
      "\n",
      "1. **If they do not have a valid U.S. visa issued on or before June 8, 2025** (the proclamation takes effect June 9, 2025).  \n",
      "2. **If they are a national of Cuba** (unless they qualify for an exception).  \n",
      "\n",
      "### **Exceptions (Entry Permitted If):**  \n",
      "- They are a **U.S. lawful permanent resident (LPR)**.  \n",
      "- They are a **dual national traveling on a passport from a non-restricted country**.  \n",
      "- They hold a **valid visa issued before June 9, 2025**.  \n",
      "- They fall under one of the other listed exceptions (e.g., certain diplomatic visas, special immigrant visas, etc.).  \n",
      "\n",
      "### **Conclusion:**  \n",
      "Unless the traveler meets one of the exceptions (such as having a valid pre-existing visa or being a U.S. permanent resident), **a Cuban national or someone traveling from Cuba without an exempt status will generally be barred from entering the U.S. under this proclamation**.  \n",
      "\n",
      "For further clarification, the traveler should consult U.S. Customs and Border Protection (CBP) or the nearest U.S. embassy/consulate.\n"
     ]
    },
    {
     "data": {
      "application/vnd.jupyter.widget-view+json": {
       "model_id": "b389470190074ea58a36569427d01718",
       "version_major": 2,
       "version_minor": 0
      },
      "text/plain": [
       "Batches:   0%|          | 0/1 [00:00<?, ?it/s]"
      ]
     },
     "metadata": {},
     "output_type": "display_data"
    },
    {
     "data": {
      "application/vnd.jupyter.widget-view+json": {
       "model_id": "ca6d0c75fe3b44b3ba5de43861bc8ea7",
       "version_major": 2,
       "version_minor": 0
      },
      "text/plain": [
       "Batches:   0%|          | 0/1 [00:00<?, ?it/s]"
      ]
     },
     "metadata": {},
     "output_type": "display_data"
    },
    {
     "data": {
      "application/vnd.jupyter.widget-view+json": {
       "model_id": "5c9a09301ead429e905fc4403a3333ef",
       "version_major": 2,
       "version_minor": 0
      },
      "text/plain": [
       "Batches:   0%|          | 0/1 [00:00<?, ?it/s]"
      ]
     },
     "metadata": {},
     "output_type": "display_data"
    },
    {
     "name": "stderr",
     "output_type": "stream",
     "text": [
      "INFO:src.main:[RAGRetriever] Top chunk: The Proclamation fully or partially suspends the entry of nationals of the following 19 countries: Afghanistan,  Myanmar (Burma), Chad, Republic of The Congo, Equatorial Guinea, Eritrea, Haiti, Iran, Libya, Somalia,  Sudan, Yemen, Burundi, Cuba, Laos, Sierra Leone, Togo, Turkmenistan, and Venezuela. The Proclamation will  be implemented by CBP and partner agencies, such as U. S.\n",
      "INFO:src.main:[RAGRetriever] Found on page: 1\n",
      "INFO:root:Pipeline result: {'ai_answer': 'Based on the extracted text from the PDF document, a person who travels to **Cuba** (one of the 19 listed countries) **cannot enter the United States** under the following conditions:  \\n\\n1. **If they do not have a valid U.S. visa issued on or before June 8, 2025** (the proclamation takes effect June 9, 2025).  \\n2. **If they are a national of Cuba** (unless they qualify for an exception).  \\n\\n### **Exceptions (Entry Permitted If):**  \\n- They are a **U.S. lawful permanent resident (LPR)**.  \\n- They are a **dual national traveling on a passport from a non-restricted country**.  \\n- They hold a **valid visa issued before June 9, 2025**.  \\n- They fall under one of the other listed exceptions (e.g., certain diplomatic visas, special immigrant visas, etc.).  \\n\\n### **Conclusion:**  \\nUnless the traveler meets one of the exceptions (such as having a valid pre-existing visa or being a U.S. permanent resident), **a Cuban national or someone traveling from Cuba without an exempt status will generally be barred from entering the U.S. under this proclamation**.  \\n\\nFor further clarification, the traveler should consult U.S. Customs and Border Protection (CBP) or the nearest U.S. embassy/consulate.', 'top_chunk': 'The Proclamation fully or partially suspends the entry of nationals of the following 19 countries: Afghanistan,  Myanmar (Burma), Chad, Republic of The Congo, Equatorial Guinea, Eritrea, Haiti, Iran, Libya, Somalia,  Sudan, Yemen, Burundi, Cuba, Laos, Sierra Leone, Togo, Turkmenistan, and Venezuela. The Proclamation will  be implemented by CBP and partner agencies, such as U. S.', 'page': 1}\n"
     ]
    }
   ],
   "source": [
    "from inference.lambda_handler import lambda_handler \n",
    "\n",
    "result = lambda_handler(event=event,context=None)"
   ]
  },
  {
   "cell_type": "code",
   "execution_count": null,
   "id": "e3bba127",
   "metadata": {},
   "outputs": [],
   "source": [
    "import json\n",
    "answer = json.loads(result['body'])"
   ]
  },
  {
   "cell_type": "code",
   "execution_count": 30,
   "id": "a38822f0",
   "metadata": {},
   "outputs": [
    {
     "name": "stdout",
     "output_type": "stream",
     "text": [
      "Based on the extracted text from the PDF document, a person who travels to **Cuba** (one of the 19 listed countries) **cannot enter the United States** under the following conditions:  \n",
      "\n",
      "1. **If they do not have a valid U.S. visa issued on or before June 8, 2025** (the proclamation takes effect June 9, 2025).  \n",
      "2. **If they are a national of Cuba** (unless they qualify for an exception).  \n",
      "\n",
      "### **Exceptions (Entry Permitted If):**  \n",
      "- They are a **U.S. lawful permanent resident (LPR)**.  \n",
      "- They are a **dual national traveling on a passport from a non-restricted country**.  \n",
      "- They hold a **valid visa issued before June 9, 2025**.  \n",
      "- They fall under one of the other listed exceptions (e.g., certain diplomatic visas, special immigrant visas, etc.).  \n",
      "\n",
      "### **Conclusion:**  \n",
      "Unless the traveler meets one of the exceptions (such as having a valid pre-existing visa or being a U.S. permanent resident), **a Cuban national or someone traveling from Cuba without an exempt status will generally be barred from entering the U.S. under this proclamation**.  \n",
      "\n",
      "For further clarification, the traveler should consult U.S. Customs and Border Protection (CBP) or the nearest U.S. embassy/consulate.\n",
      "----------------------------\n",
      "page found : \n",
      " 1\n",
      "----------------------------\n",
      "chunk found : \n",
      " The Proclamation fully or partially suspends the entry of nationals of the following 19 countries: Afghanistan,  Myanmar (Burma), Chad, Republic of The Congo, Equatorial Guinea, Eritrea, Haiti, Iran, Libya, Somalia,  Sudan, Yemen, Burundi, Cuba, Laos, Sierra Leone, Togo, Turkmenistan, and Venezuela. The Proclamation will  be implemented by CBP and partner agencies, such as U. S.\n"
     ]
    }
   ],
   "source": [
    "print(answer['answer'][\"ai_answer\"])\n",
    "print(\"----------------------------\")\n",
    "print(\"page found : \\n\",answer['answer']['page'])\n",
    "print(\"----------------------------\")\n",
    "print(\"chunk found : \\n\",answer['answer']['top_chunk'])\n",
    "\n"
   ]
  },
  {
   "cell_type": "code",
   "execution_count": null,
   "id": "84725ea3",
   "metadata": {},
   "outputs": [
    {
     "data": {
      "text/plain": [
       "'The Proclamation fully or partially suspends the entry of nationals of the following 19 countries: Afghanistan,  Myanmar (Burma), Chad, Republic of The Congo, Equatorial Guinea, Eritrea, Haiti, Iran, Libya, Somalia,  Sudan, Yemen, Burundi, Cuba, Laos, Sierra Leone, Togo, Turkmenistan, and Venezuela. The Proclamation will  be implemented by CBP and partner agencies, such as U. S.'"
      ]
     },
     "execution_count": 27,
     "metadata": {},
     "output_type": "execute_result"
    }
   ],
   "source": []
  }
 ],
 "metadata": {
  "kernelspec": {
   "display_name": "Python 3",
   "language": "python",
   "name": "python3"
  },
  "language_info": {
   "codemirror_mode": {
    "name": "ipython",
    "version": 3
   },
   "file_extension": ".py",
   "mimetype": "text/x-python",
   "name": "python",
   "nbconvert_exporter": "python",
   "pygments_lexer": "ipython3",
   "version": "3.11.0"
  }
 },
 "nbformat": 4,
 "nbformat_minor": 5
}
