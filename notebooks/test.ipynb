{
 "cells": [
  {
   "cell_type": "code",
   "execution_count": 1,
   "id": "b521543e",
   "metadata": {},
   "outputs": [],
   "source": [
    "from openai import OpenAI\n",
    "import os \n",
    "import json \n",
    "import sys \n",
    "import requests\n",
    "sys.path.append(r\"C:\\Users\\o\\agentflightbooking\\fiancialAIAgent\")"
   ]
  },
  {
   "cell_type": "code",
   "execution_count": 5,
   "id": "daf629db",
   "metadata": {},
   "outputs": [],
   "source": [
    "from openai import OpenAI\n",
    "deepseek_client = OpenAI(\n",
    "    api_key=\"sk-3da1e2817a2942ea8809277679bb05ec\",\n",
    "    base_url=\"https://api.deepseek.com/v1\"\n",
    ")"
   ]
  },
  {
   "cell_type": "code",
   "execution_count": 6,
   "id": "32c5c4f9",
   "metadata": {},
   "outputs": [],
   "source": [
    "def reformuler_question_en_requete_usa(question, client):\n",
    "    prompt = f\"\"\"\n",
    "You are a legal research assistant for U.S. law.\n",
    "\n",
    "Your job is to turn a user's natural language question into a focused Google search query\n",
    "that finds relevant legal documents in PDF format on official U.S. government websites.\n",
    "and as output give me just the query without explanations\n",
    "\n",
    "Instructions:\n",
    "- Use only the key legal terms (state, topic, law name if known).\n",
    "- End the query with: site:.gov filetype:pdf\n",
    "- Be concise and relevant.\n",
    "- give just one query \n",
    "\n",
    "Example:\n",
    "Question: What is the law about privacy rights in California?\n",
    "Query: california privacy law site:.gov filetype:pdf\n",
    "\n",
    "---\n",
    "\n",
    "User question:\n",
    "\\\"{question}\\\"\n",
    "\n",
    "Google search query:\n",
    "\"\"\"\n",
    "\n",
    "    response = client.chat.completions.create(\n",
    "        model=\"deepseek-reasoner\",\n",
    "        messages=[{\"role\": \"user\", \"content\": prompt}],\n",
    "        temperature=0.2\n",
    "    )\n",
    "\n",
    "    return response.choices[0].message.content.strip()\n"
   ]
  },
  {
   "cell_type": "code",
   "execution_count": 7,
   "id": "aada385d",
   "metadata": {},
   "outputs": [],
   "source": [
    "question = 'Can a person who travels to cub enter the US?'\n",
    "reforulation = reformuler_question_en_requete_usa(question=question, client=deepseek_client)"
   ]
  },
  {
   "cell_type": "code",
   "execution_count": 8,
   "id": "f83457e7",
   "metadata": {},
   "outputs": [
    {
     "data": {
      "text/plain": [
       "'\"US entry restrictions Cuba travel site:.gov filetype:pdf\"'"
      ]
     },
     "execution_count": 8,
     "metadata": {},
     "output_type": "execute_result"
    }
   ],
   "source": [
    "reforulation"
   ]
  },
  {
   "cell_type": "code",
   "execution_count": 9,
   "id": "f74717d6",
   "metadata": {},
   "outputs": [],
   "source": [
    "import os\n",
    "import requests\n",
    "\n",
    "SERPAPI_API_KEY = os.getenv(\"SERA_API_KEY\")\n",
    "\n",
    "def chercher_pdfs_via_serpapi(query, api_key=SERPAPI_API_KEY):\n",
    "    url = \"https://serpapi.com/search\"\n",
    "    params = {\n",
    "        \"engine\": \"google\",\n",
    "        \"q\": query,\n",
    "        \"api_key\": api_key,\n",
    "        \"num\": 5, \n",
    "        \"filetype\": \"pdf\",\n",
    "        \"hl\": \"en\"\n",
    "    }\n",
    "    response = requests.get(url, params=params)\n",
    "    if response.status_code != 200:\n",
    "        raise Exception(f\"Erreur SerpAPI : {response.status_code} - {response.text}\")\n",
    "\n",
    "    data = response.json()\n",
    "    results = data.get(\"organic_results\", [])\n",
    "    pdf_urls = []\n",
    "    for result in results:\n",
    "        link = result.get(\"link\", \"\")\n",
    "        if link.lower().endswith(\".pdf\"):\n",
    "            pdf_urls.append(link)\n",
    "    return pdf_urls\n"
   ]
  },
  {
   "cell_type": "code",
   "execution_count": 14,
   "id": "7438325b",
   "metadata": {},
   "outputs": [],
   "source": [
    "pdf_link = chercher_pdfs_via_serpapi(query=reforulation)"
   ]
  },
  {
   "cell_type": "code",
   "execution_count": 15,
   "metadata": {},
   "outputs": [
    {
     "data": {
      "text/plain": [
       "[]"
      ]
     },
     "execution_count": 15,
     "metadata": {},
     "output_type": "execute_result"
    }
   ],
   "source": [
    "pdf_link"
   ]
  },
  {
   "cell_type": "code",
   "execution_count": 12,
   "id": "302e1090",
   "metadata": {},
   "outputs": [],
   "source": [
    "import os\n",
    "import requests\n",
    "from datetime import datetime\n",
    "\n",
    "def telecharger_pdf_dossier_temp(url_pdf, dossier_temp=\"data/temp\"):\n",
    "    os.makedirs(dossier_temp, exist_ok=True)\n",
    "    \n",
    "    timestamp = datetime.now().strftime(\"%Y%m%d_%H%M%S_%f\")\n",
    "    nom_fichier = f\"document_{timestamp}.pdf\"\n",
    "    chemin_complet = os.path.join(dossier_temp, nom_fichier)\n",
    "    \n",
    "    response = requests.get(url_pdf)\n",
    "    if response.status_code != 200:\n",
    "        raise Exception(f\"Erreur téléchargement PDF : {response.status_code}\")\n",
    "    \n",
    "    with open(chemin_complet, \"wb\") as f:\n",
    "        f.write(response.content)\n",
    "    \n",
    "    return chemin_complet\n"
   ]
  },
  {
   "cell_type": "code",
   "execution_count": 13,
   "id": "0e1fc580",
   "metadata": {},
   "outputs": [
    {
     "ename": "IndexError",
     "evalue": "list index out of range",
     "output_type": "error",
     "traceback": [
      "\u001b[1;31m---------------------------------------------------------------------------\u001b[0m",
      "\u001b[1;31mIndexError\u001b[0m                                Traceback (most recent call last)",
      "Cell \u001b[1;32mIn[13], line 1\u001b[0m\n\u001b[1;32m----> 1\u001b[0m save_pdf \u001b[38;5;241m=\u001b[39m telecharger_pdf_dossier_temp(url_pdf\u001b[38;5;241m=\u001b[39m\u001b[43mpdf_link\u001b[49m\u001b[43m[\u001b[49m\u001b[38;5;241;43m0\u001b[39;49m\u001b[43m]\u001b[49m)\n",
      "\u001b[1;31mIndexError\u001b[0m: list index out of range"
     ]
    }
   ],
   "source": [
    "save_pdf = telecharger_pdf_dossier_temp(url_pdf=pdf_link[0])"
   ]
  },
  {
   "cell_type": "code",
   "execution_count": null,
   "id": "b95ed978",
   "metadata": {},
   "outputs": [
    {
     "data": {
      "text/plain": [
       "'data/temp\\\\document_20250720_122507_153943.pdf'"
      ]
     },
     "execution_count": 140,
     "metadata": {},
     "output_type": "execute_result"
    }
   ],
   "source": [
    "save_pdf"
   ]
  },
  {
   "cell_type": "code",
   "execution_count": 141,
   "id": "4c722f77",
   "metadata": {},
   "outputs": [],
   "source": [
    "from pdf2image import convert_from_bytes\n",
    "from typing import List, Optional\n",
    "from PIL import Image\n",
    "import os\n",
    "import requests\n",
    "import json\n",
    "import pytesseract\n",
    "\n",
    "def ocr(pdf):\n",
    "    images = convert_from_bytes(pdf)\n",
    "    ocr_texts = []\n",
    "    \n",
    "    for i, image in enumerate(images):\n",
    "        image_path = f\"page_{i + 1}.png\"\n",
    "        image.save(image_path, \"PNG\")\n",
    "        print(f\"Saved {image_path}\")\n",
    "    images_path = [f\"page_{i + 1}.png\" for i in range(len(images))]\n",
    "    for image_path in images_path:\n",
    "        image = Image.open(image_path)\n",
    "        with Image.open(image_path) as image:\n",
    "                if image.mode != 'RGB':\n",
    "                    image = image.convert('RGB')\n",
    "                \n",
    "                text = pytesseract.image_to_string(\n",
    "                    image, \n",
    "                    lang='eng',\n",
    "                    config='--psm 6'  \n",
    "                )   \n",
    "                text = text.replace('\\n', ' ').strip()\n",
    "                ocr_texts.append(text)\n",
    "        os.remove(image_path)\n",
    "        print(f\"Removed {image_path}\")\n",
    "        \n",
    "    return ocr_texts"
   ]
  },
  {
   "cell_type": "code",
   "execution_count": 142,
   "id": "862a3955",
   "metadata": {},
   "outputs": [],
   "source": [
    "#read pdf \n",
    "with open(save_pdf, \"rb\") as f:\n",
    "    pdf_bytes = f.read()"
   ]
  },
  {
   "cell_type": "code",
   "execution_count": 143,
   "id": "a87499a9",
   "metadata": {},
   "outputs": [
    {
     "name": "stdout",
     "output_type": "stream",
     "text": [
      "Saved page_1.png\n",
      "Saved page_2.png\n",
      "Removed page_1.png\n",
      "Removed page_2.png\n"
     ]
    }
   ],
   "source": [
    "ocr_texts = ocr(pdf_bytes)"
   ]
  },
  {
   "cell_type": "code",
   "execution_count": 144,
   "id": "d982780f",
   "metadata": {},
   "outputs": [
    {
     "data": {
      "text/plain": [
       "[\". * oe t ” Tama ne permanent resident B4 a How do I know what —— “Lede: y) \\\\ > my responsibilities are: f — \\\\ ns « . > NY i \\\\ Pc sARTiva cu: hi \\\\ \\\\ / Aa US. Citizenship I | d ) and Immigration “| \\\\ \\\\ . | / Qs” Services X Ml Everyone in the United States must abide by U.S. law, including Traveling Outside of the United States Federal, State, and local laws and regulations. Permanent residents + A : M 4 : Permanent residence normally permits you to travel outside the who fall fo abide by the laws of the vnited Gpuates may have their United States and to return; however, there are some limitations. ide contains Sone im otant information thot ma help you Lengthy absences, particularly if they involve work or taking up 9 tect and maintai P t resident stat ly nelp y residence abroad, can lead to abandonment and loss of permanent protect and maintain your permanent resident status. residence status, or delayed eligibility for naturalization. Absence for 1 year or more can cause serious problems. Remember that, in If you are a permanent resident and intend to maintain permanent Resident Card, obtaining a visa, or using your passport from your resident status, you should file a Federal tax return with the Internal country of nationality. Revenue Service (IRS) and any applicable State, city, and local tax . . returns when required to do so. Under immigration law, a permanent rou may pe able to recuce ‘ne TSK Of abanconment Oy fing | resident who is required to file a tax return as a resident and fails to Do a isnt Md ee 4 deve onde I M Ane i fon For satey do so, or who files a nonresident alien tax form, may be considered smite i 7 silabI you Ito . ‘de BS. Lam. On on vent ry to have abandoned his or her status and may lose permanent Resid ma How “ L Got Rex on P it? ma Fermanen resident status. Please visit the IRS Web site at www..irs.gov for esident...n0W Do 2...Get a Reentry Permit: more information about taxes and tax returns. Under limited circumstances, you may be able to protect your eligibility for naturalization by filing Form N-470, Application to 6 Social S . b Preserve Residence for Naturalization Purposes, before you depart. et a Socia ecurity Num er ; ; Criminal convictions can trigger special grounds that make you Be sure to get your Social Security card. A Social Security Number inadmissible, preventing you from being re-admitted to the United is usually necessary for taxes and employment purposes. Please States after international travel. visit the Social Security Administration's Web site at www. socialsecurity.gov for more information about Social Security numbers and cards. Where can I find information about life in the United States, including information about my other rights and . ith the Selective Servi responsibilities as a permanent resident? Register With the Selective Service To help you learn about your new responsibilities, rights, and If you are a male between the ages of 18 and 26, be sure to register privileges, we have created a manual, M-618, Welcome to the with the Selective Service. Please visit the Selective Service Web site United States: A Guide for New Immigrants. It contains basic for more information at www.sss.gov. information to help you settle in the United States and find what you and your family need for everyday life. It also summarizes . important information about your legal status and about agencies Keep Your Permanent Resident Card Up to Date and organizations that provide documents or essential services you Be sure to file to renew your Permanent Resident Card before it may need. You can download Welcome to the United States: A Guide expires. For more information about renewing your Permanent for New Immigrants from our Web site at www.uscis.gov. The Resident Card, please see Customer Guide B2, guide is available in English, Spanish, Chinese, Vietnamese, Tagalog, I Am a Permanent Resident...How Do I...Renew or Replace Korean, Russian, Arabic, French, Portuguese, and Haitian Creole. My Permanent Resident Card?, or visit our Web site. B4—I am a permanent resident...How do I know what my responsibilities are? 1 M-607B (October 2013) Y\",\n",
       " 'Key Information Key USCIS forms referenced in this guide Welcome to the United States: A Guide for M-618 For more copies of this guide, or information New Immigrants about other customer guides, please visit Application for Travel Document 1-131 www.uscis.gov/howdoi. Application to Preserve Residence for N-470 Naturalization Purposes You can also visit www.uscis.gov to download forms, e-file some applications, Other U.S. Government Services—Click or Call check the status of an application, and more. General www.usa.gov 1-800-333-4636 It’s a great place to start! Information New www.welcometoUSA.gov If you don’t have Internet access at home Immigrants or work, try your local library. U.S. Dept. www.state.gov 1-202-647-6575 of State If you cannot find what you need, please call U.S. Social www.ssa.gov 1-800-772-1213 Customer Service at: 1-800-375-5283 Security Hearing Impaired TDD Customer Service: S, Selecti 1-800-767-1833 Service U.S. Internal www.irs.gov 1-800-829-1040 Revenue Service Disclaimer: This guide provides basic information to help you become generally familiar with our rules and procedures. For more information, or the law and regulations, please visit our Web site. Immigration law can be complex, and it is impossible to describe every aspect of every process. You may wish to be represented by a licensed attorney or by a nonprofit agency accredited by the Board of Immigration Appeals. B4—I am a permanent resident...How do I know what my responsibilities are? 2 M-607B (October 2013) Y']"
      ]
     },
     "execution_count": 144,
     "metadata": {},
     "output_type": "execute_result"
    }
   ],
   "source": [
    "ocr_texts"
   ]
  },
  {
   "cell_type": "code",
   "execution_count": 145,
   "id": "29fd2417",
   "metadata": {},
   "outputs": [],
   "source": [
    "def ai_agent_analyze_ocr(ocr_texts, question,client):\n",
    "\n",
    "    full_text = \"\\n\\n\".join(ocr_texts)\n",
    "    \n",
    "    prompt = f\"\"\"\n",
    "You are a legal assistant helping to analyze PDF documents extracted by OCR.\n",
    "\n",
    "User question: {question}\n",
    "\n",
    "Below is the extracted text from the PDF document (from OCR):\n",
    "\n",
    "{full_text}\n",
    "\n",
    "Please provide a clear and concise answer to the user's question based on the content of the document.\n",
    "\"\"\"\n",
    "    \n",
    "    response = client.chat.completions.create(\n",
    "        model=\"deepseek-chat\",\n",
    "        messages=[\n",
    "            {\"role\": \"system\", \"content\": \"You are a helpful legal assistant.\"},\n",
    "            {\"role\": \"user\", \"content\": prompt}\n",
    "        ],\n",
    "        temperature=0.2,\n",
    "        max_tokens=800\n",
    "    )\n",
    "    \n",
    "    answer = response.choices[0].message.content.strip()\n",
    "    return answer"
   ]
  },
  {
   "cell_type": "code",
   "execution_count": 146,
   "id": "87b0a2cc",
   "metadata": {},
   "outputs": [],
   "source": [
    "final_response = ai_agent_analyze_ocr(ocr_texts,question,client=deepseek_client)"
   ]
  },
  {
   "cell_type": "code",
   "execution_count": 147,
   "id": "9f8409e1",
   "metadata": {},
   "outputs": [
    {
     "name": "stdout",
     "output_type": "stream",
     "text": [
      "After obtaining a green card (permanent resident status), you must follow these key procedures to maintain your status and comply with U.S. requirements:  \n",
      "\n",
      "1. **Abide by U.S. Laws**  \n",
      "   - Follow all federal, state, and local laws. Criminal convictions may jeopardize your status.  \n",
      "\n",
      "2. **Tax Obligations**  \n",
      "   - File federal, state, and local tax returns as required. Filing as a \"nonresident alien\" or failing to file may be seen as abandoning your status.  \n",
      "\n",
      "3. **Travel Considerations**  \n",
      "   - Avoid lengthy absences (especially over 1 year) to prevent abandonment of status.  \n",
      "   - Obtain a **Reentry Permit** (Form I-131) before traveling abroad for extended periods.  \n",
      "   - For naturalization eligibility, file **Form N-470** (if eligible) before departing.  \n",
      "\n",
      "4. **Social Security Number**  \n",
      "   - Obtain a Social Security card for employment and tax purposes.  \n",
      "\n",
      "5. **Selective Service Registration**  \n",
      "   - Males aged 18–26 must register with the Selective Service ([www.sss.gov](https://www.sss.gov)).  \n",
      "\n",
      "6. **Renew Your Green Card**  \n",
      "   - File to renew your Permanent Resident Card before it expires.  \n",
      "\n",
      "7. **Learn About Rights/Responsibilities**  \n",
      "   - Review the guide *Welcome to the United States* (M-618) for settlement and legal information ([www.uscis.gov](https://www.uscis.gov)).  \n",
      "\n",
      "For further details, visit USCIS’s website or call 1-800-375-5283.  \n",
      "\n",
      "**Key Forms/Documents:**  \n",
      "- Reentry Permit: Form I-131  \n",
      "- Preserve Naturalization Eligibility: Form N-470  \n",
      "- Renew Green Card: Follow USCIS guidelines (Form I-90, if applicable).  \n",
      "\n",
      "This ensures compliance and protects your permanent resident status.\n"
     ]
    }
   ],
   "source": [
    "print(final_response)"
   ]
  },
  {
   "cell_type": "code",
   "execution_count": null,
   "id": "516ba2be",
   "metadata": {},
   "outputs": [
    {
     "data": {
      "application/vnd.jupyter.widget-view+json": {
       "model_id": "90a630bca6b0479bb5a134819387ada7",
       "version_major": 2,
       "version_minor": 0
      },
      "text/plain": [
       "modules.json:   0%|          | 0.00/349 [00:00<?, ?B/s]"
      ]
     },
     "metadata": {},
     "output_type": "display_data"
    },
    {
     "name": "stderr",
     "output_type": "stream",
     "text": [
      "c:\\Python311\\Lib\\site-packages\\huggingface_hub\\file_download.py:143: UserWarning: `huggingface_hub` cache-system uses symlinks by default to efficiently store duplicated files but your machine does not support them in C:\\Users\\o\\.cache\\huggingface\\hub\\models--sentence-transformers--all-mpnet-base-v2. Caching files will still work but in a degraded version that might require more space on your disk. This warning can be disabled by setting the `HF_HUB_DISABLE_SYMLINKS_WARNING` environment variable. For more details, see https://huggingface.co/docs/huggingface_hub/how-to-cache#limitations.\n",
      "To support symlinks on Windows, you either need to activate Developer Mode or to run Python as an administrator. In order to activate developer mode, see this article: https://docs.microsoft.com/en-us/windows/apps/get-started/enable-your-device-for-development\n",
      "  warnings.warn(message)\n"
     ]
    },
    {
     "data": {
      "application/vnd.jupyter.widget-view+json": {
       "model_id": "8466ca50fb34457ba5e8599bbb233c51",
       "version_major": 2,
       "version_minor": 0
      },
      "text/plain": [
       "config_sentence_transformers.json:   0%|          | 0.00/116 [00:00<?, ?B/s]"
      ]
     },
     "metadata": {},
     "output_type": "display_data"
    },
    {
     "data": {
      "application/vnd.jupyter.widget-view+json": {
       "model_id": "d5dbf8d977904c3f83a5640a577c53b3",
       "version_major": 2,
       "version_minor": 0
      },
      "text/plain": [
       "README.md: 0.00B [00:00, ?B/s]"
      ]
     },
     "metadata": {},
     "output_type": "display_data"
    },
    {
     "data": {
      "application/vnd.jupyter.widget-view+json": {
       "model_id": "bd3152680b2a4d0782818c3048ead023",
       "version_major": 2,
       "version_minor": 0
      },
      "text/plain": [
       "sentence_bert_config.json:   0%|          | 0.00/53.0 [00:00<?, ?B/s]"
      ]
     },
     "metadata": {},
     "output_type": "display_data"
    },
    {
     "data": {
      "application/vnd.jupyter.widget-view+json": {
       "model_id": "5091040974bf40ef80609b9a73cfc1c8",
       "version_major": 2,
       "version_minor": 0
      },
      "text/plain": [
       "config.json:   0%|          | 0.00/571 [00:00<?, ?B/s]"
      ]
     },
     "metadata": {},
     "output_type": "display_data"
    },
    {
     "name": "stderr",
     "output_type": "stream",
     "text": [
      "Xet Storage is enabled for this repo, but the 'hf_xet' package is not installed. Falling back to regular HTTP download. For better performance, install the package with: `pip install huggingface_hub[hf_xet]` or `pip install hf_xet`\n"
     ]
    },
    {
     "data": {
      "application/vnd.jupyter.widget-view+json": {
       "model_id": "2e290be06f5e4d11bea7a0f31dcfeadd",
       "version_major": 2,
       "version_minor": 0
      },
      "text/plain": [
       "model.safetensors:   0%|          | 0.00/438M [00:00<?, ?B/s]"
      ]
     },
     "metadata": {},
     "output_type": "display_data"
    },
    {
     "data": {
      "application/vnd.jupyter.widget-view+json": {
       "model_id": "8f282cbd679a4c089d8c8d23efe8f0cd",
       "version_major": 2,
       "version_minor": 0
      },
      "text/plain": [
       "tokenizer_config.json:   0%|          | 0.00/363 [00:00<?, ?B/s]"
      ]
     },
     "metadata": {},
     "output_type": "display_data"
    },
    {
     "data": {
      "application/vnd.jupyter.widget-view+json": {
       "model_id": "6376ad76cc3f4237887628a5493815e3",
       "version_major": 2,
       "version_minor": 0
      },
      "text/plain": [
       "vocab.txt: 0.00B [00:00, ?B/s]"
      ]
     },
     "metadata": {},
     "output_type": "display_data"
    },
    {
     "data": {
      "application/vnd.jupyter.widget-view+json": {
       "model_id": "94eb82a54b9544169eb66df8d00e92fb",
       "version_major": 2,
       "version_minor": 0
      },
      "text/plain": [
       "tokenizer.json: 0.00B [00:00, ?B/s]"
      ]
     },
     "metadata": {},
     "output_type": "display_data"
    },
    {
     "data": {
      "application/vnd.jupyter.widget-view+json": {
       "model_id": "bb18acb2afad442bb3ef8350184aca6e",
       "version_major": 2,
       "version_minor": 0
      },
      "text/plain": [
       "special_tokens_map.json:   0%|          | 0.00/239 [00:00<?, ?B/s]"
      ]
     },
     "metadata": {},
     "output_type": "display_data"
    },
    {
     "data": {
      "application/vnd.jupyter.widget-view+json": {
       "model_id": "b46f2db49991439dbd7fc297f5216073",
       "version_major": 2,
       "version_minor": 0
      },
      "text/plain": [
       "config.json:   0%|          | 0.00/190 [00:00<?, ?B/s]"
      ]
     },
     "metadata": {},
     "output_type": "display_data"
    }
   ],
   "source": [
    "from sentence_transformers import SentenceTransformer\n",
    "import numpy as np\n",
    "\n",
    "model = SentenceTransformer('sentence-transformers/all-mpnet-base-v2')\n",
    "\n",
    "def semantic_chunking(text, model, threshold=0.5):\n",
    "    sentences = text.split('.')\n",
    "    embeddings = model.encode(sentences)\n",
    "    \n",
    "    similarities = [np.dot(embeddings[i], embeddings[i+1]) \n",
    "                   for i in range(len(embeddings)-1)]\n",
    "    \n",
    "    chunks = []\n",
    "    current_chunk = sentences[0]\n",
    "    \n",
    "    for i, sim in enumerate(similarities):\n",
    "        if sim < threshold:  \n",
    "            chunks.append(current_chunk)\n",
    "            current_chunk = sentences[i+1]\n",
    "        else:\n",
    "            current_chunk += '. ' + sentences[i+1]\n",
    "    \n",
    "    chunks.append(current_chunk)\n",
    "\n",
    "    return chunks"
   ]
  },
  {
   "cell_type": "code",
   "execution_count": 148,
   "id": "ca7a41d0",
   "metadata": {},
   "outputs": [],
   "source": [
    "from sentence_transformers import SentenceTransformer\n",
    "import numpy as np\n",
    "\n",
    "model = SentenceTransformer('sentence-transformers/all-mpnet-base-v2')\n",
    "\n",
    "def semantic_chunking(text, model, threshold=0.5, min_chunk_len=3):\n",
    "\n",
    "    sentences = [s.strip() for s in text.split('.') if s.strip()]\n",
    "    if len(sentences) <= 1:\n",
    "        return sentences  \n",
    "\n",
    "    embeddings = model.encode(sentences, normalize_embeddings=True)\n",
    "\n",
    "    similarities = [np.dot(embeddings[i], embeddings[i+1]) for i in range(len(embeddings) - 1)]\n",
    "\n",
    "    chunks = []\n",
    "    current_chunk = [sentences[0]]\n",
    "\n",
    "    for i, sim in enumerate(similarities):\n",
    "        if sim < threshold and len(current_chunk) >= min_chunk_len:\n",
    "            chunks.append('. '.join(current_chunk) + '.')\n",
    "            current_chunk = [sentences[i + 1]]\n",
    "        else:\n",
    "            current_chunk.append(sentences[i + 1])\n",
    "\n",
    "    if current_chunk:\n",
    "        chunks.append('. '.join(current_chunk) + '.')\n",
    "\n",
    "    return chunks\n"
   ]
  },
  {
   "cell_type": "code",
   "execution_count": 149,
   "id": "0da94bf9",
   "metadata": {},
   "outputs": [],
   "source": [
    "ocr_text = \"\\n\".join(ocr_texts)\n",
    "chunks = semantic_chunking(ocr_text, model, threshold=0.5)\n",
    "chunk_embeddings = model.encode(chunks, normalize_embeddings=True)"
   ]
  },
  {
   "cell_type": "code",
   "execution_count": 150,
   "id": "c9ce0177",
   "metadata": {},
   "outputs": [
    {
     "data": {
      "text/plain": [
       "array([[-0.01329765,  0.01946899,  0.00136037, ..., -0.01938768,\n",
       "         0.05344909,  0.0017274 ],\n",
       "       [-0.00879923,  0.01094613,  0.00468076, ...,  0.04717553,\n",
       "         0.00682775,  0.01386935],\n",
       "       [-0.02375646,  0.04887822,  0.00183014, ...,  0.01330889,\n",
       "         0.03194562,  0.00309651],\n",
       "       ...,\n",
       "       [-0.04310621,  0.05244761, -0.00167144, ..., -0.02251903,\n",
       "        -0.00345487,  0.01512275],\n",
       "       [-0.01415339, -0.00975431, -0.02446106, ...,  0.01622579,\n",
       "         0.04869381,  0.05419089],\n",
       "       [-0.01413745, -0.02300858, -0.00287095, ...,  0.00298377,\n",
       "         0.01424597,  0.02001162]], dtype=float32)"
      ]
     },
     "execution_count": 150,
     "metadata": {},
     "output_type": "execute_result"
    }
   ],
   "source": [
    "chunk_embeddings"
   ]
  },
  {
   "cell_type": "code",
   "execution_count": 151,
   "metadata": {},
   "outputs": [],
   "source": [
    "question_embeddings = model.encode(question,normalize_embeddings=True)"
   ]
  },
  {
   "cell_type": "code",
   "execution_count": 152,
   "metadata": {},
   "outputs": [
    {
     "data": {
      "text/plain": [
       "array([-1.48115596e-02,  4.52744737e-02, -1.24023976e-02, -3.33791077e-02,\n",
       "        2.07176488e-02, -1.65982905e-03, -8.23159367e-02,  8.16058517e-02,\n",
       "        3.55976783e-02, -3.59004028e-02, -1.31830852e-02,  5.05585549e-03,\n",
       "        4.99833375e-02, -2.23481655e-03, -2.68671252e-02,  2.86673699e-02,\n",
       "       -2.84385728e-03, -5.27732223e-02, -2.20084898e-02, -7.49606714e-02,\n",
       "       -1.95205621e-02,  3.13361324e-02, -7.21903890e-03, -3.48192453e-02,\n",
       "       -4.89275716e-02, -1.72795691e-02,  2.28748340e-02,  2.89692562e-02,\n",
       "        9.41225234e-03,  2.46024108e-03,  2.23541968e-02,  3.15398239e-02,\n",
       "        3.34690809e-02, -2.33178400e-03,  1.25618624e-06,  2.36877240e-02,\n",
       "        5.74437976e-02,  2.36924626e-02,  2.11614445e-02, -1.29802979e-03,\n",
       "        9.53321531e-03, -3.96361016e-02, -2.54641250e-02, -5.34304269e-02,\n",
       "       -1.00188106e-02, -7.16801956e-02,  1.82917318e-03,  5.18859066e-02,\n",
       "       -2.63961051e-02, -1.40264779e-02, -1.38266180e-02, -1.22534201e-01,\n",
       "        2.46729329e-02, -1.62417851e-02, -3.60822212e-03,  1.93991810e-02,\n",
       "        1.32152825e-04,  3.31000797e-02, -3.24786715e-02,  8.05469230e-03,\n",
       "       -3.25701796e-02, -5.38189022e-04,  2.05890220e-02,  4.37283069e-02,\n",
       "        1.02050463e-02, -1.76193472e-02,  7.19757229e-02,  2.16187499e-02,\n",
       "       -1.73565524e-03, -4.14713919e-02, -1.89350471e-02, -5.38147194e-03,\n",
       "        2.09952723e-02,  7.00107217e-02, -2.56547779e-02, -1.61082018e-02,\n",
       "        4.53186929e-02,  5.14436699e-02,  3.49143371e-02, -3.71386705e-04,\n",
       "        3.14654857e-02, -5.31954803e-02,  7.19694933e-03, -3.67060974e-02,\n",
       "       -4.05841842e-02,  6.62441179e-03,  4.75149527e-02,  2.33837217e-02,\n",
       "       -3.09727201e-03,  3.11471261e-02,  4.27810811e-02,  1.15148686e-02,\n",
       "        2.51399670e-02, -1.77331809e-02, -1.65798590e-02,  8.36812425e-03,\n",
       "        4.15751711e-02,  5.13141863e-02, -2.14103498e-02, -1.09824007e-02,\n",
       "        1.78785808e-02,  6.84916377e-02,  3.67822275e-02,  3.68388854e-02,\n",
       "       -3.18184495e-02,  7.14378431e-02,  1.46654351e-02,  1.55407367e-02,\n",
       "       -6.16961755e-02, -3.60430330e-02, -2.87244339e-02,  5.48054017e-02,\n",
       "        1.00851562e-02,  7.22739473e-02,  2.08385829e-02,  3.52520059e-04,\n",
       "        6.94484962e-03, -1.20469723e-02,  3.03188376e-02,  5.55253215e-02,\n",
       "       -9.93590709e-03, -6.00794517e-02, -6.50498047e-02, -2.64025498e-02,\n",
       "       -1.10894740e-01,  4.03279476e-02, -2.33463906e-02, -4.03673798e-02,\n",
       "       -7.66508281e-03, -1.33994529e-02,  2.63195112e-02, -6.05580732e-02,\n",
       "       -8.20555910e-03,  1.68335740e-03, -6.37013987e-02, -1.37999782e-03,\n",
       "        5.55217005e-02,  7.39329383e-02,  9.78728756e-03, -1.04165059e-02,\n",
       "        6.32517114e-02,  3.44966725e-02,  1.15185780e-02,  4.79047522e-02,\n",
       "        3.46300080e-02,  4.95360000e-03, -1.69763211e-02, -1.45622529e-02,\n",
       "        3.33206216e-03, -2.90689021e-02, -8.06719586e-02,  2.81252433e-03,\n",
       "       -6.99795550e-03,  1.56177499e-03, -8.49356409e-03,  3.89228426e-02,\n",
       "        3.11029740e-02,  3.80548532e-03, -4.65788953e-02, -6.06042959e-05,\n",
       "       -1.06007727e-02, -5.72223552e-02,  2.74997968e-02,  3.19120660e-02,\n",
       "        2.30019391e-02, -3.90116149e-03,  3.35579179e-02, -2.31650975e-02,\n",
       "        3.21215056e-02, -1.91192627e-02,  5.11692688e-02,  7.32670957e-03,\n",
       "       -1.86133739e-02,  4.39482629e-02, -2.06057690e-02,  3.42344716e-02,\n",
       "       -5.30135073e-02, -1.20384758e-02,  5.36539219e-02, -2.96258461e-02,\n",
       "       -6.43687397e-02,  5.15599698e-02, -1.53498314e-02,  6.08179159e-03,\n",
       "       -1.63672250e-02,  2.11327597e-02, -2.95194909e-02,  1.01021945e-01,\n",
       "       -2.93344166e-02, -4.15209718e-02,  2.55783601e-03, -1.72578432e-02,\n",
       "        5.41708374e-04, -6.13809489e-02, -3.41190845e-02,  8.95652324e-02,\n",
       "        1.06563784e-01, -2.08560713e-02, -8.18116497e-03,  6.72973040e-03,\n",
       "       -6.23901710e-02,  1.14683025e-02, -8.82754195e-03,  9.06113070e-03,\n",
       "       -1.31241158e-02,  1.85400955e-02, -3.25510390e-02, -3.49712782e-02,\n",
       "       -2.93407943e-02, -1.26907472e-02, -9.97328199e-04,  2.15057433e-02,\n",
       "       -5.83136640e-02,  2.23410986e-02,  6.89402642e-03,  6.88684359e-02,\n",
       "       -9.67394095e-03,  6.44158274e-02,  3.90107520e-02,  1.02393655e-02,\n",
       "        1.34051852e-02,  5.79536054e-03, -1.46974940e-02, -6.61391485e-03,\n",
       "        2.56280638e-02, -2.39568949e-02,  1.05306618e-01, -4.26354818e-02,\n",
       "        5.36699370e-02, -7.01377448e-03,  2.66737286e-02, -5.44323996e-02,\n",
       "        3.13246101e-02,  1.50337992e-02, -4.52918001e-02,  6.43005893e-02,\n",
       "        1.88840237e-02, -1.11649511e-02, -5.07745240e-03,  4.17841552e-03,\n",
       "        3.41062322e-02, -2.92412210e-02, -1.73328258e-02,  2.77491305e-02,\n",
       "        4.17955779e-02,  2.03767698e-02, -3.10225934e-02, -1.31959440e-02,\n",
       "        7.52161350e-03,  1.73015408e-02,  5.23872897e-02,  2.71092076e-02,\n",
       "       -1.87338386e-02, -3.98362987e-02,  7.63179921e-03, -1.96824539e-02,\n",
       "       -2.53861565e-02,  4.44035120e-02, -8.63447506e-03, -3.38766873e-02,\n",
       "        4.35642302e-02,  2.32303273e-02, -4.86754254e-03,  1.34895532e-03,\n",
       "        7.55409747e-02,  2.77968161e-02,  9.17290151e-02,  2.58636102e-03,\n",
       "       -5.74695505e-02,  2.20523104e-02,  1.67792179e-02,  2.69648302e-02,\n",
       "       -2.81927118e-04,  1.50380954e-02, -1.22555438e-02, -2.06716601e-02,\n",
       "       -2.58518141e-02, -5.31598367e-03, -3.83461937e-02,  5.31351333e-03,\n",
       "        8.90394580e-03,  5.38204871e-02,  7.33228251e-02,  2.21966822e-02,\n",
       "        4.77043577e-02,  8.29731952e-03, -7.34717250e-02, -1.12234699e-02,\n",
       "       -4.17771824e-02, -1.20648578e-01,  5.55251539e-02,  5.67765199e-02,\n",
       "       -7.64616241e-04, -3.48964408e-02, -9.83593054e-03,  4.20669615e-02,\n",
       "        4.77988049e-02, -2.36090757e-02,  1.22352280e-02,  8.94421712e-02,\n",
       "        3.29941437e-02,  1.84642954e-03, -3.75178792e-02, -4.60030250e-02,\n",
       "        5.92562631e-02, -8.08419380e-03,  2.72132065e-02,  3.24017666e-02,\n",
       "       -1.74194276e-02,  1.89636066e-03, -3.42994221e-02,  4.11984324e-02,\n",
       "        6.88145831e-02,  9.41642001e-03, -2.39428249e-03,  3.70206684e-02,\n",
       "        4.76047397e-03, -2.18200665e-02,  8.57154187e-03, -3.15273483e-03,\n",
       "       -1.01161411e-03,  4.54250947e-02, -5.80399530e-03, -1.78850070e-02,\n",
       "       -1.64229434e-03, -5.80028333e-02,  1.06134368e-02, -2.86716432e-03,\n",
       "        1.12804007e-02,  1.97236948e-02,  6.63710982e-02, -3.04306000e-02,\n",
       "        1.71613088e-03,  4.15987745e-02,  3.32683213e-02, -2.70930454e-02,\n",
       "        2.81851419e-04, -3.31774019e-02, -8.87594465e-03,  5.42913843e-03,\n",
       "       -3.71187441e-02,  2.86883935e-02,  1.18134189e-02,  4.03147005e-02,\n",
       "        6.67730626e-03,  5.07146008e-02, -6.84350170e-03, -6.94752904e-03,\n",
       "        5.01686856e-02, -5.26443636e-03,  2.73026451e-02,  3.60313250e-04,\n",
       "       -1.81974168e-03, -9.89248604e-03,  6.00768905e-03,  8.43860656e-02,\n",
       "       -3.40390094e-02,  4.03721742e-02,  1.78462081e-03,  1.25464005e-03,\n",
       "       -4.00783168e-03, -1.00789562e-01, -5.25768241e-03, -2.26427782e-02,\n",
       "       -2.30069757e-02, -6.23309091e-02,  4.91973236e-02, -6.41974108e-03,\n",
       "       -6.24203607e-02,  4.84279776e-03, -3.48998904e-02,  3.61580634e-03,\n",
       "        1.31319435e-02,  1.30561376e-02, -3.07984389e-02, -1.67721435e-02,\n",
       "       -3.60990204e-02, -4.67013605e-02,  2.65161064e-03,  8.87133554e-03,\n",
       "       -1.21870218e-02, -3.91007550e-02,  3.99532542e-02, -3.52835506e-02,\n",
       "       -1.16893947e-01, -7.95445871e-03,  1.00117505e-01,  5.99776115e-03,\n",
       "       -5.38547598e-02, -1.77563797e-03, -1.12953279e-02, -7.43441209e-02,\n",
       "       -4.87549752e-02,  9.67302248e-02, -1.24596274e-02,  7.85488859e-02,\n",
       "       -3.46417986e-02, -4.45113853e-02, -3.18117030e-02, -1.36197489e-02,\n",
       "       -5.36423884e-02,  3.55218984e-02,  9.44283698e-03,  1.78800104e-03,\n",
       "       -9.60378647e-02,  1.36503419e-02,  3.30528095e-02,  2.71238256e-02,\n",
       "       -1.62557345e-02, -4.08383049e-02,  3.30113731e-02, -2.04071794e-02,\n",
       "        4.86531947e-03, -3.24447788e-02, -4.45576124e-02, -2.38974579e-02,\n",
       "        1.38008446e-02,  3.19623277e-02, -8.49528983e-03, -6.15634024e-02,\n",
       "       -1.12210633e-03, -1.49699638e-03, -1.62431821e-02, -1.20893689e-02,\n",
       "        1.41893448e-02,  2.23526973e-02, -1.08806938e-02, -2.74240877e-02,\n",
       "        1.89324673e-02,  1.66783463e-02,  2.31766347e-02,  9.95363295e-03,\n",
       "       -3.55658419e-02,  5.84582612e-02, -1.80062652e-02, -7.27771767e-05,\n",
       "        4.74746292e-03, -1.95428301e-02, -9.41625517e-03, -1.18445493e-02,\n",
       "        6.02743216e-02,  1.29223494e-02, -3.23342085e-02,  2.45066211e-02,\n",
       "        1.76509079e-02,  1.37027083e-02, -2.48140469e-03,  1.41350261e-03,\n",
       "        6.74916208e-02, -4.45836894e-02,  1.10251782e-02,  4.78560291e-02,\n",
       "       -9.09762233e-02, -3.54539230e-02,  2.79958230e-02, -4.15879376e-02,\n",
       "        2.84036454e-02,  7.27815777e-02, -3.87480599e-03, -3.18241678e-02,\n",
       "       -2.58251932e-02,  1.14093237e-02, -6.34345179e-03, -3.88866886e-02,\n",
       "       -2.46571563e-02, -5.43877706e-02,  5.27781248e-02, -7.75997266e-02,\n",
       "       -1.21085262e-02, -2.63921954e-02,  4.33384292e-02, -2.98250187e-02,\n",
       "       -2.92256405e-03,  6.47763088e-02,  2.16402975e-03,  7.79439649e-03,\n",
       "       -1.97735112e-02, -2.98267305e-02, -5.03449030e-02, -2.19798721e-02,\n",
       "        6.93763867e-02,  3.64563055e-02, -2.75887940e-02, -3.92767861e-02,\n",
       "       -9.58564784e-03, -4.74270582e-02, -1.18170381e-02, -1.72829488e-03,\n",
       "       -1.60495806e-02,  3.75661138e-03, -4.22800379e-03, -1.73155405e-02,\n",
       "       -1.24227628e-02, -1.82149354e-02,  1.23204198e-02, -5.47594316e-02,\n",
       "       -5.68443909e-02, -7.37533048e-02,  1.04792574e-02,  7.38037284e-03,\n",
       "        2.16723196e-02,  2.31920229e-03,  4.68597654e-03,  2.50483099e-02,\n",
       "        4.26272787e-02, -7.96477892e-04, -5.82012944e-02,  3.17845978e-02,\n",
       "       -7.36717787e-03,  3.68528301e-03,  3.52106579e-02,  4.72759902e-02,\n",
       "        5.09188585e-02, -2.66049281e-02, -2.30272766e-02,  1.14416154e-02,\n",
       "        5.17990217e-02,  1.35236187e-02, -2.16132849e-02,  1.00777135e-03,\n",
       "       -1.56907383e-02, -2.74571910e-04, -2.85093468e-02, -4.25352342e-02,\n",
       "       -7.13909231e-03, -2.71522999e-02,  1.40194492e-02, -2.17308570e-02,\n",
       "        1.38696721e-02,  2.02895217e-02, -3.89006101e-02, -5.27640358e-02,\n",
       "        1.54172874e-03,  1.12440623e-02,  3.05227954e-02, -2.91020833e-02,\n",
       "       -2.30297577e-02, -4.08042185e-02, -7.78141692e-02, -5.18259145e-02,\n",
       "        5.26830740e-03, -4.74714376e-02, -3.15627381e-02,  7.82400817e-02,\n",
       "        3.51650901e-02, -1.58843584e-02, -1.24134654e-02,  6.92658010e-04,\n",
       "       -5.56948110e-02,  3.15762535e-02, -4.35847454e-02,  1.77576684e-03,\n",
       "       -3.68764773e-02, -1.48484148e-02,  5.02050444e-02, -3.62181858e-33,\n",
       "       -7.91107491e-02, -4.86295782e-02,  4.18404378e-02, -2.31670514e-02,\n",
       "       -2.25907564e-02,  3.41660939e-02,  1.38941137e-02,  2.11799610e-02,\n",
       "        1.24742929e-02,  6.75981725e-03,  2.43772846e-02, -1.74280740e-02,\n",
       "        2.93543134e-02, -3.37959938e-02, -4.92124781e-02,  4.42342088e-02,\n",
       "        1.27010858e-02,  1.64459180e-02,  3.54380384e-02,  1.31641664e-02,\n",
       "       -5.98722436e-02, -6.51593879e-03,  4.82995994e-03,  1.65857598e-02,\n",
       "       -7.29235560e-02,  5.32634929e-02, -1.46012818e-02, -3.24199386e-02,\n",
       "       -6.19201921e-02,  2.04423852e-02, -4.39198175e-03, -3.71993496e-03,\n",
       "       -2.21060254e-02, -2.94430628e-02,  6.73007034e-03,  2.87191961e-02,\n",
       "       -5.05198985e-02,  5.51204644e-02, -4.47386131e-02, -1.52521860e-02,\n",
       "       -4.69414145e-02, -6.38787597e-02, -4.05749679e-02, -3.55302617e-02,\n",
       "       -3.05477958e-02,  5.52379824e-02,  1.15764616e-02,  8.69296398e-03,\n",
       "        4.14220169e-02, -5.98628889e-04, -5.08432044e-04,  5.16183255e-03,\n",
       "        1.60022993e-02,  6.36132360e-02, -1.58098936e-02, -2.40742471e-02,\n",
       "        1.51695905e-03, -2.01550443e-02,  1.09921498e-02, -8.22234340e-03,\n",
       "       -4.22264216e-03, -3.58395465e-02,  7.74380169e-04,  8.12008977e-03,\n",
       "       -5.78308990e-03, -6.12515993e-02,  9.14137904e-03,  1.98221393e-02,\n",
       "       -3.78505252e-02,  4.56162822e-03, -7.16275023e-03, -4.03809436e-02,\n",
       "       -7.80517980e-02,  2.73872656e-03, -1.27796866e-02,  4.59155440e-03,\n",
       "        2.43723523e-02,  2.20952071e-02,  3.58749032e-02,  7.66932499e-03,\n",
       "       -2.67200060e-02,  6.39478564e-02,  3.91652174e-02,  4.27892990e-02,\n",
       "       -4.79664691e-02, -5.26855774e-02, -1.75387040e-02,  1.86152775e-02,\n",
       "        2.12225057e-02,  5.09149441e-03,  1.42911440e-02, -4.32189405e-02,\n",
       "        5.48945256e-02, -4.96125408e-02, -8.83908011e-04, -3.37561220e-02,\n",
       "        1.21900076e-02,  2.64150556e-02,  5.74002648e-03,  8.81019160e-02,\n",
       "        4.77435701e-02, -5.64731136e-02, -4.42181434e-03, -4.72027101e-02,\n",
       "       -9.83415172e-03,  2.24644691e-02, -9.08395834e-03, -2.21414529e-02,\n",
       "        3.25654931e-02,  1.18737388e-02, -9.68950521e-03,  3.02697569e-02,\n",
       "       -4.98605473e-03,  1.97949838e-02, -4.40235920e-02,  1.17112538e-02,\n",
       "       -8.14116467e-03,  1.79570448e-03,  3.78423482e-02,  1.64493378e-02,\n",
       "       -4.82414812e-02, -2.54638642e-02,  2.29742769e-02, -2.29771715e-02,\n",
       "       -3.70795280e-02, -2.12966045e-03,  4.11818214e-02,  1.24345080e-03,\n",
       "        2.70036366e-02,  2.71520689e-02,  3.04656860e-04, -4.15389473e-03,\n",
       "        1.73983324e-07, -1.05112791e-02, -1.55059630e-02,  2.07022894e-02,\n",
       "       -1.52819222e-02,  1.03296069e-02, -3.33799087e-02, -2.05049068e-02,\n",
       "       -1.05218142e-02,  2.62126401e-02, -3.18873487e-02, -1.97688602e-02,\n",
       "        1.05704302e-02,  2.10651215e-02,  2.32921913e-02, -1.01221770e-01,\n",
       "       -3.22441049e-02,  5.80969900e-02,  3.76458988e-02,  3.16081457e-02,\n",
       "        4.92460765e-02, -9.41611081e-02,  3.27068903e-02, -5.33584133e-02,\n",
       "       -9.62182414e-03, -3.09293363e-02,  4.83565778e-02,  2.22639740e-02,\n",
       "        5.75226685e-03, -7.91319758e-02, -7.86244683e-03,  2.34185141e-02,\n",
       "       -3.26268449e-02,  6.55020354e-03,  4.08826247e-02, -1.46662286e-02,\n",
       "       -3.61751392e-02,  4.32250090e-02,  2.69997604e-02,  2.29168385e-02,\n",
       "        3.31008099e-02,  1.61980800e-02, -3.37301847e-03,  1.13903498e-02,\n",
       "       -6.79375883e-03, -9.16514359e-03, -2.01389263e-03,  1.03173894e-03,\n",
       "        4.12677526e-02,  3.56808007e-02, -3.79720554e-02, -5.37583902e-02,\n",
       "        1.99591145e-02, -4.99760956e-02,  7.42852315e-02,  5.34137078e-02,\n",
       "        4.45764661e-02, -2.02057208e-03,  5.95411099e-02,  2.07741875e-02,\n",
       "        7.51664583e-03, -3.20211463e-02,  4.98753600e-02,  1.32812932e-02,\n",
       "       -6.06282521e-03, -2.11581513e-02,  3.23024467e-02, -1.79352649e-02,\n",
       "        1.33647934e-34, -2.50440333e-02, -7.07172323e-03, -4.87679131e-02,\n",
       "        8.15242808e-03,  3.28455903e-02,  6.27220841e-03,  9.10285208e-03,\n",
       "       -4.22426593e-03,  4.67248938e-05,  1.74066201e-02,  3.02159935e-02],\n",
       "      dtype=float32)"
      ]
     },
     "execution_count": 152,
     "metadata": {},
     "output_type": "execute_result"
    }
   ],
   "source": [
    "question_embeddings"
   ]
  },
  {
   "cell_type": "code",
   "execution_count": 153,
   "id": "bd83747b",
   "metadata": {},
   "outputs": [],
   "source": [
    "from sklearn.metrics.pairwise import cosine_similarity\n",
    "\n",
    "def retrieve_top_k_chunks(question_embedding, chunks, chunk_embeddings, k=3):\n",
    "    sims = cosine_similarity([question_embedding], chunk_embeddings)[0]\n",
    "    top_indices = sims.argsort()[-k:][::-1]\n",
    "    return [(chunks[i], i, sims[i]) for i in top_indices]\n"
   ]
  },
  {
   "cell_type": "code",
   "execution_count": 154,
   "id": "6ae575b3",
   "metadata": {},
   "outputs": [],
   "source": [
    "def trouver_page_du_chunk(chunk, ocr_texts):\n",
    "    for i, page_text in enumerate(ocr_texts):\n",
    "        if chunk.strip()[:50] in page_text:\n",
    "            return i + 1  \n",
    "    return None\n"
   ]
  },
  {
   "cell_type": "code",
   "execution_count": 155,
   "id": "012a013e",
   "metadata": {},
   "outputs": [
    {
     "name": "stdout",
     "output_type": "stream",
     "text": [
      "Chunk 12 (score: 0.56) - Page 1:\n",
      "\n",
      "gov. The Resident Card, please see Customer Guide B2, guide is available in English, Spanish, Chinese, Vietnamese, Tagalog, I Am a Permanent Resident. How Do I....\n",
      "Chunk 15 (score: 0.50) - Page 2:\n",
      "\n",
      "Application to Preserve Residence for N-470 Naturalization Purposes You can also visit www. uscis. gov to download forms, e-file some applications, Other U....\n",
      "Chunk 24 (score: 0.47) - Page inconnue:\n",
      "\n",
      "B4—I am a permanent resident. How do I know what my responsibilities are? 2 M-607B (October 2013) Y....\n"
     ]
    }
   ],
   "source": [
    "top_chunks = retrieve_top_k_chunks(question_embeddings, chunks, chunk_embeddings, k=3)\n",
    "\n",
    "for chunk, idx, score in top_chunks:\n",
    "    page = trouver_page_du_chunk(chunk, ocr_texts)\n",
    "    print(f\"Chunk {idx} (score: {score:.2f}) - Page {page if page else 'inconnue'}:\\n\")\n",
    "    print(chunk[:500] + \"...\")\n"
   ]
  }
 ],
 "metadata": {
  "kernelspec": {
   "display_name": "Python 3",
   "language": "python",
   "name": "python3"
  },
  "language_info": {
   "codemirror_mode": {
    "name": "ipython",
    "version": 3
   },
   "file_extension": ".py",
   "mimetype": "text/x-python",
   "name": "python",
   "nbconvert_exporter": "python",
   "pygments_lexer": "ipython3",
   "version": "3.11.0"
  }
 },
 "nbformat": 4,
 "nbformat_minor": 5
}
