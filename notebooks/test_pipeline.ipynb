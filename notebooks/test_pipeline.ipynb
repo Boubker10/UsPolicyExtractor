{
 "cells": [
  {
   "cell_type": "code",
   "execution_count": 1,
   "id": "d71e37ac",
   "metadata": {},
   "outputs": [],
   "source": [
    "import sys \n",
    "sys.path.append(r\"C:\\Users\\o\\agentflightbooking\\fiancialAIAgent\")"
   ]
  },
  {
   "cell_type": "code",
   "execution_count": 2,
   "id": "061a8a8d",
   "metadata": {},
   "outputs": [
    {
     "name": "stderr",
     "output_type": "stream",
     "text": [
      "INFO:sentence_transformers.SentenceTransformer:Use pytorch device_name: cpu\n",
      "INFO:sentence_transformers.SentenceTransformer:Load pretrained SentenceTransformer: sentence-transformers/all-mpnet-base-v2\n",
      "INFO:sentence_transformers.SentenceTransformer:Use pytorch device_name: cpu\n",
      "INFO:sentence_transformers.SentenceTransformer:Load pretrained SentenceTransformer: sentence-transformers/all-mpnet-base-v2\n",
      "INFO:httpx:HTTP Request: POST https://api.deepseek.com/v1/chat/completions \"HTTP/1.1 200 OK\"\n",
      "INFO:src.main:[ReformulateQuestion] Reformulated query: cuba travel entry us regulations site:.gov filetype:pdf\n",
      "INFO:src.main:[SearchPDFs] Found URLs: ['https://www.cbp.gov/sites/default/files/2025-06/CLP%20Bulletin%20%20Presidential%20Proclamation%20Restricting%20Entry%20Final.pdf', 'https://www.congress.gov/crs_external_products/IF/PDF/IF10045/IF10045.66.pdf', 'https://travel.state.gov/content/dam/visas/iv-dv-supplemental/HAV%20-%20Havana-5-20-2024.pdf']\n",
      "INFO:src.main:[DownloadPDF] PDF downloaded at: data/temp\\document_20250720_134431_468001.pdf\n"
     ]
    },
    {
     "name": "stdout",
     "output_type": "stream",
     "text": [
      "Saved page_1.png\n",
      "Saved page_2.png\n",
      "Removed page_1.png\n"
     ]
    },
    {
     "name": "stderr",
     "output_type": "stream",
     "text": [
      "INFO:src.main:[OCRExtractor] Extracted OCR text from 2 pages.\n"
     ]
    },
    {
     "name": "stdout",
     "output_type": "stream",
     "text": [
      "Removed page_2.png\n"
     ]
    },
    {
     "name": "stderr",
     "output_type": "stream",
     "text": [
      "INFO:httpx:HTTP Request: POST https://api.deepseek.com/v1/chat/completions \"HTTP/1.1 200 OK\"\n",
      "INFO:src.main:[AIAgentAnswer] AI answer: Based on the extracted text from the PDF document, the answer to the user's question is as follows:\n",
      "\n",
      "**A person who travels to Cuba may be restricted from entering the U.S. under the Presidential Proclamation effective June 9, 2025, unless they qualify for an exception.**  \n",
      "\n",
      "### Key Points:  \n",
      "1. **Restriction**: Cuba is one of the 19 countries whose nationals are subject to entry suspensions under the Proclamation.  \n",
      "2. **Exceptions**: The person may still enter the U.S. if they:  \n",
      "   - Have a valid U.S. visa issued **on or before June 8, 2025**.  \n",
      "   - Are a lawful permanent resident (LPR) of the U.S.  \n",
      "   - Are a dual national traveling on a passport from a non-restricted country.  \n",
      "   - Fall under other exempt categories (e.g., certain visa holders like diplomats, athletes, or immediate family immigrants).  \n",
      "\n",
      "### Action Required:  \n",
      "The traveler should verify their visa status or eligibility for an exception before attempting entry. If uncertain, they should contact the relevant **Customs and Border Protection (CBP) Regional Carrier Liaison Group** for guidance.  \n",
      "\n",
      "*(Note: This analysis assumes the Proclamation is in effect as of the document’s date. Always check for updates to U.S. immigration policies.)*\n"
     ]
    },
    {
     "data": {
      "application/vnd.jupyter.widget-view+json": {
       "model_id": "462c44cc31fe477b8f43f3269d345349",
       "version_major": 2,
       "version_minor": 0
      },
      "text/plain": [
       "Batches:   0%|          | 0/1 [00:00<?, ?it/s]"
      ]
     },
     "metadata": {},
     "output_type": "display_data"
    },
    {
     "data": {
      "application/vnd.jupyter.widget-view+json": {
       "model_id": "851e733946ef48e4bcce86c970a800cc",
       "version_major": 2,
       "version_minor": 0
      },
      "text/plain": [
       "Batches:   0%|          | 0/1 [00:00<?, ?it/s]"
      ]
     },
     "metadata": {},
     "output_type": "display_data"
    },
    {
     "data": {
      "application/vnd.jupyter.widget-view+json": {
       "model_id": "1f2f090bf8fe49a7ac07b54f688a792e",
       "version_major": 2,
       "version_minor": 0
      },
      "text/plain": [
       "Batches:   0%|          | 0/1 [00:00<?, ?it/s]"
      ]
     },
     "metadata": {},
     "output_type": "display_data"
    },
    {
     "name": "stderr",
     "output_type": "stream",
     "text": [
      "INFO:src.main:[RAGRetriever] Top chunk: The Proclamation fully or partially suspends the entry of nationals of the following 19 countries: Afghanistan,  Myanmar (Burma), Chad, Republic of The Congo, Equatorial Guinea, Eritrea, Haiti, Iran, Libya, Somalia,  Sudan, Yemen, Burundi, Cuba, Laos, Sierra Leone, Togo, Turkmenistan, and Venezuela. The Proclamation will  be implemented by CBP and partner agencies, such as U. S.\n",
      "INFO:src.main:[RAGRetriever] Found on page: 1\n"
     ]
    },
    {
     "name": "stdout",
     "output_type": "stream",
     "text": [
      "Final Answer: Based on the extracted text from the PDF document, the answer to the user's question is as follows:\n",
      "\n",
      "**A person who travels to Cuba may be restricted from entering the U.S. under the Presidential Proclamation effective June 9, 2025, unless they qualify for an exception.**  \n",
      "\n",
      "### Key Points:  \n",
      "1. **Restriction**: Cuba is one of the 19 countries whose nationals are subject to entry suspensions under the Proclamation.  \n",
      "2. **Exceptions**: The person may still enter the U.S. if they:  \n",
      "   - Have a valid U.S. visa issued **on or before June 8, 2025**.  \n",
      "   - Are a lawful permanent resident (LPR) of the U.S.  \n",
      "   - Are a dual national traveling on a passport from a non-restricted country.  \n",
      "   - Fall under other exempt categories (e.g., certain visa holders like diplomats, athletes, or immediate family immigrants).  \n",
      "\n",
      "### Action Required:  \n",
      "The traveler should verify their visa status or eligibility for an exception before attempting entry. If uncertain, they should contact the relevant **Customs and Border Protection (CBP) Regional Carrier Liaison Group** for guidance.  \n",
      "\n",
      "*(Note: This analysis assumes the Proclamation is in effect as of the document’s date. Always check for updates to U.S. immigration policies.)*\n",
      "Relevant Chunk: The Proclamation fully or partially suspends the entry of nationals of the following 19 countries: Afghanistan,  Myanmar (Burma), Chad, Republic of The Congo, Equatorial Guinea, Eritrea, Haiti, Iran, Libya, Somalia,  Sudan, Yemen, Burundi, Cuba, Laos, Sierra Leone, Togo, Turkmenistan, and Venezuela. The Proclamation will  be implemented by CBP and partner agencies, such as U. S.\n",
      "Found on Page: 1\n"
     ]
    }
   ],
   "source": [
    "from src.main import build_pipeline\n",
    "question = \"Can a person who travels to cuba can enter the US?\"\n",
    "\n",
    "pipeline = build_pipeline(question)\n",
    "result = pipeline.fit_transform(None)\n",
    "\n",
    "print(\"Final Answer:\", result[\"ai_answer\"])\n",
    "print(\"Relevant Chunk:\", result[\"top_chunk\"])\n",
    "print(\"Found on Page:\", result[\"page\"])\n"
   ]
  },
  {
   "cell_type": "code",
   "execution_count": null,
   "id": "7c73b9d9",
   "metadata": {},
   "outputs": [],
   "source": []
  }
 ],
 "metadata": {
  "kernelspec": {
   "display_name": "Python 3",
   "language": "python",
   "name": "python3"
  },
  "language_info": {
   "codemirror_mode": {
    "name": "ipython",
    "version": 3
   },
   "file_extension": ".py",
   "mimetype": "text/x-python",
   "name": "python",
   "nbconvert_exporter": "python",
   "pygments_lexer": "ipython3",
   "version": "3.11.0"
  }
 },
 "nbformat": 4,
 "nbformat_minor": 5
}
