{
 "cells": [
  {
   "cell_type": "code",
   "execution_count": 1,
   "id": "d71e37ac",
   "metadata": {},
   "outputs": [],
   "source": [
    "import sys \n",
    "sys.path.append(r\"C:\\Users\\o\\agentflightbooking\\fiancialAIAgent\")"
   ]
  },
  {
   "cell_type": "code",
   "execution_count": 2,
   "id": "061a8a8d",
   "metadata": {},
   "outputs": [
    {
     "name": "stderr",
     "output_type": "stream",
     "text": [
      "INFO:sentence_transformers.SentenceTransformer:Use pytorch device_name: cpu\n",
      "INFO:sentence_transformers.SentenceTransformer:Load pretrained SentenceTransformer: sentence-transformers/all-mpnet-base-v2\n",
      "INFO:sentence_transformers.SentenceTransformer:Use pytorch device_name: cpu\n",
      "INFO:sentence_transformers.SentenceTransformer:Load pretrained SentenceTransformer: sentence-transformers/all-mpnet-base-v2\n",
      "INFO:httpx:HTTP Request: POST https://api.deepseek.com/v1/chat/completions \"HTTP/1.1 200 OK\"\n",
      "INFO:src.main:[ReformulateQuestion] Reformulated query: cuba travel restrictions U.S. entry regulations site:.gov filetype:pdf\n"
     ]
    },
    {
     "name": "stdout",
     "output_type": "stream",
     "text": [
      "Ignored https://www.congress.gov/crs_external_products/RL/PDF/RL31139/RL31139.94.pdf (too many pages or unreadable)\n",
      "https://www.congress.gov/crs_external_products/IF/PDF/IF10045/IF10045.67.pdf (3 pages)\n"
     ]
    },
    {
     "name": "stderr",
     "output_type": "stream",
     "text": [
      "INFO:src.main:[SearchPDFs] Found URLs: ['https://www.congress.gov/crs_external_products/IF/PDF/IF10045/IF10045.67.pdf']\n",
      "INFO:src.main:[DownloadPDF] PDF downloaded at: data/temp\\document_20250720_140958_947406.pdf\n"
     ]
    },
    {
     "name": "stdout",
     "output_type": "stream",
     "text": [
      "Ignored https://travel.state.gov/content/dam/visas/iv-dv-supplemental/HAV%20-%20Havana-5-20-2024.pdf (too many pages or unreadable)\n",
      "Saved page_1.png\n",
      "Saved page_2.png\n",
      "Saved page_3.png\n",
      "Removed page_1.png\n",
      "Removed page_2.png\n"
     ]
    },
    {
     "name": "stderr",
     "output_type": "stream",
     "text": [
      "INFO:src.main:[OCRExtractor] Extracted OCR text from 3 pages.\n"
     ]
    },
    {
     "name": "stdout",
     "output_type": "stream",
     "text": [
      "Removed page_3.png\n"
     ]
    },
    {
     "name": "stderr",
     "output_type": "stream",
     "text": [
      "INFO:httpx:HTTP Request: POST https://api.deepseek.com/v1/chat/completions \"HTTP/1.1 200 OK\"\n",
      "INFO:src.main:[AIAgentAnswer] AI answer: Yes, a person who travels to Cuba can enter the United States, but there are restrictions and requirements in place. The Trump Administration rolled back some of the Obama-era policies that had eased travel to Cuba, including terminating cruise ship travel and U.S. flights to Cuban cities other than Havana. Additionally, the Treasury Department eliminated people-to-people educational travel and imposed caps on family remittances. \n",
      "\n",
      "However, certain categories of travel to Cuba are still permitted, such as family visits, official government business, journalistic activity, professional research, and religious activities, among others. Travelers must comply with these categories and may need to obtain the necessary licenses or authorizations. \n",
      "\n",
      "It's important to check the most current U.S. government regulations before planning travel to Cuba, as policies can change. The document also mentions that visa restrictions have been imposed on certain Cuban officials and individuals associated with the Cuban government, but these do not generally apply to ordinary travelers. \n",
      "\n",
      "For the most accurate and up-to-date information, consult the U.S. Department of the Treasury's Office of Foreign Assets Control (OFAC) and the U.S. Department of State.\n"
     ]
    },
    {
     "data": {
      "application/vnd.jupyter.widget-view+json": {
       "model_id": "d92a8e070ce046d9be5770f824df868f",
       "version_major": 2,
       "version_minor": 0
      },
      "text/plain": [
       "Batches:   0%|          | 0/7 [00:00<?, ?it/s]"
      ]
     },
     "metadata": {},
     "output_type": "display_data"
    },
    {
     "data": {
      "application/vnd.jupyter.widget-view+json": {
       "model_id": "9ecf34a0586c4731b04fceac2c0aafa2",
       "version_major": 2,
       "version_minor": 0
      },
      "text/plain": [
       "Batches:   0%|          | 0/3 [00:00<?, ?it/s]"
      ]
     },
     "metadata": {},
     "output_type": "display_data"
    },
    {
     "data": {
      "application/vnd.jupyter.widget-view+json": {
       "model_id": "abb8d1cbd6fc415785830200bc27093c",
       "version_major": 2,
       "version_minor": 0
      },
      "text/plain": [
       "Batches:   0%|          | 0/1 [00:00<?, ?it/s]"
      ]
     },
     "metadata": {},
     "output_type": "display_data"
    },
    {
     "name": "stderr",
     "output_type": "stream",
     "text": [
      "INFO:src.main:[RAGRetriever] Top chunk: Sullivan, Specialist in Latin American Affairs prohibited from entering the United States pursuant to IF 10045 https://crsreports. congress. gov Cuba: U.\n",
      "INFO:src.main:[RAGRetriever] Found on page: 2\n"
     ]
    },
    {
     "name": "stdout",
     "output_type": "stream",
     "text": [
      "Final Answer: Yes, a person who travels to Cuba can enter the United States, but there are restrictions and requirements in place. The Trump Administration rolled back some of the Obama-era policies that had eased travel to Cuba, including terminating cruise ship travel and U.S. flights to Cuban cities other than Havana. Additionally, the Treasury Department eliminated people-to-people educational travel and imposed caps on family remittances. \n",
      "\n",
      "However, certain categories of travel to Cuba are still permitted, such as family visits, official government business, journalistic activity, professional research, and religious activities, among others. Travelers must comply with these categories and may need to obtain the necessary licenses or authorizations. \n",
      "\n",
      "It's important to check the most current U.S. government regulations before planning travel to Cuba, as policies can change. The document also mentions that visa restrictions have been imposed on certain Cuban officials and individuals associated with the Cuban government, but these do not generally apply to ordinary travelers. \n",
      "\n",
      "For the most accurate and up-to-date information, consult the U.S. Department of the Treasury's Office of Foreign Assets Control (OFAC) and the U.S. Department of State.\n",
      "Relevant Chunk: Sullivan, Specialist in Latin American Affairs prohibited from entering the United States pursuant to IF 10045 https://crsreports. congress. gov Cuba: U.\n",
      "Found on Page: 2\n"
     ]
    }
   ],
   "source": [
    "from src.main import build_pipeline\n",
    "question = \"Can a person who travels to cuba enter the US?\"\n",
    "\n",
    "pipeline = build_pipeline(question)\n",
    "result = pipeline.fit_transform(None)\n",
    "\n",
    "print(\"Final Answer:\", result[\"ai_answer\"])\n",
    "print(\"Relevant Chunk:\", result[\"top_chunk\"])\n",
    "print(\"Found on Page:\", result[\"page\"])\n"
   ]
  },
  {
   "cell_type": "code",
   "execution_count": null,
   "id": "7c73b9d9",
   "metadata": {},
   "outputs": [],
   "source": []
  }
 ],
 "metadata": {
  "kernelspec": {
   "display_name": "Python 3",
   "language": "python",
   "name": "python3"
  },
  "language_info": {
   "codemirror_mode": {
    "name": "ipython",
    "version": 3
   },
   "file_extension": ".py",
   "mimetype": "text/x-python",
   "name": "python",
   "nbconvert_exporter": "python",
   "pygments_lexer": "ipython3",
   "version": "3.11.0"
  }
 },
 "nbformat": 4,
 "nbformat_minor": 5
}
