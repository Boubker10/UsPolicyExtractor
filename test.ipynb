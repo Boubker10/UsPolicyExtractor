{
 "cells": [
  {
   "cell_type": "code",
   "execution_count": 19,
   "id": "b521543e",
   "metadata": {},
   "outputs": [],
   "source": [
    "import yfinance as yf \n",
    "from openai import OpenAI\n",
    "import os \n",
    "import json \n",
    "import sys \n",
    "import requests\n",
    "sys.path.append(r\"C:\\Users\\o\\agentflightbooking\\fiancialAIAgent\")"
   ]
  },
  {
   "cell_type": "code",
   "execution_count": 21,
   "id": "daf629db",
   "metadata": {},
   "outputs": [],
   "source": [
    "from openai import OpenAI\n",
    "deepseek_client = OpenAI(\n",
    "    api_key=os.getenv(\"DEEPSEEK_API_KEY\"),\n",
    "    base_url=os.getenv(\"DEEPSEEK_BASE_URL\")\n",
    ")"
   ]
  },
  {
   "cell_type": "code",
   "execution_count": 47,
   "id": "2f7d9143",
   "metadata": {},
   "outputs": [],
   "source": [
    "def search_ticker_finnhub(company_name, api_key):\n",
    "    url = f\"https://finnhub.io/api/v1/search?q={company_name}&token={api_key}\"\n",
    "    response = requests.get(url)\n",
    "    return response.json()['result'][0]['displaySymbol']\n"
   ]
  },
  {
   "cell_type": "code",
   "execution_count": 48,
   "id": "ec124757",
   "metadata": {},
   "outputs": [],
   "source": [
    "response = search_ticker_finnhub(\"Allianz SE\",os.getenv('FINHUB_API_key'))"
   ]
  },
  {
   "cell_type": "code",
   "execution_count": 49,
   "id": "65c2aeca",
   "metadata": {},
   "outputs": [
    {
     "data": {
      "text/plain": [
       "'ALV.DE'"
      ]
     },
     "execution_count": 49,
     "metadata": {},
     "output_type": "execute_result"
    }
   ],
   "source": [
    "response"
   ]
  },
  {
   "cell_type": "code",
   "execution_count": 50,
   "id": "e2eb6fe4",
   "metadata": {},
   "outputs": [],
   "source": [
    "ticker = search_ticker_finnhub(\"Allianz SE\", os.getenv('FINHUB_API_key'))"
   ]
  },
  {
   "cell_type": "code",
   "execution_count": 51,
   "id": "718d34ef",
   "metadata": {},
   "outputs": [
    {
     "data": {
      "text/plain": [
       "'ALV.DE'"
      ]
     },
     "execution_count": 51,
     "metadata": {},
     "output_type": "execute_result"
    }
   ],
   "source": [
    "ticker"
   ]
  },
  {
   "cell_type": "code",
   "execution_count": 65,
   "id": "26bf2c40",
   "metadata": {},
   "outputs": [],
   "source": [
    "from datetime import datetime\n",
    "import pandas as pd\n",
    "\n",
    "\n",
    "def get_stock_price(company_name, start_date, end_date):\n",
    "    api_key = os.getenv('FINHUB_API_key')\n",
    "    if not api_key:\n",
    "        raise ValueError(\"FINHUB_API_key environment variable is not set.\")\n",
    "    \n",
    "    ticker = search_ticker_finnhub(company_name, api_key)\n",
    "    \n",
    "    start_dt = datetime.strptime(start_date, '%Y-%m-%d')\n",
    "    end_dt = datetime.strptime(end_date, '%Y-%m-%d')\n",
    "    \n",
    "    stock_data = yf.download(ticker, start=start_dt, end=end_dt)\n",
    "    if stock_data.empty:\n",
    "        raise ValueError(f\"No stock data found for ticker {ticker} between {start_date} and {end_date}\")\n",
    "    \n",
    "    return stock_data['Close']"
   ]
  },
  {
   "cell_type": "code",
   "execution_count": 67,
   "id": "399fc719",
   "metadata": {},
   "outputs": [
    {
     "name": "stderr",
     "output_type": "stream",
     "text": [
      "[*********************100%***********************]  1 of 1 completed\n",
      "\n",
      "1 Failed download:\n",
      "['AAPL']: JSONDecodeError('Expecting value: line 1 column 1 (char 0)')\n"
     ]
    },
    {
     "ename": "ValueError",
     "evalue": "No stock data found for ticker AAPL between 2023-01-01 and 2023-10-01",
     "output_type": "error",
     "traceback": [
      "\u001b[1;31m---------------------------------------------------------------------------\u001b[0m",
      "\u001b[1;31mValueError\u001b[0m                                Traceback (most recent call last)",
      "Cell \u001b[1;32mIn[67], line 1\u001b[0m\n\u001b[1;32m----> 1\u001b[0m \u001b[43mget_stock_price\u001b[49m\u001b[43m(\u001b[49m\u001b[38;5;124;43m\"\u001b[39;49m\u001b[38;5;124;43mApple\u001b[39;49m\u001b[38;5;124;43m\"\u001b[39;49m\u001b[43m,\u001b[49m\u001b[43m \u001b[49m\u001b[38;5;124;43m\"\u001b[39;49m\u001b[38;5;124;43m2023-01-01\u001b[39;49m\u001b[38;5;124;43m\"\u001b[39;49m\u001b[43m,\u001b[49m\u001b[43m \u001b[49m\u001b[38;5;124;43m\"\u001b[39;49m\u001b[38;5;124;43m2023-10-01\u001b[39;49m\u001b[38;5;124;43m\"\u001b[39;49m\u001b[43m)\u001b[49m\n",
      "Cell \u001b[1;32mIn[65], line 17\u001b[0m, in \u001b[0;36mget_stock_price\u001b[1;34m(company_name, start_date, end_date)\u001b[0m\n\u001b[0;32m     15\u001b[0m stock_data \u001b[38;5;241m=\u001b[39m yf\u001b[38;5;241m.\u001b[39mdownload(ticker, start\u001b[38;5;241m=\u001b[39mstart_dt, end\u001b[38;5;241m=\u001b[39mend_dt)\n\u001b[0;32m     16\u001b[0m \u001b[38;5;28;01mif\u001b[39;00m stock_data\u001b[38;5;241m.\u001b[39mempty:\n\u001b[1;32m---> 17\u001b[0m     \u001b[38;5;28;01mraise\u001b[39;00m \u001b[38;5;167;01mValueError\u001b[39;00m(\u001b[38;5;124mf\u001b[39m\u001b[38;5;124m\"\u001b[39m\u001b[38;5;124mNo stock data found for ticker \u001b[39m\u001b[38;5;132;01m{\u001b[39;00mticker\u001b[38;5;132;01m}\u001b[39;00m\u001b[38;5;124m between \u001b[39m\u001b[38;5;132;01m{\u001b[39;00mstart_date\u001b[38;5;132;01m}\u001b[39;00m\u001b[38;5;124m and \u001b[39m\u001b[38;5;132;01m{\u001b[39;00mend_date\u001b[38;5;132;01m}\u001b[39;00m\u001b[38;5;124m\"\u001b[39m)\n\u001b[0;32m     19\u001b[0m \u001b[38;5;28;01mreturn\u001b[39;00m stock_data[\u001b[38;5;124m'\u001b[39m\u001b[38;5;124mClose\u001b[39m\u001b[38;5;124m'\u001b[39m]\n",
      "\u001b[1;31mValueError\u001b[0m: No stock data found for ticker AAPL between 2023-01-01 and 2023-10-01"
     ]
    }
   ],
   "source": [
    "get_stock_price(\"Apple\", \"2023-01-01\", \"2023-10-01\")"
   ]
  },
  {
   "cell_type": "code",
   "execution_count": 70,
   "id": "97c164c4",
   "metadata": {},
   "outputs": [
    {
     "ename": "JSONDecodeError",
     "evalue": "Expecting value: line 1 column 1 (char 0)",
     "output_type": "error",
     "traceback": [
      "\u001b[1;31m---------------------------------------------------------------------------\u001b[0m",
      "\u001b[1;31mJSONDecodeError\u001b[0m                           Traceback (most recent call last)",
      "File \u001b[1;32mc:\\Python311\\Lib\\site-packages\\requests\\models.py:974\u001b[0m, in \u001b[0;36mResponse.json\u001b[1;34m(self, **kwargs)\u001b[0m\n\u001b[0;32m    973\u001b[0m \u001b[38;5;28;01mtry\u001b[39;00m:\n\u001b[1;32m--> 974\u001b[0m     \u001b[38;5;28;01mreturn\u001b[39;00m \u001b[43mcomplexjson\u001b[49m\u001b[38;5;241;43m.\u001b[39;49m\u001b[43mloads\u001b[49m\u001b[43m(\u001b[49m\u001b[38;5;28;43mself\u001b[39;49m\u001b[38;5;241;43m.\u001b[39;49m\u001b[43mtext\u001b[49m\u001b[43m,\u001b[49m\u001b[43m \u001b[49m\u001b[38;5;241;43m*\u001b[39;49m\u001b[38;5;241;43m*\u001b[39;49m\u001b[43mkwargs\u001b[49m\u001b[43m)\u001b[49m\n\u001b[0;32m    975\u001b[0m \u001b[38;5;28;01mexcept\u001b[39;00m JSONDecodeError \u001b[38;5;28;01mas\u001b[39;00m e:\n\u001b[0;32m    976\u001b[0m     \u001b[38;5;66;03m# Catch JSON-related errors and raise as requests.JSONDecodeError\u001b[39;00m\n\u001b[0;32m    977\u001b[0m     \u001b[38;5;66;03m# This aliases json.JSONDecodeError and simplejson.JSONDecodeError\u001b[39;00m\n",
      "File \u001b[1;32mc:\\Python311\\Lib\\site-packages\\simplejson\\__init__.py:514\u001b[0m, in \u001b[0;36mloads\u001b[1;34m(s, encoding, cls, object_hook, parse_float, parse_int, parse_constant, object_pairs_hook, use_decimal, allow_nan, **kw)\u001b[0m\n\u001b[0;32m    510\u001b[0m \u001b[38;5;28;01mif\u001b[39;00m (\u001b[38;5;28mcls\u001b[39m \u001b[38;5;129;01mis\u001b[39;00m \u001b[38;5;28;01mNone\u001b[39;00m \u001b[38;5;129;01mand\u001b[39;00m encoding \u001b[38;5;129;01mis\u001b[39;00m \u001b[38;5;28;01mNone\u001b[39;00m \u001b[38;5;129;01mand\u001b[39;00m object_hook \u001b[38;5;129;01mis\u001b[39;00m \u001b[38;5;28;01mNone\u001b[39;00m \u001b[38;5;129;01mand\u001b[39;00m\n\u001b[0;32m    511\u001b[0m         parse_int \u001b[38;5;129;01mis\u001b[39;00m \u001b[38;5;28;01mNone\u001b[39;00m \u001b[38;5;129;01mand\u001b[39;00m parse_float \u001b[38;5;129;01mis\u001b[39;00m \u001b[38;5;28;01mNone\u001b[39;00m \u001b[38;5;129;01mand\u001b[39;00m\n\u001b[0;32m    512\u001b[0m         parse_constant \u001b[38;5;129;01mis\u001b[39;00m \u001b[38;5;28;01mNone\u001b[39;00m \u001b[38;5;129;01mand\u001b[39;00m object_pairs_hook \u001b[38;5;129;01mis\u001b[39;00m \u001b[38;5;28;01mNone\u001b[39;00m\n\u001b[0;32m    513\u001b[0m         \u001b[38;5;129;01mand\u001b[39;00m \u001b[38;5;129;01mnot\u001b[39;00m use_decimal \u001b[38;5;129;01mand\u001b[39;00m \u001b[38;5;129;01mnot\u001b[39;00m allow_nan \u001b[38;5;129;01mand\u001b[39;00m \u001b[38;5;129;01mnot\u001b[39;00m kw):\n\u001b[1;32m--> 514\u001b[0m     \u001b[38;5;28;01mreturn\u001b[39;00m \u001b[43m_default_decoder\u001b[49m\u001b[38;5;241;43m.\u001b[39;49m\u001b[43mdecode\u001b[49m\u001b[43m(\u001b[49m\u001b[43ms\u001b[49m\u001b[43m)\u001b[49m\n\u001b[0;32m    515\u001b[0m \u001b[38;5;28;01mif\u001b[39;00m \u001b[38;5;28mcls\u001b[39m \u001b[38;5;129;01mis\u001b[39;00m \u001b[38;5;28;01mNone\u001b[39;00m:\n",
      "File \u001b[1;32mc:\\Python311\\Lib\\site-packages\\simplejson\\decoder.py:386\u001b[0m, in \u001b[0;36mJSONDecoder.decode\u001b[1;34m(self, s, _w, _PY3)\u001b[0m\n\u001b[0;32m    385\u001b[0m     s \u001b[38;5;241m=\u001b[39m \u001b[38;5;28mstr\u001b[39m(s, \u001b[38;5;28mself\u001b[39m\u001b[38;5;241m.\u001b[39mencoding)\n\u001b[1;32m--> 386\u001b[0m obj, end \u001b[38;5;241m=\u001b[39m \u001b[38;5;28;43mself\u001b[39;49m\u001b[38;5;241;43m.\u001b[39;49m\u001b[43mraw_decode\u001b[49m\u001b[43m(\u001b[49m\u001b[43ms\u001b[49m\u001b[43m)\u001b[49m\n\u001b[0;32m    387\u001b[0m end \u001b[38;5;241m=\u001b[39m _w(s, end)\u001b[38;5;241m.\u001b[39mend()\n",
      "File \u001b[1;32mc:\\Python311\\Lib\\site-packages\\simplejson\\decoder.py:416\u001b[0m, in \u001b[0;36mJSONDecoder.raw_decode\u001b[1;34m(self, s, idx, _w, _PY3)\u001b[0m\n\u001b[0;32m    415\u001b[0m         idx \u001b[38;5;241m+\u001b[39m\u001b[38;5;241m=\u001b[39m \u001b[38;5;241m3\u001b[39m\n\u001b[1;32m--> 416\u001b[0m \u001b[38;5;28;01mreturn\u001b[39;00m \u001b[38;5;28;43mself\u001b[39;49m\u001b[38;5;241;43m.\u001b[39;49m\u001b[43mscan_once\u001b[49m\u001b[43m(\u001b[49m\u001b[43ms\u001b[49m\u001b[43m,\u001b[49m\u001b[43m \u001b[49m\u001b[43midx\u001b[49m\u001b[38;5;241;43m=\u001b[39;49m\u001b[43m_w\u001b[49m\u001b[43m(\u001b[49m\u001b[43ms\u001b[49m\u001b[43m,\u001b[49m\u001b[43m \u001b[49m\u001b[43midx\u001b[49m\u001b[43m)\u001b[49m\u001b[38;5;241;43m.\u001b[39;49m\u001b[43mend\u001b[49m\u001b[43m(\u001b[49m\u001b[43m)\u001b[49m\u001b[43m)\u001b[49m\n",
      "\u001b[1;31mJSONDecodeError\u001b[0m: Expecting value: line 1 column 1 (char 0)",
      "\nDuring handling of the above exception, another exception occurred:\n",
      "\u001b[1;31mJSONDecodeError\u001b[0m                           Traceback (most recent call last)",
      "Cell \u001b[1;32mIn[70], line 11\u001b[0m\n\u001b[0;32m      4\u001b[0m params \u001b[38;5;241m=\u001b[39m {\n\u001b[0;32m      5\u001b[0m     \u001b[38;5;124m\"\u001b[39m\u001b[38;5;124mperiod1\u001b[39m\u001b[38;5;124m\"\u001b[39m: \u001b[38;5;241m1672531200\u001b[39m,  \u001b[38;5;66;03m# timestamp Unix début (ex: 2023-01-01)\u001b[39;00m\n\u001b[0;32m      6\u001b[0m     \u001b[38;5;124m\"\u001b[39m\u001b[38;5;124mperiod2\u001b[39m\u001b[38;5;124m\"\u001b[39m: \u001b[38;5;241m1698796800\u001b[39m,  \u001b[38;5;66;03m# timestamp Unix fin (ex: 2023-10-01)\u001b[39;00m\n\u001b[0;32m      7\u001b[0m     \u001b[38;5;124m\"\u001b[39m\u001b[38;5;124minterval\u001b[39m\u001b[38;5;124m\"\u001b[39m: \u001b[38;5;124m\"\u001b[39m\u001b[38;5;124m1d\u001b[39m\u001b[38;5;124m\"\u001b[39m\n\u001b[0;32m      8\u001b[0m }\n\u001b[0;32m     10\u001b[0m response \u001b[38;5;241m=\u001b[39m requests\u001b[38;5;241m.\u001b[39mget(url, params\u001b[38;5;241m=\u001b[39mparams)\n\u001b[1;32m---> 11\u001b[0m data \u001b[38;5;241m=\u001b[39m \u001b[43mresponse\u001b[49m\u001b[38;5;241;43m.\u001b[39;49m\u001b[43mjson\u001b[49m\u001b[43m(\u001b[49m\u001b[43m)\u001b[49m\n\u001b[0;32m     12\u001b[0m \u001b[38;5;28mprint\u001b[39m(data)\n",
      "File \u001b[1;32mc:\\Python311\\Lib\\site-packages\\requests\\models.py:978\u001b[0m, in \u001b[0;36mResponse.json\u001b[1;34m(self, **kwargs)\u001b[0m\n\u001b[0;32m    974\u001b[0m     \u001b[38;5;28;01mreturn\u001b[39;00m complexjson\u001b[38;5;241m.\u001b[39mloads(\u001b[38;5;28mself\u001b[39m\u001b[38;5;241m.\u001b[39mtext, \u001b[38;5;241m*\u001b[39m\u001b[38;5;241m*\u001b[39mkwargs)\n\u001b[0;32m    975\u001b[0m \u001b[38;5;28;01mexcept\u001b[39;00m JSONDecodeError \u001b[38;5;28;01mas\u001b[39;00m e:\n\u001b[0;32m    976\u001b[0m     \u001b[38;5;66;03m# Catch JSON-related errors and raise as requests.JSONDecodeError\u001b[39;00m\n\u001b[0;32m    977\u001b[0m     \u001b[38;5;66;03m# This aliases json.JSONDecodeError and simplejson.JSONDecodeError\u001b[39;00m\n\u001b[1;32m--> 978\u001b[0m     \u001b[38;5;28;01mraise\u001b[39;00m RequestsJSONDecodeError(e\u001b[38;5;241m.\u001b[39mmsg, e\u001b[38;5;241m.\u001b[39mdoc, e\u001b[38;5;241m.\u001b[39mpos)\n",
      "\u001b[1;31mJSONDecodeError\u001b[0m: Expecting value: line 1 column 1 (char 0)"
     ]
    }
   ],
   "source": [
    "import requests\n",
    "\n",
    "url = \"https://query1.finance.yahoo.com/v8/finance/chart/ALV.DE\"\n",
    "params = {\n",
    "    \"period1\": 1672531200,  # timestamp Unix début (ex: 2023-01-01)\n",
    "    \"period2\": 1698796800,  # timestamp Unix fin (ex: 2023-10-01)\n",
    "    \"interval\": \"1d\"\n",
    "}\n",
    "\n",
    "response = requests.get(url, params=params)\n",
    "data = response.json()\n",
    "print(data)\n"
   ]
  },
  {
   "cell_type": "code",
   "execution_count": 106,
   "id": "0da0c56f",
   "metadata": {},
   "outputs": [],
   "source": [
    "import os\n",
    "import requests\n",
    "\n",
    "def get_financial_reports(company_name, api_key=os.getenv('FINHUB_API_key')):\n",
    "    ticker = search_ticker_finnhub(company_name, api_key)\n",
    "    url = f\"https://finnhub.io/api/v1/stock/financials?symbol={ticker}&token={api_key}\"\n",
    "    response = requests.get(url)\n",
    "    data = response.json()\n",
    "    return data\n"
   ]
  },
  {
   "cell_type": "code",
   "execution_count": 103,
   "id": "7b24828a",
   "metadata": {},
   "outputs": [],
   "source": [
    "get_financial_reports = get_financial_reports(company_name=\"NVIDIA\", api_key=os.getenv('FINHUB_API_key'))"
   ]
  },
  {
   "cell_type": "code",
   "execution_count": 104,
   "id": "40e11ecb",
   "metadata": {},
   "outputs": [
    {
     "data": {
      "text/plain": [
       "{'error': \"You don't have access to this resource.\"}"
      ]
     },
     "execution_count": 104,
     "metadata": {},
     "output_type": "execute_result"
    }
   ],
   "source": [
    "get_financial_reports"
   ]
  },
  {
   "cell_type": "code",
   "execution_count": null,
   "id": "cbae4927",
   "metadata": {},
   "outputs": [],
   "source": [
    "import os\n",
    "import requests\n",
    "\n",
    "def get_ticker(company_name, api_key=None):\n",
    "    if api_key is None:\n",
    "        api_key = os.getenv(\"FINHUB_API_key\")\n",
    "    url = f\"https://finnhub.io/api/v1/search?q={company_name}&token={api_key}\"\n",
    "    response = requests.get(url)\n",
    "    data = response.json()\n",
    "    if \"result\" in data and len(data[\"result\"]) > 0:\n",
    "        return data[\"result\"][0][\"symbol\"]\n",
    "    raise ValueError(f\"No ticker found for company {company_name}\")\n",
    "\n",
    "def get_financial_reports(ticker, api_key=None):\n",
    "    if api_key is None:\n",
    "        api_key = os.getenv(\"FINHUB_API_key\")\n",
    "    url = f\"https://finnhub.io/api/v1/stock/financials-reported?symbol={ticker}&token={api_key}\"\n",
    "    response = requests.get(url)\n",
    "    data = response.json()\n",
    "    if \"data\" not in data or not data[\"data\"]:\n",
    "        raise ValueError(\"No financial reports found.\")\n",
    "    return data[\"data\"]\n",
    "\n",
    "def get_company_cik(ticker, api_key=None):\n",
    "    if api_key is None:\n",
    "        api_key = os.getenv(\"FINHUB_API_key\")\n",
    "    url = f\"https://finnhub.io/api/v1/stock/profile2?symbol={ticker}&token={api_key}\"\n",
    "    response = requests.get(url)\n",
    "    data = response.json()\n",
    "    return data.get(\"cik\", None)\n",
    "\n",
    "# Exemple d’utilisation\n",
    "if __name__ == \"__main__\":\n",
    "    api_key = os.getenv(\"FINHUB_API_key\")\n",
    "    company_name = \"Apple Inc\"\n",
    "    ticker = get_ticker(company_name, api_key)\n",
    "    print(f\"Ticker: {ticker}\")\n",
    "\n",
    "    cik = get_company_cik(ticker, api_key)\n",
    "    print(f\"CIK: {cik}\")\n",
    "\n",
    "    financial_reports = get_financial_reports(ticker, api_key)\n",
    "    print(f\"Nombre de rapports financiers trouvés : {len(financial_reports)}\")\n",
    "    for report in financial_reports[:3]:  # affiche les 3 premiers rapports\n",
    "        print(f\"Date rapport: {report['reportDate']}, Type: {report['fiscalPeriod']}\")\n"
   ]
  },
  {
   "cell_type": "code",
   "execution_count": 112,
   "id": "0eaccf91",
   "metadata": {},
   "outputs": [],
   "source": [
    "import os\n",
    "import requests\n",
    "\n",
    "def get_ticker_and_cik(company_name, api_key=None):\n",
    "    if api_key is None:\n",
    "        api_key = os.getenv(\"FINHUB_API_key\")\n",
    "    search_url = f\"https://finnhub.io/api/v1/search?q={company_name}&token={api_key}\"\n",
    "    response = requests.get(search_url)\n",
    "    data = response.json()\n",
    "    if not data['result']:\n",
    "        raise ValueError(\"Aucun ticker trouvé\")\n",
    "    ticker = data['result'][0]['symbol']\n",
    "\n",
    "    profile_url = f\"https://finnhub.io/api/v1/stock/profile?symbol={ticker}&token={api_key}\"\n",
    "    response = requests.get(profile_url)\n",
    "    profile = response.json()\n",
    "    cik = profile.get(\"cik\", None)\n",
    "    \n",
    "    return ticker, cik\n",
    "\n",
    "def get_financials_from_cik_or_ticker(ticker=None, cik=None, freq=\"quarterly\", api_key=None):\n",
    "    if api_key is None:\n",
    "        api_key = os.getenv(\"FINHUB_API_key\")\n",
    "\n",
    "    if cik:\n",
    "        url = f\"https://finnhub.io/api/v1/stock/financials-reported?cik={cik}&freq={freq}&token={api_key}\"\n",
    "    elif ticker:\n",
    "        url = f\"https://finnhub.io/api/v1/stock/financials-reported?symbol={ticker}&freq={freq}&token={api_key}\"\n",
    "    else:\n",
    "        raise ValueError(\"Ticker ou CIK requis\")\n",
    "    \n",
    "    response = requests.get(url)\n",
    "    data = response.json()\n",
    "\n",
    "    if \"data\" not in data or not data[\"data\"]:\n",
    "        raise ValueError(\"Aucun rapport financier trouvé\")\n",
    "\n",
    "    return data[\"data\"]\n"
   ]
  },
  {
   "cell_type": "code",
   "execution_count": 114,
   "id": "c1e2b220",
   "metadata": {},
   "outputs": [
    {
     "data": {
      "text/plain": [
       "('AAPL', None)"
      ]
     },
     "execution_count": 114,
     "metadata": {},
     "output_type": "execute_result"
    }
   ],
   "source": [
    "get_ticker_and_cik(\"APPLE\", os.getenv('FINHUB_API_key'))"
   ]
  },
  {
   "cell_type": "code",
   "execution_count": null,
   "id": "addefa31",
   "metadata": {},
   "outputs": [],
   "source": [
    "def search_edgar_filings(ticker: str, form_type: str = \"10-K\"):\n",
    "    \"\"\"\n",
    "    Recherche les dépôts EDGAR pour un ticker donné\n",
    "    \n",
    "    Args:\n",
    "        ticker: Symbole boursier\n",
    "        form_type: Type de formulaire (10-K, 10-Q, 8-K, etc.)\n",
    "    \n",
    "    Returns:\n",
    "        Liste des dépôts trouvés\n",
    "    \"\"\"\n",
    "    url = \"https://efts.sec.gov/LATEST/search/index\"\n",
    "    headers = {\n",
    "        'User-Agent': 'Mozilla/5.0 (Windows NT 10.0; Win64; x64) AppleWebKit/537.36',\n",
    "        'Accept': 'application/json'\n",
    "    }\n",
    "    \n",
    "    params = {\n",
    "        'q': ticker,\n",
    "        'dateRange': 'last5years',\n",
    "        'category': 'form',\n",
    "        'forms': form_type,\n",
    "        'startdt': '2020-01-01',\n",
    "        'enddt': '2024-12-31'\n",
    "    }\n",
    "    \n",
    "    try:\n",
    "        response = requests.get(url, headers=headers, params=params)\n",
    "        response.raise_for_status()\n",
    "        data = response.json()\n",
    "        \n",
    "        filings = data.get('hits', {}).get('hits', [])\n",
    "        print(f\"✓ Trouvé {len(filings)} dépôts EDGAR pour {ticker}\")\n",
    "        return filings\n",
    "    except requests.RequestException as e:\n",
    "        print(f\"✗ Erreur recherche EDGAR pour {ticker}: {e}\")\n",
    "        return []"
   ]
  },
  {
   "cell_type": "code",
   "execution_count": 116,
   "id": "58319fc0",
   "metadata": {},
   "outputs": [
    {
     "ename": "ValueError",
     "evalue": "Erreur lors de la récupération des données : 403",
     "output_type": "error",
     "traceback": [
      "\u001b[1;31m---------------------------------------------------------------------------\u001b[0m",
      "\u001b[1;31mValueError\u001b[0m                                Traceback (most recent call last)",
      "Cell \u001b[1;32mIn[116], line 1\u001b[0m\n\u001b[1;32m----> 1\u001b[0m \u001b[43mfin_cik_edgar\u001b[49m\u001b[43m(\u001b[49m\u001b[38;5;124;43m\"\u001b[39;49m\u001b[38;5;124;43mApple Inc\u001b[39;49m\u001b[38;5;124;43m\"\u001b[39;49m\u001b[43m,\u001b[49m\u001b[43m \u001b[49m\u001b[43mos\u001b[49m\u001b[38;5;241;43m.\u001b[39;49m\u001b[43mgetenv\u001b[49m\u001b[43m(\u001b[49m\u001b[38;5;124;43m'\u001b[39;49m\u001b[38;5;124;43mFINHUB_API_key\u001b[39;49m\u001b[38;5;124;43m'\u001b[39;49m\u001b[43m)\u001b[49m\u001b[43m)\u001b[49m\n",
      "Cell \u001b[1;32mIn[115], line 14\u001b[0m, in \u001b[0;36mfin_cik_edgar\u001b[1;34m(company_name, api_key)\u001b[0m\n\u001b[0;32m     12\u001b[0m response \u001b[38;5;241m=\u001b[39m requests\u001b[38;5;241m.\u001b[39mget(url, params\u001b[38;5;241m=\u001b[39mparams)\n\u001b[0;32m     13\u001b[0m \u001b[38;5;28;01mif\u001b[39;00m response\u001b[38;5;241m.\u001b[39mstatus_code \u001b[38;5;241m!=\u001b[39m \u001b[38;5;241m200\u001b[39m: \n\u001b[1;32m---> 14\u001b[0m     \u001b[38;5;28;01mraise\u001b[39;00m \u001b[38;5;167;01mValueError\u001b[39;00m(\u001b[38;5;124mf\u001b[39m\u001b[38;5;124m\"\u001b[39m\u001b[38;5;124mErreur lors de la récupération des données : \u001b[39m\u001b[38;5;132;01m{\u001b[39;00mresponse\u001b[38;5;241m.\u001b[39mstatus_code\u001b[38;5;132;01m}\u001b[39;00m\u001b[38;5;124m\"\u001b[39m)    \n\u001b[0;32m     15\u001b[0m data \u001b[38;5;241m=\u001b[39m response\u001b[38;5;241m.\u001b[39mjson()\n\u001b[0;32m     16\u001b[0m \u001b[38;5;28;01mif\u001b[39;00m \u001b[38;5;129;01mnot\u001b[39;00m data\u001b[38;5;241m.\u001b[39mget(\u001b[38;5;124m\"\u001b[39m\u001b[38;5;124mfilings\u001b[39m\u001b[38;5;124m\"\u001b[39m, []):\n",
      "\u001b[1;31mValueError\u001b[0m: Erreur lors de la récupération des données : 403"
     ]
    }
   ],
   "source": [
    "fin_cik_edgar(\"Apple Inc\", os.getenv('FINHUB_API_key'))"
   ]
  }
 ],
 "metadata": {
  "kernelspec": {
   "display_name": "Python 3",
   "language": "python",
   "name": "python3"
  },
  "language_info": {
   "codemirror_mode": {
    "name": "ipython",
    "version": 3
   },
   "file_extension": ".py",
   "mimetype": "text/x-python",
   "name": "python",
   "nbconvert_exporter": "python",
   "pygments_lexer": "ipython3",
   "version": "3.11.0"
  }
 },
 "nbformat": 4,
 "nbformat_minor": 5
}
