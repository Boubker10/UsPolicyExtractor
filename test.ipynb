{
 "cells": [
  {
   "cell_type": "code",
   "execution_count": 27,
   "id": "b521543e",
   "metadata": {},
   "outputs": [],
   "source": [
    "import yfinance as yf \n",
    "from openai import OpenAI\n",
    "import os \n",
    "import json \n",
    "import sys \n",
    "import requests\n",
    "sys.path.append(r\"C:\\Users\\o\\agentflightbooking\\fiancialAIAgent\")"
   ]
  },
  {
   "cell_type": "code",
   "execution_count": 28,
   "id": "daf629db",
   "metadata": {},
   "outputs": [],
   "source": [
    "from openai import OpenAI\n",
    "deepseek_client = OpenAI(\n",
    "    api_key=\"sk-3da1e2817a2942ea8809277679bb05ec\",\n",
    "    base_url=\"https://api.deepseek.com/v1\"\n",
    ")"
   ]
  },
  {
   "cell_type": "code",
   "execution_count": 32,
   "id": "32c5c4f9",
   "metadata": {},
   "outputs": [],
   "source": [
    "def reformuler_question_en_requete_usa(question, client):\n",
    "    prompt = f\"\"\"\n",
    "You are a legal research assistant for U.S. law.\n",
    "\n",
    "Your job is to turn a user's natural language question into a focused Google search query\n",
    "that finds relevant legal documents in PDF format on official U.S. government websites.\n",
    "\n",
    "Instructions:\n",
    "- Use only the key legal terms (state, topic, law name if known).\n",
    "- End the query with: site:.gov filetype:pdf\n",
    "- Be concise and relevant.\n",
    "- give just one query \n",
    "\n",
    "Example:\n",
    "Question: What is the law about privacy rights in California?\n",
    "Query: california privacy law site:.gov filetype:pdf\n",
    "\n",
    "---\n",
    "\n",
    "User question:\n",
    "\\\"{question}\\\"\n",
    "\n",
    "Google search query:\n",
    "\"\"\"\n",
    "\n",
    "    response = client.chat.completions.create(\n",
    "        model=\"deepseek-chat\",\n",
    "        messages=[{\"role\": \"user\", \"content\": prompt}],\n",
    "        temperature=0.2\n",
    "    )\n",
    "\n",
    "    return response.choices[0].message.content.strip()\n"
   ]
  },
  {
   "cell_type": "code",
   "execution_count": 33,
   "id": "aada385d",
   "metadata": {},
   "outputs": [],
   "source": [
    "question = 'What is the law of smooking weed in public in the u.s'\n",
    "reforulation = reformuler_question_en_requete_usa(question=question, client=deepseek_client)"
   ]
  },
  {
   "cell_type": "code",
   "execution_count": 34,
   "id": "f83457e7",
   "metadata": {},
   "outputs": [
    {
     "data": {
      "text/plain": [
       "'marijuana public consumption law U.S. site:.gov filetype:pdf'"
      ]
     },
     "execution_count": 34,
     "metadata": {},
     "output_type": "execute_result"
    }
   ],
   "source": [
    "reforulation"
   ]
  },
  {
   "cell_type": "code",
   "execution_count": 35,
   "id": "f74717d6",
   "metadata": {},
   "outputs": [],
   "source": [
    "import os\n",
    "import requests\n",
    "\n",
    "SERPAPI_API_KEY = os.getenv(\"SERA_API_KEY\")\n",
    "\n",
    "def chercher_pdfs_via_serpapi(query, api_key=SERPAPI_API_KEY):\n",
    "    url = \"https://serpapi.com/search\"\n",
    "    params = {\n",
    "        \"engine\": \"google\",\n",
    "        \"q\": query,\n",
    "        \"api_key\": api_key,\n",
    "        \"num\": 5, \n",
    "        \"filetype\": \"pdf\",\n",
    "        \"hl\": \"en\"\n",
    "    }\n",
    "    response = requests.get(url, params=params)\n",
    "    if response.status_code != 200:\n",
    "        raise Exception(f\"Erreur SerpAPI : {response.status_code} - {response.text}\")\n",
    "\n",
    "    data = response.json()\n",
    "    results = data.get(\"organic_results\", [])\n",
    "    pdf_urls = []\n",
    "    for result in results:\n",
    "        link = result.get(\"link\", \"\")\n",
    "        if link.lower().endswith(\".pdf\"):\n",
    "            pdf_urls.append(link)\n",
    "    return pdf_urls\n"
   ]
  },
  {
   "cell_type": "code",
   "execution_count": 36,
   "id": "7438325b",
   "metadata": {},
   "outputs": [],
   "source": [
    "pdf_link = chercher_pdfs_via_serpapi(query=reforulation)"
   ]
  },
  {
   "cell_type": "code",
   "execution_count": 37,
   "metadata": {},
   "outputs": [
    {
     "data": {
      "text/plain": [
       "['https://ccb.nv.gov/wp-content/uploads/2022/08/Regulation-15_v072122.pdf',\n",
       " 'http://publichealth.lacounty.gov/tob/docs/Clean%20Air%20Factsheets/Marijuana-in-Multi-Unit-Residential-Setting-2019-1.pdf',\n",
       " 'https://health.hawaii.gov/medicalcannabis/files/2022/05/Cannabis-Policy-in-the-United-States-Implications-for-Public-Health.pdf',\n",
       " 'https://www.congress.gov/crs_external_products/R/PDF/R44782/R44782.4.pdf',\n",
       " 'https://www.congress.gov/crs_external_products/R/PDF/R44782/R44782.5.pdf']"
      ]
     },
     "execution_count": 37,
     "metadata": {},
     "output_type": "execute_result"
    }
   ],
   "source": [
    "pdf_link"
   ]
  },
  {
   "cell_type": "code",
   "execution_count": 38,
   "id": "302e1090",
   "metadata": {},
   "outputs": [],
   "source": [
    "import os\n",
    "import requests\n",
    "from datetime import datetime\n",
    "\n",
    "def telecharger_pdf_dossier_temp(url_pdf, dossier_temp=\"data/temp\"):\n",
    "    os.makedirs(dossier_temp, exist_ok=True)\n",
    "    \n",
    "    timestamp = datetime.now().strftime(\"%Y%m%d_%H%M%S_%f\")\n",
    "    nom_fichier = f\"document_{timestamp}.pdf\"\n",
    "    chemin_complet = os.path.join(dossier_temp, nom_fichier)\n",
    "    \n",
    "    response = requests.get(url_pdf)\n",
    "    if response.status_code != 200:\n",
    "        raise Exception(f\"Erreur téléchargement PDF : {response.status_code}\")\n",
    "    \n",
    "    with open(chemin_complet, \"wb\") as f:\n",
    "        f.write(response.content)\n",
    "    \n",
    "    return chemin_complet\n"
   ]
  },
  {
   "cell_type": "code",
   "execution_count": 39,
   "id": "0e1fc580",
   "metadata": {},
   "outputs": [],
   "source": [
    "save_pdf = telecharger_pdf_dossier_temp(url_pdf=pdf_link[0])"
   ]
  },
  {
   "cell_type": "code",
   "execution_count": 41,
   "id": "b95ed978",
   "metadata": {},
   "outputs": [
    {
     "data": {
      "text/plain": [
       "'data/temp\\\\document_20250719_211536_992815.pdf'"
      ]
     },
     "execution_count": 41,
     "metadata": {},
     "output_type": "execute_result"
    }
   ],
   "source": [
    "save_pdf"
   ]
  },
  {
   "cell_type": "code",
   "execution_count": 40,
   "id": "4c722f77",
   "metadata": {},
   "outputs": [],
   "source": [
    "from pdf2image import convert_from_bytes\n",
    "from typing import List, Optional\n",
    "from PIL import Image\n",
    "import os\n",
    "import requests\n",
    "import json\n",
    "import pytesseract\n",
    "\n",
    "def ocr(pdf):\n",
    "    images = convert_from_bytes(pdf)\n",
    "    ocr_texts = []\n",
    "    \n",
    "    for i, image in enumerate(images):\n",
    "        image_path = f\"page_{i + 1}.png\"\n",
    "        image.save(image_path, \"PNG\")\n",
    "        print(f\"Saved {image_path}\")\n",
    "    images_path = [f\"page_{i + 1}.png\" for i in range(len(images))]\n",
    "    for image_path in images_path:\n",
    "        image = Image.open(image_path)\n",
    "        with Image.open(image_path) as image:\n",
    "                if image.mode != 'RGB':\n",
    "                    image = image.convert('RGB')\n",
    "                \n",
    "                text = pytesseract.image_to_string(\n",
    "                    image, \n",
    "                    lang='eng',\n",
    "                    config='--psm 6'  \n",
    "                )   \n",
    "                text = text.replace('\\n', ' ').strip()\n",
    "                ocr_texts.append(text)\n",
    "        os.remove(image_path)\n",
    "        print(f\"Removed {image_path}\")\n",
    "        \n",
    "    return ocr_texts"
   ]
  },
  {
   "cell_type": "code",
   "execution_count": 44,
   "id": "862a3955",
   "metadata": {},
   "outputs": [],
   "source": [
    "#read pdf \n",
    "with open(save_pdf, \"rb\") as f:\n",
    "    pdf_bytes = f.read()"
   ]
  },
  {
   "cell_type": "code",
   "execution_count": 45,
   "id": "a87499a9",
   "metadata": {},
   "outputs": [
    {
     "name": "stdout",
     "output_type": "stream",
     "text": [
      "Saved page_1.png\n",
      "Saved page_2.png\n",
      "Saved page_3.png\n",
      "Saved page_4.png\n",
      "Saved page_5.png\n",
      "Saved page_6.png\n",
      "Saved page_7.png\n",
      "Saved page_8.png\n",
      "Saved page_9.png\n",
      "Removed page_1.png\n",
      "Removed page_2.png\n",
      "Removed page_3.png\n",
      "Removed page_4.png\n",
      "Removed page_5.png\n",
      "Removed page_6.png\n",
      "Removed page_7.png\n",
      "Removed page_8.png\n",
      "Removed page_9.png\n"
     ]
    }
   ],
   "source": [
    "ocr_texts = ocr(pdf_bytes)"
   ]
  },
  {
   "cell_type": "code",
   "execution_count": 46,
   "id": "d982780f",
   "metadata": {},
   "outputs": [
    {
     "data": {
      "text/plain": [
       "['REGULATION 15 CANNABIS CONSUMPTION LOUNGE  15.010 Requirements for operation; posting of hours of operation.  15.015 Duties of cannabis establishment agent for a cannabis consumption lounge before sale to consumer.  15.020 Walid proof of identification of age of consumer required.  15.025 Prohibition on sale that exceeds maximum usable quantity of cannabis.  15.030 Products required to be offered for sale; restrictions on sale of other products; restrictions on advertising.  15.035 Storage and location of products; disclosure of cannabis independent testing laboratory performing quality assurance tests upon request of consumer; approved soutces of products for sale; maintenance and availability of certificate of analysis.  15.040 On-site requirements to operate a cannabis consumption lounge.  15.045 Employee Training and Consumer Education.  15.050 Separate room for cannabis smoking, vaping, and inhalation.  15.055 Ventilation of the cannabis consumption lounge.  15.060 Notices and additional disclosures.  15.065 Alcohol, tobacco and nicotine products.  15.070 Reporting of medical incidents.  15.075 Leaving with cannabis.  15.080 Impaired driving.  15.085 Law enforcement temporary closure of licensed operations.  15.090 Visibility of consumption.  15.095 Water service.  15.100 Retail cannabis consumption lounge attached or immediately adjacent to a cannabis sales facility.  15.105 §Ready-to-consume cannabis products.  15.110 Surfaces and devices: Sanitation and cleaning frequency.  15.115 Health inspections and permitting.',\n",
       " '15.010 Requirements for operation; posting of hours of operation. Each cannabis consumption lounge shall: 1. Ensure that the cannabis consumption lounge is operating and available to sell single-use cannabis products or ready-to-consume cannabis products to consumers during, and only during, the designated hours of operation of the cannabis consumption lounge as provided to the Board by the cannabis consumption lounge and the hours authorized by the local jurisdiction in which the lounge is located; 2. Post, in a place that can be viewed by persons entering the cannabis consumption lounge, the hours of operation during which the lounge will sell single-use cannabis products or ready- to-consume cannabis products; and 3. Not conduct sales one half hour prior to closing unless the cannabis consumption lounge operates 24 houts per day. 15.015 Duties of cannabis establishment agent for a cannabis consumption lounge before sale to consumer. Before a cannabis establishment agent allows access into the facility and prior to selling single-use cannabis products or ready-to-consume cannabis products to a consumer, the cannabis establishment agent shall: 1. Verify the age of the consumer by checking and authenticating a government-issued identification card containing a photograph of the consumer using an identification scanner approved by the appropriate Board Agent to determine the validity and authenticity of any government-issued identification card as well as visually inspect the birthdate on the form of identification presented; 2. Not permit the use or consumption of cannabis by any person displaying any visible signs of overconsumption of any intoxicant; 3. Offer any appropriate consumer education or support materials; and 4. At the time of sale enter the following information into the inventory control system: (a) The amount of single-use cannabis products or ready-to-consume cannabis products sold; (b) The date and time at which the single-use cannabis products or ready-to-consume cannabis products was sold; (c) The number of the cannabis establishment agent registration card of the cannabis establishment agent; and (d) The number of the license for the cannabis consumption lounge. 15.020 Valid proof of identification of age of consumer required. 1. Except as otherwise provided in this subsection, a cannabis consumption lounge shall not allow entry to and shall refuse to sell single-use cannabis products or teady-to-consume cannabis products to any person unless the person produces a form of valid identification showing that the person is 21 years of age or older. 2. Identification presented to satisfy subsection 1 must contain a photograph and the date of birth of the person. 3. Identification presented to satisfy subsection 1 must be a valid and unexpired: (a) Driver’s license or instruction permit issued by this State or any other state or territory of the United States; (b) Identification card issued by this State or any other state or territory of the United States for the purpose of proof of age of the holder of the card; (c) United States military identification card;',\n",
       " '(d) A Merchant Mariner Credential or other similar document issued by the United States Coast Guard; (e) A passport issued by, or recognized by, the United States Government or a permanent resident card issued by the United States Citizenship and Immigration Services of the Board of Homeland Security; or (f) A tribal identification card issued by a tribal government, as defined in NRS 239C.105, which requires proof of the age of the holder of the card for issuance. 15.025 Prohibition on a single sale that exceeds maximum usable quantity of cannabis. 1. A cannabis consumption lounge shall not sell to any consumer at one time an amount of single-use cannabis products or ready-to-consume cannabis products which exceeds: (a) 3.5 grams of usable cannabis; (1) If the single-use cannabis product contains more than 1 gram of usable cannabis, it must include a written warning: “Caution- This product is very potent and is not recommended for inexperienced users”; (b) 300 milligrams THC for inhalable extracted cannabis products; (1) All single-use cannabis product sold as an inhalable extracted cannabis product must include a warning, “Caution- This product is very potent and is not recommended for inexperienced users”; (c) Topical cannabis products containing not more than 400 milligrams of THC; (d) 100 milligrams of THC for transdermal patches or other adult-use cannabis products not mentioned in this section. (1) If the single-use cannabis product contains more than 10 milligrams of THC, it must include a written warning: “Caution- This product is very potent and is not recommended for inexperienced users”; (e) 10 milligrams of THC for an edible, capsule, or tincture. 2. For the purposes of this section, a single sale occurs when a consumer orders cannabis or cannabis products. (a) If a cannabis consumption lounge allows multiple orders, the lounge may process the orders as a single final transaction. (b) The final transaction must be recorded in a manner which details the date, time, and quantity of cannabis or cannabis products transferred to a consumer in each order. 15.030 Products required to be offered for sale; restrictions on sale of other products; restrictions on advertising. 1. Relative to cannabis, CBD, and cannabis related products, a cannabis consumption lounge shall only offer for sale single-use cannabis products, ready-to-consume cannabis products, cannabis paraphernalia, cannabis-related accessories, products containing CBD, and products containing industrial hemp which are related to cannabis. (a) Hemp and hemp derived products must be accompanied by a certificate of analysis from a cannabis independent testing laboratory or the appropriate Nevada state testing laboratory, and a copy of the hemp growet’s certificate. Such products must be labeled with the amount of THC and state “this product does not contain cannabis” in at least 8-point font. 2. Each cannabis consumption lounge must offer low dose options of cannabis products containing no more than 2mg THC in a cannabis product or 0.5 grams of usable cannabis.',\n",
       " '3. Each cannabis consumption lounge shall not allow any single-use cannabis products or ready-to-consume cannabis products to be removed from the lounge and shall inform the consumer that removing such products from the lounge is illegal. 4. A cannabis consumption lounge shall not sell any product that contains tobacco and/or nicotine, or vape liquid that is not produced by a licensed cannabis production facility. 5. A cannabis consumption lounge shall not sell any product that contains alcohol if the product would require the cannabis consumption lounge to hold a license to sell alcohol issued pursuant to chapter 369 of NRS or any local jurisdiction. 6. A cannabis consumption lounge shall not sell single-use cannabis products or ready-to- consume cannabis products without first communicating with the end-use consumer. Employees of the lounge must inquire about and assess a consumer’s usage and needs. 7. A cannabis consumption lounge shall not knowingly recommend products to persons who are pregnant or breastfeeding, 15.035 Storage and location of products; disclosure of cannabis independent testing laboratory performing quality assurance tests upon request of consumer; approved sources of products for sale; maintenance and availability of certificate of analysis. 1. A cannabis consumption lounge must store all single-use cannabis products, and teady-to- consume cannabis products behind a counter or other barrier to ensure a consumer does not have direct access to the products. Such products must be stored in a manner that prevents physical, biological, or chemical contamination. 2. Upon the request of a consumer, a cannabis consumption lounge must disclose the name of the cannabis independent testing laboratory which performed the required quality assurance tests and the corresponding certificate of analysis. 3. A cannabis consumption lounge may only sell single-use cannabis products obtained from an adult-use cannabis retail store in this State. 4. A cannabis consumption lounge may procure multi-serving edible cannabis products from adult-use cannabis retail stores in this State and resell individual servings to consumers. 5. A cannabis consumption lounge may only use cannabis, concentrated cannabis, and cannabis products which have been obtained from an adult-use cannabis retail store in this State. 6. A cannabis consumption lounge may not sell a product other than single-use cannabis products or ready-to-consume cannabis products which contain any level of THC or CBD without the approval of the appropriate Board Agent. Each cannabis consumption lounge shall maintain a file which contains a certificate of analysis for any such approved product at the cannabis consumption lounge and shall make the file available for review upon request. 15.040 On-site requirements to operate a cannabis consumption lounge. 1. The cannabis consumption lounge shall comply with any federal, state and local applicable laws or regulations related to on-site food preparation. 2. Required certification of certain employees. (a) If the cannabis consumption lounge serves food, including edible cannabis products, it is required that a Certified Food Protection Manager, as certified by an American National Standards Institute (ANSI) accredited program, be employed by the lounge and be onsite during all hours of operation in which food is being prepared or served;',\n",
       " '(b) If the cannabis consumption lounge serves food, including edible cannabis products, it is required that all employees which handle food must obtain a food handler card from the local health department. (1) If the local health department does not offer this service, employees must obtain a food handler certification from an American National Standards Institute (ANSI) accredited organization. 3. Required logs that must be maintained for a minimum of two years. (a) Consumer illness log for illnesses reported after consumption or ovetconsumption. (1) Log to include name, date and time of consumption, type of food or cannabis consumed, date and time of illness onset, illness description and contact information. (b) Employee illness log. (1) Log to include, at a minimum, name, dates called out due to illness, symptoms and diagnosis. > Communicable illnesses must be reported in accordance with NCCR 6.090 and NRS 441A. 15.045 Employee Training and Consumer Education. 1. Cannabis consumption lounges shall train their employees about the various products the lounge sells, including the potency of the products, absorption time, and effects of the products, to include at a minimum all of the topics found in NCCR 6.072. 2. Cannabis consumption lounges shall create written plans with instructions on how to address the following scenarios: (a) Health policy that must also be posted in a clearly visible location to employees; (b) Overconsumption; (c) Sexual Assault; and (d) Impaired driver risk mitigation plan. 3. The employee training program shall include at a minimum of eight hours of compensated instruction time for initial training and four hours of compensated supplemental instruction time each year thereafter. 15.050 Separate room for cannabis smoking, vaping, and inhalation. All indoor cannabis smoking or inhalation must be confined to a designated smoking toom. 1. The room must be completely separated from the rest of the cannabis consumption lounge by solid partitions or glass without openings other than doors or pass-through service windows. (a) All smoking-room doors and service windows must be self-closing and installed with a gasket to provide a seal where the door meets the stop. 2. The cannabis consumption lounge must create and mandate work protocols and indoor or outdoor air quality standards that minimize employees’ secondhand smoke exposure, including training to employees on the proper use of Personal Protective Equipment (PPE). (a) Minimize the need for employees to enter the smoking room, while still being able to monitor activities within the smoking room. (b) Provide employees with adequate PPE such as N95/KN95 masks or respirators to minimize secondhand smoke exposure while in the smoking room.',\n",
       " '15.055 Ventilation of the cannabis consumption lounge. A ventilation plan must be submitted, approved, with changes as necessary, and fully implemented prior to issuance of a final license. At a minimum, the ventilation plan must include: 1. A separate ventilation system within any designated smoking room capable of 30 complete ait changes per hour at a minimum that must be directly exhausted to the outdoors; 2. A separate system within the rest of the cannabis consumption lounge capable of 20 complete air changes per hour at a minimum that must be directly exhausted to the outdoors; 3. The ventilation system within any smoking room must create a negative ait pressure within the room; 4. A High-Efficiency Particulate Air (HEPA) filtration system, or equivalent system, capable of handling the entire volume of air within any separate room of the lounge; 5. An odor mitigation plan that identifies, at a minimum, the following: (a) The specific odor control equipment to be installed and operated to mitigate odor emissions prior to leaving the building; (b) An engineering assessment approved by a certified professional engineer ensuring the odor control equipment installed and operated will mitigate odor emissions prior to leaving the building; and (c) An operation and maintenance plan showing the monitoring frequency for preventative maintenance, the timely responses to equipment malfunctions and the record keeping and employee training in place to ensure the odor control equipment to be installed and operating is maintained per manufacturer’s specifications. (d) Any deviations from the odor mitigation plan or malfunction of equipment must be documented on a log that shall be provided to the Board upon request. 6. If the cannabis consumption lounge plans to use has an outdoor smoking area, the applicant must submit a request to the local jurisdiction and comply with any requirements the local jurisdiction may have regarding an outdoor smoking area. 7. Atmospheric monitoring of the non-smoking room of the cannabis consumption lounge focusing, at a minimum on an 8-hr average and 15 min peak CO2 and PM 2.5 concentrations which must include an audible and visual notification system, alerting the facility to any failures. 8. Any local jurisdiction requirements. Local jurisdiction requirements can be mote restrictive than the NCCRs. 15.060 Notices and additional disclosures. 1. The following notices that must be posted within the cannabis consumption lounge in a conspicuous location. (a) “HEALTH WARNING: Pregnant or breastfeeding people should not use cannabis or cannabis products. Using cannabis during pregnancy or while breastfeeding may be harmful to your baby’s development.” (1) This health warning must be conspicuously posted in a minimum of 40- point font at the entrance and in every restroom of a cannabis consumption lounge. (b) “HEALTH WARNING: This is a smoking lounge. Occupants will be exposed to secondhand smoke. Secondhand smoke is hazardous to your health.” (1) This health warning must be conspicuously posted in a minimum of 72- point font at the consumer entry point to a cannabis consumption lounge and separate smoking room within a cannabis consumption lounge if smoking of cannabis is permitted.',\n",
       " '(©) “Consumption Area — No One Under 21 Years of Age Allowed.” (1) This notice must be conspicuously posted in a minimum of 40-point font on every entry point to a cannabis consumption lounge. (d) Cannabis consumption lounges must post, at all times and in a prominent place inside the consumption lounge, a warning that is at a minimum of 40-point font that reads as follows: (1) “Must be 21 or older to enter”; (2) “Cannabis may only be consumed in designated areas out of public view”; (3) “No consumption of alcohol, tobacco and/or nicotine products on site”: (4) “We reserve the right to refuse entry or service for any reason including visible intoxication’; (5) “It is against the law to drive while impaired by cannabis” and (6) “Firearms are prohibited”. (e) A cannabis consumption lounge shall post one or more signs outside of the licensed premises that indicate loitering is prohibited and consumption of cannabis is only permitted in designated areas out of public view. 15.065 Alcohol, tobacco and nicotine products. All alcohol, tobacco and nicotine products ate not permitted for use or sale in a cannabis consumption lounge. 15.070 Reporting of medical incidents. Each cannabis consumption lounge shall, within 24 hours of becoming aware, report to the CCB any medical incident stemming from a consumet’s consumption of cannabis or food that necessitated medical treatment. 15.075 Leaving with cannabis. 1. A cannabis consumption lounge shall not allow a consumer to leave the licensed premises with any unconsumed cannabis in accordance with the requirements of Nevada law. 2. All sold and unconsumed cannabis and cannabis products must be destroyed in accordance with NCCR 10.080(3). 3. Retail cannabis consumption lounges shall create and submit a written plan to the Board for approval that either prohibits or provides a way to store and return any cannabis or cannabis products purchased by a consumer from the adult-use cannabis retail store while the consumer is in the retail cannabis consumption lounge. 15.080 Impaired driving. Each cannabis consumption lounge shall develop a plan to mitigate the risk of impaired driving, to include making information readily available to the consumer about transportation options. As part of this plan, each cannabis consumption lounge shall adopt practices that discourage impaired driving, with consideration of examples, including but not limited to as a 24 hour no tow policy and/or a potential partnership with ride share to offer discounted rides both to and from the premises to consumers. If the Board learns of an increase in impaired driving stemming from the location of a particular licensee, the Board shall require the licensee to update the cannabis consumption lounge’s impaired driver risk mitigation plan. 15.085 Law enforcement temporary closure of licensed operations. The Board or the head of the local law enforcement agency with jurisdiction over the licensee (or authorized designee) in an emergency, for cause, or upon code violation of a specific act which endangers the public welfare; and finding that such closure is necessary for the immediate preservation of the public peace, health, safety,',\n",
       " 'morals, good order or public welfare, may temporarily close any cannabis consumption lounge for a period not to exceed seventy-two consecutive hours. 15.090 Visibility of consumption. 1. A cannabis consumption lounge shall ensure that the display and consumption of any cannabis is not visible from outside of its premises. 2. A cannabis consumption lounge may have a consumption atea outdoors under the following conditions: (a) The cannabis consumption lounge shall ensure that all cannabis is kept out of plain sight and is not visible from a public place without the use of optical aids, such as telescopes or binoculars, or aircraft; and (1) The cannabis consumption lounge shall ensure that the consumption area is surrounded by a sight-obscuring wall, fence, or other opaque or translucent barrier that also prevents cannabis products from being transferred to anyone outside the consumption area; or (2) The height of the consumption area is higher than the surrounding area and obscures view of consumption. 15.095 Water service. Water shall be provided without request and free of charge to all consumers. 15.100 Retail cannabis consumption lounge attached or immediately adjacent to a cannabis sales facility. 1. Any cannabis sales facility that is awarded a retail cannabis consumption lounge license from the Board has no right to transfer said lounge license without also simultaneously transferring the license for the cannabis sales facility. The awarded retail cannabis consumption lounge license will be permanently paired with the cannabis sales facility license upon issuance. 2. The physical premises of the retail cannabis consumption lounge must be attached or immediately adjacent to the cannabis sales facility. Cannabis sales facilities must create a standard operating procedure to transfer cannabis to or from a retail cannabis consumption lounge. For purposes of this section the following definitions apply: (a) “attached” means that the physical premises of the retail cannabis consumption lounge cannot be removed from the cannabis sales facility without substantial damage to either premise. (b) “Immediately adjacent” means having a common border with another property, including the intersection of property lines at property corners, with no street, building, or other property between and approved by the local jurisdiction. The Board retains the authority to require a distributor license to transfer cannabis from the cannabis sales facility to the retail consumption lounge if the Board deems it necessary. 15.105 Ready-to-consume cannabis products. 1. Preparation of all ready-to-consume cannabis products must comply with FDA food code and any other local health code as enforced by locality; with the exception that cannabis is not considered an adulterant. 2. All ready-to-consume cannabis products, the ingredients, and the procedures to prepare such products must be approved by the appropriate Board Agent prior to preparation and sale to a consumer. 3. All ready-to-consume cannabis products must be individually dosed to ensure accuracy and homogeneity; infusion of bulk ingredients for multiple servings is prohibited.',\n",
       " '4. Cannabis consumption lounges: a. May separate premeasured single-dose concentrated cannabis procured from a cannabis sales facility for the purpose of individually dosing each ready-to-consume cannabis product in its final state. b. Shall clearly mark ready-to-consume cannabis products with the cannabis dose in the dish when being served to consumers. c. Shall notify the consumer as to which part of the dish is infused. d. Shall include allergen information on the menu. e. Shall not encourage sharing of ready-to-consume cannabis products. 15.110 Surfaces and devices: Sanitation and cleaning frequency. Each cannabis consumption lounges shall ensure that: 1. The surfaces, utensils, and reusable devices that have direct contact with cannabis products are adequately washed, rinsed and sanitized. 2. After being cleaned, surfaces of equipment, utensils, and reusable devices that have direct contact with cannabis products ate sanitized in: (a) Hot water manual operations by immersion for at least 30 seconds with a temperature of 170°F (77°C) or above; (b) Hot water mechanical operations by being cycled through equipment that is set up and achieving a utensil surface temperature of 160°F (71°C) as measured by an irreversible registering temperature indicator; or (c) Chemical manual or mechanical operations, including, without limitation, the application of sanitizing chemicals by immersion, manual swabbing, brushing or pressute spraying methods using a solution as specified on the manufacturet’s label use instructions that are approved by the Environmental Protection Agency, by providing an exposute time of at least 30 seconds unless the manufacturetr’s label use instructions provide otherwise. 3. If the surfaces of utensils or equipment come into contact with potentially hazardous cannabis products and ingredients, the surfaces and utensils are cleaned throughout the day at least once every 4 hours. 4. The surfaces of utensils and equipment that have direct contact with cannabis products and ingredients that are not potentially hazardous are cleaned: (a) At any time when contamination may have occurred; and (b) In equipment, including, without limitation, ice bins and beverage dispensing nozzles, and enclosed components of equipment, such as ice makers, cooking oil storage tanks and distribution lines, beverage and syrup dispensing lines or tubes, coffee bean grinders and water vending equipment: (1) At a frequency specified by the manufacturer; or (2) If the manufacturer does not specify a frequency, at a frequency necessary to prevent the accumulation of soil or mold. 15.115 Health inspections and permitting. State and local public health regulatory agencies may require permits and/or conduct inspections related to the services offered at the cannabis consumption lounge.']"
      ]
     },
     "execution_count": 46,
     "metadata": {},
     "output_type": "execute_result"
    }
   ],
   "source": [
    "ocr_texts"
   ]
  },
  {
   "cell_type": "code",
   "execution_count": 47,
   "id": "29fd2417",
   "metadata": {},
   "outputs": [],
   "source": [
    "def ai_agent_analyze_ocr(ocr_texts, question,client):\n",
    "\n",
    "    full_text = \"\\n\\n\".join(ocr_texts)\n",
    "    \n",
    "    prompt = f\"\"\"\n",
    "You are a legal assistant helping to analyze PDF documents extracted by OCR.\n",
    "\n",
    "User question: {question}\n",
    "\n",
    "Below is the extracted text from the PDF document (from OCR):\n",
    "\n",
    "{full_text}\n",
    "\n",
    "Please provide a clear and concise answer to the user's question based on the content of the document.\n",
    "\"\"\"\n",
    "    \n",
    "    response = client.chat.completions.create(\n",
    "        model=\"deepseek-chat\",\n",
    "        messages=[\n",
    "            {\"role\": \"system\", \"content\": \"You are a helpful legal assistant.\"},\n",
    "            {\"role\": \"user\", \"content\": prompt}\n",
    "        ],\n",
    "        temperature=0.2,\n",
    "        max_tokens=800\n",
    "    )\n",
    "    \n",
    "    answer = response.choices[0].message.content.strip()\n",
    "    return answer"
   ]
  },
  {
   "cell_type": "code",
   "execution_count": 48,
   "id": "87b0a2cc",
   "metadata": {},
   "outputs": [],
   "source": [
    "final_response = ai_agent_analyze_ocr(ocr_texts,question,client=deepseek_client)"
   ]
  },
  {
   "cell_type": "code",
   "execution_count": 50,
   "id": "9f8409e1",
   "metadata": {},
   "outputs": [
    {
     "name": "stdout",
     "output_type": "stream",
     "text": [
      "The extracted text from the PDF outlines regulations for **cannabis consumption lounges** in Nevada, but it does not directly address the general **law on smoking weed in public in the U.S.**  \n",
      "\n",
      "### Key Takeaways on Public Consumption:  \n",
      "1. **Federal Law**: Cannabis remains illegal under federal law, though enforcement varies.  \n",
      "2. **State Laws**: Most U.S. states where cannabis is legal (medically or recreationally) **prohibit public consumption**, including smoking in parks, streets, or other public spaces.  \n",
      "3. **Nevada-Specific Rules (from the document)**:  \n",
      "   - Cannabis consumption lounges must ensure consumption is **not visible to the public** (Regulation 15.090).  \n",
      "   - Outdoor consumption areas must be **obscured from public view** (e.g., by walls or barriers).  \n",
      "   - Removing cannabis from the lounge is **illegal** (15.030).  \n",
      "\n",
      "### General U.S. Rule:  \n",
      "Smoking weed in public is **typically prohibited** in legal states and can result in fines or penalties. Consumption is usually restricted to **private residences** or **licensed lounges** (like those described in the document).  \n",
      "\n",
      "For specifics, check the laws of the **state/local jurisdiction** in question. Would you like help finding rules for a particular state?\n"
     ]
    }
   ],
   "source": [
    "print(final_response)"
   ]
  }
 ],
 "metadata": {
  "kernelspec": {
   "display_name": "Python 3",
   "language": "python",
   "name": "python3"
  },
  "language_info": {
   "codemirror_mode": {
    "name": "ipython",
    "version": 3
   },
   "file_extension": ".py",
   "mimetype": "text/x-python",
   "name": "python",
   "nbconvert_exporter": "python",
   "pygments_lexer": "ipython3",
   "version": "3.11.0"
  }
 },
 "nbformat": 4,
 "nbformat_minor": 5
}
