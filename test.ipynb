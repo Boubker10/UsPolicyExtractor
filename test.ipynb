{
 "cells": [
  {
   "cell_type": "code",
   "execution_count": null,
   "id": "b521543e",
   "metadata": {},
   "outputs": [],
   "source": [
    "from openai import OpenAI\n",
    "import os \n",
    "import json \n",
    "import sys \n",
    "import requests\n",
    "sys.path.append(r\"C:\\Users\\o\\agentflightbooking\\fiancialAIAgent\")"
   ]
  },
  {
   "cell_type": "code",
   "execution_count": 80,
   "id": "daf629db",
   "metadata": {},
   "outputs": [],
   "source": [
    "from openai import OpenAI\n",
    "deepseek_client = OpenAI(\n",
    "    api_key=\"sk-3da1e2817a2942ea8809277679bb05ec\",\n",
    "    base_url=\"https://api.deepseek.com/v1\"\n",
    ")"
   ]
  },
  {
   "cell_type": "code",
   "execution_count": 109,
   "id": "32c5c4f9",
   "metadata": {},
   "outputs": [],
   "source": [
    "def reformuler_question_en_requete_usa(question, client):\n",
    "    prompt = f\"\"\"\n",
    "You are a legal research assistant for U.S. law.\n",
    "\n",
    "Your job is to turn a user's natural language question into a focused Google search query\n",
    "that finds relevant legal documents in PDF format on official U.S. government websites.\n",
    "and as output give me just the query without explanations\n",
    "\n",
    "Instructions:\n",
    "- Use only the key legal terms (state, topic, law name if known).\n",
    "- End the query with: site:.gov filetype:pdf\n",
    "- Be concise and relevant.\n",
    "- give just one query \n",
    "\n",
    "Example:\n",
    "Question: What is the law about privacy rights in California?\n",
    "Query: california privacy law site:.gov filetype:pdf\n",
    "\n",
    "---\n",
    "\n",
    "User question:\n",
    "\\\"{question}\\\"\n",
    "\n",
    "Google search query:\n",
    "\"\"\"\n",
    "\n",
    "    response = client.chat.completions.create(\n",
    "        model=\"deepseek-reasoner\",\n",
    "        messages=[{\"role\": \"user\", \"content\": prompt}],\n",
    "        temperature=0.2\n",
    "    )\n",
    "\n",
    "    return response.choices[0].message.content.strip()\n"
   ]
  },
  {
   "cell_type": "code",
   "execution_count": 110,
   "id": "aada385d",
   "metadata": {},
   "outputs": [],
   "source": [
    "question = 'Can a person who travels to Cuba enter the US?'\n",
    "reforulation = reformuler_question_en_requete_usa(question=question, client=deepseek_client)"
   ]
  },
  {
   "cell_type": "code",
   "execution_count": 111,
   "id": "f83457e7",
   "metadata": {},
   "outputs": [
    {
     "data": {
      "text/plain": [
       "'US entry after Cuba travel regulations site:.gov filetype:pdf'"
      ]
     },
     "execution_count": 111,
     "metadata": {},
     "output_type": "execute_result"
    }
   ],
   "source": [
    "reforulation"
   ]
  },
  {
   "cell_type": "code",
   "execution_count": 112,
   "id": "f74717d6",
   "metadata": {},
   "outputs": [],
   "source": [
    "import os\n",
    "import requests\n",
    "\n",
    "SERPAPI_API_KEY = os.getenv(\"SERA_API_KEY\")\n",
    "\n",
    "def chercher_pdfs_via_serpapi(query, api_key=SERPAPI_API_KEY):\n",
    "    url = \"https://serpapi.com/search\"\n",
    "    params = {\n",
    "        \"engine\": \"google\",\n",
    "        \"q\": query,\n",
    "        \"api_key\": api_key,\n",
    "        \"num\": 5, \n",
    "        \"filetype\": \"pdf\",\n",
    "        \"hl\": \"en\"\n",
    "    }\n",
    "    response = requests.get(url, params=params)\n",
    "    if response.status_code != 200:\n",
    "        raise Exception(f\"Erreur SerpAPI : {response.status_code} - {response.text}\")\n",
    "\n",
    "    data = response.json()\n",
    "    results = data.get(\"organic_results\", [])\n",
    "    pdf_urls = []\n",
    "    for result in results:\n",
    "        link = result.get(\"link\", \"\")\n",
    "        if link.lower().endswith(\".pdf\"):\n",
    "            pdf_urls.append(link)\n",
    "    return pdf_urls\n"
   ]
  },
  {
   "cell_type": "code",
   "execution_count": 113,
   "id": "7438325b",
   "metadata": {},
   "outputs": [],
   "source": [
    "pdf_link = chercher_pdfs_via_serpapi(query=reforulation)"
   ]
  },
  {
   "cell_type": "code",
   "execution_count": 114,
   "metadata": {},
   "outputs": [
    {
     "data": {
      "text/plain": [
       "['https://www.cbp.gov/sites/default/files/2025-06/CLP%20Bulletin%20%20Presidential%20Proclamation%20Restricting%20Entry%20Final.pdf',\n",
       " 'https://travel.state.gov/content/dam/visas/iv-dv-supplemental/HAV%20-%20Havana-5-20-2024.pdf',\n",
       " 'https://www.congress.gov/crs_external_products/IF/PDF/IF10045/IF10045.67.pdf']"
      ]
     },
     "execution_count": 114,
     "metadata": {},
     "output_type": "execute_result"
    }
   ],
   "source": [
    "pdf_link"
   ]
  },
  {
   "cell_type": "code",
   "execution_count": 115,
   "id": "302e1090",
   "metadata": {},
   "outputs": [],
   "source": [
    "import os\n",
    "import requests\n",
    "from datetime import datetime\n",
    "\n",
    "def telecharger_pdf_dossier_temp(url_pdf, dossier_temp=\"data/temp\"):\n",
    "    os.makedirs(dossier_temp, exist_ok=True)\n",
    "    \n",
    "    timestamp = datetime.now().strftime(\"%Y%m%d_%H%M%S_%f\")\n",
    "    nom_fichier = f\"document_{timestamp}.pdf\"\n",
    "    chemin_complet = os.path.join(dossier_temp, nom_fichier)\n",
    "    \n",
    "    response = requests.get(url_pdf)\n",
    "    if response.status_code != 200:\n",
    "        raise Exception(f\"Erreur téléchargement PDF : {response.status_code}\")\n",
    "    \n",
    "    with open(chemin_complet, \"wb\") as f:\n",
    "        f.write(response.content)\n",
    "    \n",
    "    return chemin_complet\n"
   ]
  },
  {
   "cell_type": "code",
   "execution_count": 116,
   "id": "0e1fc580",
   "metadata": {},
   "outputs": [],
   "source": [
    "save_pdf = telecharger_pdf_dossier_temp(url_pdf=pdf_link[0])"
   ]
  },
  {
   "cell_type": "code",
   "execution_count": 117,
   "id": "b95ed978",
   "metadata": {},
   "outputs": [
    {
     "data": {
      "text/plain": [
       "'data/temp\\\\document_20250719_235609_502844.pdf'"
      ]
     },
     "execution_count": 117,
     "metadata": {},
     "output_type": "execute_result"
    }
   ],
   "source": [
    "save_pdf"
   ]
  },
  {
   "cell_type": "code",
   "execution_count": 118,
   "id": "4c722f77",
   "metadata": {},
   "outputs": [],
   "source": [
    "from pdf2image import convert_from_bytes\n",
    "from typing import List, Optional\n",
    "from PIL import Image\n",
    "import os\n",
    "import requests\n",
    "import json\n",
    "import pytesseract\n",
    "\n",
    "def ocr(pdf):\n",
    "    images = convert_from_bytes(pdf)\n",
    "    ocr_texts = []\n",
    "    \n",
    "    for i, image in enumerate(images):\n",
    "        image_path = f\"page_{i + 1}.png\"\n",
    "        image.save(image_path, \"PNG\")\n",
    "        print(f\"Saved {image_path}\")\n",
    "    images_path = [f\"page_{i + 1}.png\" for i in range(len(images))]\n",
    "    for image_path in images_path:\n",
    "        image = Image.open(image_path)\n",
    "        with Image.open(image_path) as image:\n",
    "                if image.mode != 'RGB':\n",
    "                    image = image.convert('RGB')\n",
    "                \n",
    "                text = pytesseract.image_to_string(\n",
    "                    image, \n",
    "                    lang='eng',\n",
    "                    config='--psm 6'  \n",
    "                )   \n",
    "                text = text.replace('\\n', ' ').strip()\n",
    "                ocr_texts.append(text)\n",
    "        os.remove(image_path)\n",
    "        print(f\"Removed {image_path}\")\n",
    "        \n",
    "    return ocr_texts"
   ]
  },
  {
   "cell_type": "code",
   "execution_count": 119,
   "id": "862a3955",
   "metadata": {},
   "outputs": [],
   "source": [
    "#read pdf \n",
    "with open(save_pdf, \"rb\") as f:\n",
    "    pdf_bytes = f.read()"
   ]
  },
  {
   "cell_type": "code",
   "execution_count": 120,
   "id": "a87499a9",
   "metadata": {},
   "outputs": [
    {
     "name": "stdout",
     "output_type": "stream",
     "text": [
      "Saved page_1.png\n",
      "Saved page_2.png\n",
      "Removed page_1.png\n",
      "Removed page_2.png\n"
     ]
    }
   ],
   "source": [
    "ocr_texts = ocr(pdf_bytes)"
   ]
  },
  {
   "cell_type": "code",
   "execution_count": 93,
   "id": "d982780f",
   "metadata": {},
   "outputs": [
    {
     "data": {
      "text/plain": [
       "['Trusted Traveler Programs Handbook Office of Field Operations Admissibility and Passenger Programs Trusted Traveler Programs HB 3300-011 September 2022 Official Use Only RF U.S. Customs and Sus; Border Protection CBP-OFO-2022-092322-000004',\n",
       " 'CBP-OFO-2022-092322-000005',\n",
       " 'Foreword This handbook establishes the policies and procedures for the Trusted Traveler Programs (TTP). These guidelines include the processes for enrollment of travelers into the programs and the procedures for inspecting TTP members at the ports of entry. These programs are an essential element of the U.S. Customs and Border Protection’s (CBP) strategy to secure our borders through increased advanced knowledge of the travelers. TTP participants are subject to rigorous vetting and random compliance checks to ensure the integrity of the programs. Shorter wait times and expedited procedures for Trusted Travelers at the ports of entry provide the incentive for participation in the programs. The handbook provides an overview and guidance for CBP officers and supervisors who are assigned at the enrollment centers as well as those at the ports of entry. Officers and supervisors are advised to check the CBP website often for TTP updates, changes, or additions to the policies and procedures outlined in this handbook. Frequent upgrades in technology, software, and issue resolutions result in recurrent procedural and/or policy changes. Executive Director Admissibility and Passenger Programs Office of Field Operations  CBP-OFO-2022-092322-000006',\n",
       " 'Table of Contents  1. Overview of the Trusted Traveler Program........ccsscscssessessessssscsssessesesssecsesesserccsverceenecessseee La. Global Entry... ccc cece secceeeeee te seceeeeevanseeeeecesaesasecacaeeetesecaseenavseeeeecesaansecaretentrtesseeteetnsee @ 1.6. International Arrangements 0.0.0... ccc ccc eeseeeecseeeteseceeeceerseseeecesseasecatesentstecsseseetaneeeeeees O  2. ‘Definition, Terms and Acronyms used in Trusted Traveler Programs........sccsssccscsesrscseecessesrseeseeee 3. Trusted Traveler Strict Standards..........cccsssssscccsscesssncessssscessseccsncassnsscconescssssssceeseeessencansesseesseee LO 3.1. The Strict Standard for Trusted Traveler Programs ..........0....ceceeeeeeceeeeeeeeeeeetrtecteteettneeee LO  4. — Eligibility Requirerments ...........csscccssscsrssstsessessnsessssensecsnsscnseescnsnessesseesansssssceseassesssescsssessssseres LO 4, General Eligibility for Trusted Traveler Prograims.......ccscceeeeceecceesteceeteeeterereeeeseeaseecteeeees LO 4.2. GE Criteria for Eligibility 0.00 cs cee ceee tere cece eeeranseneeesesansecaceteetesesaeseettseeeesetsnnneeeere LO 4.3. SENTRI Criteria for Eligibility 00.0... ecccececeescsceeeceeneeseceeeceeeeseeeececerseceateeseesseeeeteeeatteeteeeeee LD 4A, NEXUS Criteria for Eligibility... eee eeeee tees ee eeeeetseeeee te saeseetateeeeteteneeeetneeeees EL AS. FAST Criteria for Eligibility... cceccsccccssecseeeceeeceeeaeeeecsaeceeseceeceaeeeseaeeeceaeeeesersssenteceteteesere bo AG. APEC Criteria for Eligibility 0.00... ccesseecetseceeecseeeeceeneesecaeeceeeeeseeececaeeseceaeeceeesseeeeceeeatteeateeeenens D2  §. Special Considerations .........c:ccccccssssssssseseesseecseessseusseeesseessensssessseensseesansssssenseesssessesessssessseessenee D2, 5.1. MUNOFS coe cecscscccccccesesccsasccceescseneesecesesccsacecceeeceeseeseeeaescesaceaceseceasesseesseedeseecasessceaseeaeersecaesseeaeteesere LO 5.2. Commercial Airline Pilots and Vessel Masters........ccscsccsseceesessecececeerseceeteeceeesseeeeteetattecateeeerens L2 5.3. CBP Employees... cece ee cccescceceeeseeeeececeesceeeacseeesecesassseetacseeeeesesasatavecesesesaneseetavaseetesesnsneenere LD 5.4. TTP Applicants with Disabilities 0... cc ccccscccssecseeeneeeeseecsaecceseecseneeceeeceececeaeeeeceaeceeeeeseeenteceteteeeeee 2  6. Applying for Trusted Traveler Prograrms..........cccescssseessscsesseseussseeeseeceseusssesseeessensssesssenseessseee LS 6.1. How do individuals apply .....ccccccccceesccceecnseeeeceseceesseccaseecsecseeeceeeesecaseecseeeeeseee seer LO 6.2. FOES oo scecceseesceeeeeceneseceasecceeceeeeececeasseceaseccseesaeeeeceaussseceeceecceesaceeeseanseaeseeecaseseceaeeeeeersseeteeaeeeeeee LO 6.3. Fee Collection... ee ccceecccceceseecensesteecseeseceesaesceasecesecesecesecaeeaesecaeaeeeseeeeeseeeaeeecateateetiteetersetareeeeeee L4 6.4. RENGWals ...cccccssccesccccsececsceeceesseeeeeceeseececeacecaaeseesceseceeeseaeaseccasesseececeesseceaseccaaeseeecsseceesseacateccsees LA  7. Trusted Traveler Vetting Responsibilities ...........ccsssssesssccssscsssesscscssescssssscsessescvescasssssersseesseree LA 7.1. Risk ASSESSIMENKS 0.2... eceececeeeecceseeeeeeceseeececesececsaeeeeacecesesisaesecaesacsecaeaeeseeeeseeeaseecateatentteeterseetareeeeeee L4 7.2. Vetting Status oo cecceecccccscceenecssecceaeeecceenecseesecaeceeeaseccecssecseesecaaececeaeeacececeaeeeceeeeeeeseeeeseceeereeeettecsare LO 7.3. Risk Assessment Worksheet ......cccsccesesseceeecceaeteeaeeceeesseeceeeceesaeecaeeaeeeseceeesecearteeaseaeeetsteateesetasseeeeee LO TBM (NT NEY LQUELICS vc scccscsssussesseueierntusennuensnasieunnutienssnenensnsenaeensens 16  TA. ROVE cc ceccccceecccceceeeeneeseeecsenseseceaesecaasseseeecsceseseceacsaeaasaesasececeececeaceecaaeseeaceceeesecearecateaeeeeseeteesetateeesees LO 7.5, Recurrent Vetting oo... cece ccc ee cece enaeeeeeseceae ceaeeeceeeesaessaeseceeeseeeseseeesaaeaeseseseeeeseeseeeessseesseessseeses LO 7.6. Retention REQUeSES .... ce ececcccsssseeecececneseceeececaaececeeeccaeesseceeececaaeseceaecdceseeeeeedcecseceaeseeaesseeeesseetsecsaee LD  8. Interview & Enrollment Procedures.........ccsscccssscsssssscsessescssscesssssesessescasssssesescscnessesssssessssessveree LZ, 8.1. Interview Options...........cccccesessceseseeneseeessecsensssseessaseaeeeesneesaeeassseeceasssassescssesaseraestcsssestesescssesase LA B.1.1. Enrollment Centers 0. cccccesseccescccseecssceeecsseceesceacesecsecseeseeceesccaseecsseteessesetsescseesseee LT 8.1.2. — Enrollment on Arrival occ. cccececcecceceeescceaseecaeeseeeesseceeececeaececaeeseeaceceeeseeeaeeecaeeseeetteeteeseetteeeeees LB 8.1.3. Remote Interviews 0.0... ccc ee cece ecee cece ceeseeceeeseeeeseeeesseseeeseeeaeseeesecsaeseaeessetsasessseeaesseaes LO  8.2. Applicant Interview oc cccccssccscssesesecsceneeeecsaecaatseceaeeeeeaseseceacccateeeeaececeesseeeseaeeaaseecsececttseeeeee LD 8.2.1. — Application REVIOW.........ccceceecesseceesssceseeecaseseseesseaesecaetaceecaeeaeeeseeesecaeeareecaeeateetteeteesetateeeeeee LO 8.2.2. — Applicant Questioning... ccc scccnseecnscececnseeeesceccaceecsesieceseceessscaseecacsseesseesersescseacsees 20 8.2.3. Risk Assessment Worksheet Issue RESOIUtION ......e ccceeeecceceteeeeeceeececeaeeecaeeseeetsteateeeeetatteenees 2O 8.2.4. — Fingerprint Collection... cccecececeessscesseeceeeseeeeseeeeeececeaceeceeeaeeeseeeseceeeareecaeeaseetateeterseetareeeeees 2O 8.2.5. Traveler Document Capture... .cccscccssccsssseeeceeeeeeecsaeceateeseeceeeseseaeeseceaeseceeeseaeeasseeteneenaee 22  1 CBP-OFO-2022-092322-000007',\n",
       " '8.2.6. Photograph Capture ......ccecceccecceceesseceseeeceeeseeeceeeeeeeceesacecsaeseecceeeseeeacecaeeaseesateaterseetateeeseee 22 8.2.7. Visa Information Collection... cccccccssecseccceeenseseeeccersesecsectscessaeeeseacaseasaeeceeenseaseeseacseaseere 2d 8.2.8. Mandatory COMMENtS v0... ccccsecsesceessssseeesceceeesecnecceesaesaueeececeseeecseccaaeseseaecaaearseeeeetsceteaesneee 29  8.3. Criminal History Adjudication oo... ccc cece cece eeceeeseeeteseceseenavseeeeecesannnsecarsentsteseneenene 2 8.3.2. IDENT) (D)(7)(E) os eseessssssssesssssssssssssssnsesssssesssnsssssssessssssssasssssnsssnsssesssssssssseenssssssssseesssssssses 24  8.4. APProvalls ooo. ccascecceeceeeeseceeecceeaesecaeeseeeaseeeeecaeeeeseeeeeeaaeseadeeceaesecaaeseeaaseedeececeasseceateeeateseeeees 20) 8.5. Enrollment Determination ........ccccecceescceceeccseseeseeceeeeeseceaceecaeeaeeceeeeesecacecaeeaseeseteeterseetateeeeees 20 8.5.1. Membership Briefing 0... cccsccsssccssecseecceeenseeaaceecnsecaaeeecearssaeeneseaeesecaaeteeterssaeeatseetsaeenrs 20 B52. Derials ec cecccceecccesaseeceseceeeesseeeeecceeaeeecaeeseeessseceeeceaeaesecaeeseeaseeeeececeaseecaseaeeetsseteessanaseeeeees 20 8.5.3. ROVOES ooo cece cee cece ee ceee eens ceeececaaesecesceeeesaseceeeceauesseeeseeeessnseceeeeesssecseeceeesseeeeseeeserseeeeseenaes 20 8.5.4. Additional Documentation REQuired 0... cceccsscsneeeecetececeseceercsaeeeceaeeecnaeteeteessaeeeseeteeenaes 20  8.6. RECUPrent VEtU go. ccc ccccececeesceeeaesecnecceecsesseuceceeeasscceecceceseseceeeceassseesscecatesecsaseceteseseassteceaeesente 27 8.7. RECOIS.....ccccsecscecceccsceseeececeseenssseaesecaeeesecsacsesatsaeacceceaesesecsacsecaeaeacaceaesecaceecateateeseteaterseeeateeceeee 27 BB. Member Profiles ...eeecceccceeseceressecneeecnneseceaeceeesneeanerccenseseceneseceseeaneseceensaseaneeetsnesaeatecearessseers 27 Bf (OTE) be cccaceeeeccssssnnesecesssnmeccecsssnmeecessssneceesssseseesssseeeeeseerssseetecsesssnneserssssnes 28  9. Global Entry Program Specifics .........cssssssescessessesssssevssvscsesecevessesssssscesvessessessessssssssereessessesserse 2B 9.1. Global Entry Program Benefits... cece cece cece ceceeeeeseeeee ceca seeareeeeeesesaneeetavaseetetesnseeenans 2G 9.2. Global Entry FIS Setup... cccccccccsscccsecseeeenseeeeecceseeseccececaaeseeeeeseeeseceecseeeaseeeeececeeeseeeaseccaaeeeenees 2 9.3. Global Entry Passenger Processing ......:ccsccesssssceesseceeetecaeeceeessecececaeeseceaeeaeeeseeeececearteeateeeenens 29 9.3.1. Membership Validation 2.0... ececcecesccesseccseeseeeesseseeeceesacsecaeeseeeseceseseeearsecateasensateateeseetateeeeees 29 9.3.2. — Primary Background Checks.....ccceccccssscseeeseeeceseeseeeecsaecaeeeeceaeceaeeneceaeeseceaeeeeserseaeeatecettteeeae OO 9.3.3. Legacy Global Entry Border Processing Technology ReCeipt ........cccccsccetesseeeresteeseeeeteeses SO 9.3.4. CBP Declaration... .cccccccsseeesesseseesseceaeeecaeeseeeeaseaeeecaesaceeeaaeaeeeseceeseeeareeeaeeaseesiteateeseetteeeeees DL 9.3.5. Required Documentation... cecccccsccsssenseeeteceaeceeteecseeesseeeeaeeaeeseceecsarsaceeeceeeetseeeetecsteeeenee ab 9.3.6. CBP Officer’s Responsibilities at Exit POINt 0.0... cccccccscccessceeecceeenseceeetecsaeseeeersceeeseceteteeses Db  94. Equipment Maintenance ..........ccccccccsssecceeeceeeesseeesraseaeeeecnacsaeeasceeeseaaessseasesseaseeaeaessaaesseeeaessenase D2 9.5. Airports without Global Entry border processing technology ......:cecccceeseceteeteeeecteeceeetteeeeeee S2 9.6. Global Entry Cards..c..ccccccccscesssccssececeeeseeeeececeeeceeeececeesecaaeceeeesecececaeeseceaeeaeeeseeeeeteeearteeateeeenens D2 10. SENTRI Program Specifics .........cccccssssscccsssssenssssessenssesceeeseseassseeeeeessausessesseeessensansssseeseaesssesseneeese D2 10.1. SENTRI Program Benefits 0... ccccscsesccscceneeeecsaeceeseceaeceeeaseseceaeceeseecsaeceeeeaseeeeeaeeaaeeeesaeeeeeeteneees D2, 10.2. Required Vehicle Information & Registration for SENTRI Lanes.........:cesccceseteeteeceeeeetteeeeens SD 10.3. SENTRI Lane Inspections — Vehicle Processing ..............c:cceeccsseseeeeeeeeesecaeeeeettieenteeennneenen BD 10.4. SENTRI — Pedestrian Processing .......ccccccessecceseseceseceeecneeeaeeeceacceeseeceaeceaeeatececeaeeaeeeeesaeceeeeeeeneees GA 11. NEXUS Program Specifics ........scccscssessesssvssveccesscssvessessessesessescsescesssnseessssscessercaeseesessseessssesseesee DD 11.41. NEXUS Program Benefits... .cccececcsceeesceeeteceseseeeeececeeeseceaeeecaeeseeeceeeeeseceaeeecaseseeeeeeeeeeeseetateeenens DD 11.2. Shared Data between U.S. and Canadian Off1CErS........cseceeesseceeececeteceeeeteeceeeeeeeeeateeeateeeeeees BD 11.3. NEXUS Air Processing .....cc:cecsccssssscsecsecesceesseesecseeeassceseceaceeeseaeesseenseeeeeeecaasseceaseeanerseeasteeeasseeers OO 11.4. NEXUS Land Processing ......cccsscesseccsceeesececesecaseseecsceceececeaeeecaeeseeaceeeeeseceaeecaseseeeeeeeeeeseeateeenens D7 11.5. NEXUS Marine Processing.........sccsccsssescssssseesseeesrseeseeeecneesaaeasceaeseasessseesessssaserseasssasesseeeaesseass DO 12. FAST Program Specifics .......ccssccsscesseseccccssessenssceccseasssescssessssuseeesceesesssesssscessssensssssssaseeesssee 4 42.4. FAST Program Benefits .......cccsscessecccceeeseceeesecaseseeeececeececeaeeecaeeseeeceeeeeseceareecaseseeeeeeeeteeseeeateeeeees 4O 12.2. Processing FAST Member? oo... ccceseeeeeseeseececeesceceareeeeeecesaeeseenseeeeesecassseatateeentetesansseetaneeeees 40 13. APEC Program Specifics ........cccsscccssscsssssecccseesssnssceccseasssescsessssaseeesceeesssaesescessssensssscsaseeesssee ss, 14. Trusted Traveler Secondary Processing.........ccsscsssssssessscssscessssscsessscessssssessessvessassssscseseessven cA, 14.1. NEXUS/SENTRI/GE Secondary Referrals at Land Borders .........ccccccececeeeseceteteeeereeetteeeeeereeeee AL 14.2. GE Referrals.c.cc cea ccccsecsseceescsccececsecsseeasseeeeececsesseceeceecssseeeceseeeseceecieeeasseeeeeceteesseseaseecaeseeee Oo 14,3, FAST Secondary Referrals ......ccceccccesesececetecseseeeeececeeececeaeeecaeeseeeceeeeseceareecaseseeeeeeeteesetareeenens 44 15, The Ombudsman Proce .....ccccsscsesscsececssseesecssccessseescesseeessseceeesseseeesssceessessersscsesesseessssseeesseee 4G  2 CBP-OFO-2022-092322-000008',\n",
       " '15,1, Ombudsman Discretion .......ccccccecccccecsseeceeceessececeeececeatsecaceceeseseeececesseeesueeeeeseesececeateeeaeeeeeeee 44 15.2, Denials Based on Vetting and/or Enrollment Interview .......ccccccssscsesssseeeescssteseeeseens 4D 15.3. Denials and Revocations Based on Border Violations .....c.cccccseceeeecceaseeceeeeeteeeeeeesetaeeeeee 46 16. Violations, Revocations, and Denials ..........::cccssccsssscscessseessseeceesscsnsseseesesessserssssseesseeesssseeeeneeee 4 TG.1. VIOLATIONS occ eee secnecteeeeseseeeceensececsecseceaseeeeceeseceseaseccauseeeeeseeesasearieeeaseaseeceesessaseareecaasseeeees 40 16.2. DCL Violations occ ccc cccseeseecenceeesceeeseceeeaesecaseceeesseceeccaeassecaeeceeaseeeaecaceaseecaseaeeetssseeeecsaeaseecees BZ 16.3. FAST Violations... ccceeecccececcesenseseeeceeseseceacsceassaesececeeesesecaceecaseaseacceerseceateecateateetetecterseeeareeeeess 4 TGA, Cuba Travel voce ec cecseccceeesseseesceenececsecsecesnseeececeeseeceseaseacausseesceceeesasearseeeaseeeeceeeessaseareecasseeeees 46 16.5. Revocations — Port Processes .occcccccccccccsscseeeceeeseececceceeseeeeecensseesseccatesecsasecetessseassteceaeneseet 4D 16.6, Revocations and Denials — Enrollment Center. .........ecececccceeseeececeerteceateeceeseeeeeeeeerseetereeeeees DL 16.7. Appeal of Denials or Revocations oo... cccsccsseseceeeceeeeteceneeecsaeceesaeseceeneaseueaeaesaesaesareeeneneenenee D2 16.8. Applicant Inquiries oo. cc ccccecccceesecneeceeeetseceecccaeeeseeneeteeaaseeeececesecaeeseeaaseedeececeasseceateeeaaeeeetees DD 16.9. Trusted Traveler Card Disposal oo... eee cece cne eeeeeeeeee te seceseetarseeeesesaennteeasetentrteceeeenens DA 16.10. Penalties: Non-Members Utilizing a Dedicated Lane or GE Border Processing Technology ..54 16.11, Documenting Non-member Violators... sccsenceceseeeeececaseceaeeceeeesecaentecearieeeeeeecsenneeeeee DD 17. Equipment Failure........cccssccscscsssscvsscessssscsesseecnscssssssceessescnescnsssssesensescanssssesengeesvessasssssesessessnesee DO 18. Lost, Stolen, or Inoperable Cards ........ccccccssersscssecesssnescessceeseseeceesscseeessscaeeecsseensssseeeesseeesssseeeenseee DO 19. Elevated Threat Level Impact ........ccccssssccccsssevssssesesssssscsseessssusecsssesecseeeesessessveceessssseesseses DD 20. DESCIOSULC........ccsssscecsersssecssncevsseesvesecesssseneasecsesssessescenaucessuessneseesseseeeesvsuessssceusascsssescessesessseees DO 21. Policy Staterment.........cccccccscssccssesssessseeseenssescseeseseussseeeeeesseuseseseseenseeusansasseeneaessnesseseaeseessaeessenss DO Appendix A - Adjudication of Derogatory Information for Trusted Traveler Program Applicants.........58 Appendix B - Statement of Mutual Understanding with Canada .............:cssccsscssessessesesseeeesesseseeee OZ Appendix C - General Interview Questions Guide ...........ccccsccsssessescseeseseesssessneeseseusssesseessenssssesseneees Fb Appendix D ~ Authority for Trusted Traveler Programs ........:cccccssssssssscccssesseessssscseeseeessssessseesteseees FD 3 CBP-OFO-2022-092322-000009',\n",
       " '1. Overview of the Trusted Traveler Programs U.S. Customs and Border Protection (CBP) is committed to enhancing legitimate trade and travel while maintaining the highest level of border security and integrity. In the reissuance of being able to operate our systems under the Privacy Act of 1974, DHS decided to combine the Trusted Traveler Programs and the Registered Traveler Programs (TRTP) under one notice to reduce the number of renewal submissions the agency has to provide to operate under the 1974 Privacy Act. Global Enrollment System (GES) is one of the systems under the broad category of TRTP. GES remains the system of record that officers use to collect biographic and biometric information. Trusted Traveler Programs (TTP) allow pre-enrolled, low- risk participants to receive expedited border processing, enabling CBP to direct additional scrutiny to the unknown, potentially higher risk travelers arriving at ports of entry. The integrity of the TTPs is maintained by a strict screening process that includes queries of multiple law enforcement databases and biometric validation of identity prior to enrollment; 24-hour checks to continually verify low-risk status of enrolled travelers; and a system of randomized referrals to secondary inspection to ensure Trusted Traveler members are in compliance with law and all policies and regulations specific to the TTP. There are currently four TTPs: Global Entry (GE), the Secure Electronic Network for Travelers Rapid Inspection (SENTRI), NEXUS and the Free and Secure Trade (FAST) Commercial Driver Program. The four TTPs use a harmonized Global Enrollment System (GES) and submission through an online cloud based TTP system linked to the (https://ttp.cbp.dhs.gov) which will take you tothe Login.govidentity _Management system. From GES, applications are forwardedtothe_ (B7M(E) | ___(b)(7)(E) __!where they undergo a strict vetting process. If the applicant passes the preliminary vetting process, the applicant is instructed to schedule an enrollment interview, if required. Alternatively, conditionally approved GE applicants can also complete the enrollment process in conjunction with a CBP primary inspection via the Enrollment-On-Arrival (EoA) Program at select locations where CBP officers will confirm identity, review travel documents, verify admissibility status, complete ten-print fingerprint checks against IDENT and IAFIS, and conduct an interview of the applicant. If the officer determines that the applicant is eligible for the program, the applicant will be approved and enrolled into the TTP for a five-year period. 1.1, Global Entry GE provides expedited and secure processing when arriving internationally at designated United States (U.S.) airports and when departing CBP Preclearance locations. Travelers enrolled in GE utilize GE border processing technology in lieu of traditional primary inspections; sss (bY(7(E) (bE) Egress processes are in place to ensure that CBP officers confirm that travelers have been properly processed by GE technology prior to departing an FIS and are in compliance with CBP reporting requirements. The GE border processing technology uses a document reader to verify the travel document and compare biometric data to validate enrollment. CBP has commenced the Global Entry Modernization (GEM) initiative. Phase 1 of this initiative involves integrating Facial Comparison into the GE arrival experience. Under this program, GE border processing technology is modified to capture a photograph in lieu of the fingerprint and passport scan to verify the identity of GE members through comparison with traveler data stored in the GES, the Traveler Verification Service (TVS), and the Advance Passenger Information System (APIS). CBP has piloted and selected a technology solution to implement a touchless, receipt-less process for GE processing, but the legacy GE process remains programmed to issue a receipt. A GE radio-frequency identification (RFID) enabled card is issued to U.S. citizens, U.S. Lawful Permanent Residents, and Mexican national GE members (not already enrolled in SENTRI or NEXUS) for use at the NEXUS and SENTRI lanes when 4 CBP-OFO-2022-092322-000010',\n",
       " 'entering the U.S.. Please note that this card is not valid for use in the NEXUS lanes when traveling into Canada or with the NEXUS and GE border processing technology in an airport environment when entering the ULS..  1.2. SENTRI SENTRI provides expedited CBP processing for pre-approved, low-risk travelers at southern land border ports of entry. At some locations, the SENTRI program is available for both vehicle and pedestrian border crossers. Each of the participating ports have designated SENTRI vehicle and/or pedestrian lanes with access restricted to SENTRI members. Participation in SENTRI requires that vehicles used to cross the border must be registered and inspected. Members are issued RFID-enabled SENTRI cards. The SENTRI identification document satisfies the Western Hemisphere Travel Initiative (WHTI) entry document requirements for citizens of the U.S. and Canada for land and sea travel. Access to the SENTRI vehicle lanes begins south of the border in Mexico, or on the access bridges, and is generally controlled by Mexican authorities.  1.3. NEXUS NEXUS is a bi-national TTP operated jointly by the U.S. and Canada. NEXUS provides expedited CBP and Canada Border Services Agency (CBSA) processing for travelers entering both the U.S. and Canada via the air, land, or marine environments. Each applicant must be approved by both CBP and CBSA prior to enrollment. At land border locations, NEXUS lanes are available for entry into the U.S. as well as Canada. Members are issued RFID-enabled NEXUS identification cards. The NEXUS identification card satisfies the WHTI entry document requirements for citizens of the U.S. and Canada for air, land, and marine travel. NEXUS members are eligible to use GE border processing technology for expedited CBP processing at airports, to include U.S. preclearance locations in Canada. At Canadian airports, NEXUS members may use NEXUS border processing technologies to enter Canada. The NEXUS border processing technologies use a biometric facial comparison or iris scan to verify program membership. NEXUS can also be utilized for small boat arrivals from Canada, providing expedited processing.  1.4. FAST The Free and Secure Trade (FAST) program is a Border Accord Initiative between the U.S. and Canada designed to ensure security and safety while enhancing the economic prosperity of each country. In developing this program, Canada and the U.S. have agreed to coordinate, to the maximum extent possible, their commercial processes for clearance of commercial shipments at the border. The program promotes free and secure trade by using common risk-management principles, industry partnership, and advanced technology to improve the efficiency of screening and clearing commercial traffic at our shared borders. With similar goals and techniques, the U.S. independently administers a version of FAST for low-risk imports from Mexico. There are two versions of the FAST Driver program — FAST North and FAST South. FAST participation requirements along the northern and southern border are very similar with minor exceptions: FAST North is a bi-national program administered jointly by CBP and the CBSA for expedited release into both countries, and FAST South is administered exclusively by CBP for expedited release into the U.S. with only inbound traffic management assisted by Mexican authorities. All occupants must have a valid FAST card at the time of crossing to utilize the FAST lanes; otherwise, regular service lanes must be used.  5 CBP-OFO-2022-092322-000011',\n",
       " '1.5. APEC The Asia-Pacific Economic Cooperation (APEC) is an inter-governmental forum for member economies in the Pacific Rim. Facilitating travel for qualified business travelers within the APEC region contributes to the business facilitation goal to free open trade and investment and to the U.S. economy. There are 19 fully participating APEC member economies including: Australia, Brunei Darussalam, Chile, Hong Kong (China), China (Mainland), Indonesia, Japan, Korea, Malaysia, Mexico, New Zealand, Papua New Guinea, Peru, Philippines, Russian Federation, Singapore, Chinese Taipei, Thailand, and Vietnam. APEC cardholders that are granted a pre-clearance status by a fully participating APEC economy do not need to make a separate application for a visa or entry permit when traveling to one of the other fully participating economies. There are two APEC economies that are transitional members and not full APEC members: Canada and the U.S.. APEC cardholders from transitional economies are not able to receive pre-clearance status from fully participating economies and must present any visas, travel or other entry documents that are required for entry into their destination economy. Both fully participating and transitional members offer access to expedited immigration lanes at participating airports. A “verified businessperson” engaged in APEC business means a person engaged in the trade of goods, the provision of services, or the conduct of investment activities in the APEC region. Professional athletes, news correspondents, entertainers, musicians, artists, or persons engaged in similar occupations are not considered verified business travelers engaged in business in the APEC region when they are traveling in such a capacity. A “U.S. government official” means a U.S. government official performing U.S. government activities that support the work of APEC. 1.6. International Arrangements CBP has entered arrangements with GE foreign partner countries to facilitate travel and grant reciprocal expeditated entry benefits to U.S. citizens and U.S. permanent residents who are GE members into foreign partner country travel entry programs. U.S. citizens and, U.S. LPRs must first acquire GE membership before they can acquire membership in a foreign partner country traveler program. Citizens of partner countries that CBP has arrangements with must be cleared by both CBP and the partner country government to receive GE benefits. Based on the bi-lateral agreement with the partner country, the applicant must initiate the process by submitting an online application for GE through the TTP website or with their primary country of citizenship. To find further information on existing arrangements for specific partner countries, please visit: https://www.cbp.gov/travel/trusted-traveler- programs/global-entry/international-arrangements. Bilateral Framework e A Joint Statement is signed with the partner country, which establishes the framework for the trusted traveler arrangement. e Applications will be vetted by each country against mutually agreed upon criteria and databases. Disqualifying criteria must also be mutually agreed upon. e Applicant must be approved and deemed “low-risk” by both countries. ¢ Both countries will exchange program status on a “pass/fail” basis. No additional information is exchanged other than the data necessary to complete vetting. 6 CBP-OFO-2022-092322-000012',\n",
       " \"e Both countries must agree upon a recurrent vetting schedule. e ff amember is revoked from the program, a message is sent to the partner country to indicate that the member is no longer in the program. AIL GE members who are not U.S. citizens or U.S. LPRs must maintain updated visa information with CBP and must have a valid machine-readable passport, ESTA or a valid visa. If a GE member obtains a new visa, or obtains a new petition for a work visa, the member must notify CBP in- person at a GE enrollment center. Amember must visit an enrollment center to have CBP add a new visa and/or update visa information. If the visa information is incomplete or not properly updated with CBP, the GE Border Processing Technology may incorrectly calculate the member’s Class-of-Admission and admission date. As previously stated, a member must visit an enrollment center in-person to add or update visa information. 2. Definition, Terms and Acronyms used in Trusted Traveler Programs Admission Classification — The class of admission at entry into the U.S. AIS — Alternative Inspection System - CBP ROAM™ qualifies as an Alternative Inspection System that satisfies the boat operator's legal requirement to report for face-to-face inspection in accordance with federal regulations with some exceptions: Travelers who require an I-94; Travelers who must pay duties on imported goods; and. Other circumstances as applicable. AMCON — American Consulate — Diplomatic or Consular posts that assist Americans traveling or living abroad, issue passports to U.S. citizens, issue visas to foreign visitors and immigrants, and assist the U.S. government in law enforcement and trade issues. APEC — Asia Pacific Economic Cooperation — A collaboration that promotes free trade throughout the Asia-Pacific region by facilitating travel for qualified businesspeople within the APEC region. This contributes to the business facilitation goal, to free, open trade and investment, and to the U.S. economy. APIS — Advance Passenger Information System — The system that provides officers with pre-arrival and departure manifest data on all travelers and crewmembers. BCC ~— Border Crossing Card — DSP-150 (also known as a Laser Visa) — In October 2008, the Department of State began issuing the new BCC to replace the Laser Visa. The BCC is valid for B-1/B-2 non-immigrants categories — visitors for business or pleasure. The cards are valid for ten years (with some exceptions for children). BCC holders are generally exempt from presenting passports when entering at land border ports of entry. CBSA — Canada Border Services Agency — A Canadian agency responsible for the processing of people and goods entering and exiting Canada. 7 CBP-OFO-2022-092322-000013\",\n",
       " 'CPC ~ Canadian Processing Center — The CBSA enrollment offices in Canada that processes and adjudicates NEXUS applications. There are three CPC offices in Canada: Surrey, British Columbia; Niagara Falls, Ontario; and Montreal, Quebec. CTPAT ~ Customs-Trade Partnership Against Terrorism — A CBP and trade partnership that includes critical players in the global supply chain: U.S. importers and customs brokers. EC ~ Enrollment Center — Dedicated sites designed for CBP officers to complete TTP interviews and enrollments. EoA — Enrollment on Arrival - interview option that allows conditionally approved travelers to complete the enrollment interview during CBP primary inspection. ESTA — Electronic System for Travel Authorization — A system that visa waiver applicants must register and be approved in prior to boarding aircraft or crossing land border destined for the U.S. GE Border Processing Technology — An interactive computer terminal used by GE and NEXUS members for entry into the U.S.. GEC ~— Global Enrollment Component (Canada) — The Canadian system for NEXUS applications that is linked to GES. GES — Global Enrollment System — The secure database used by CBP, which stores Trusted Traveler membership information, consolidators, port and terminal operators, carriers, and foreign manufacturers. Both the carrier and the importer must be CTPAT-approved for FAST participation. GES workstation — The workstation used for enrollment processing. This is also used to collect biometric data from applicants. IDENT — The system operated by Office of Biometric Identity Management (OBIM) that collects and stores fingerprints and is queried for biometric matches on Trusted Traveler applicants. IAFIS— Integrated Automated Fingerprint Identification System — A national fingerprint and criminal history system operated by the Federal Bureau of Investigation. LPR — Lawful Permanent Resident of the U.S.. Non-citizens who are lawfully authorized to live permanently within the U.S.. Form |-551, Resident Alien Card, a temporary I-551 stamp in passport or 1-94, or a letter from the U.S. Consulate are acceptable entry documents for Lawful Permanent Residents. Mobile Enrollment Kit — A mobile GES workstation for off-site processing.  8  CBP-OFO-2022-092322-000014',\n",
       " \"NCIC ~ National Crime information Center - FBI's database that provides records on wanted persons, vehicles, and criminal histories. NIV — Nonimmigrant Visa — A visa issued by Department of State allowing a foreign national to apply for entry to the U.S. as a temporary visitor. RAW ~ Risk Assessment Worksheet — A worksheet in GES to record vetting actions and results for each applicant. RFID — Radio Frequency Identification — The technology used in Trusted Traveler identification cards to identify the Trusted Traveler at the primary vehicle lane. The microchip embedded in the card is detected when the document is near the vicinity of an RFID reader and allows the transmission of GES information to the primary screen of the inspecting officer. SORN — System of Records Notice - is a notice published in the Federal Register, required by the Privacy Act of 1974, intended to alert the public that a federal agency has created, modified, or abolished a system of records (SORN). TMM - Truck Manifest Module - The system of records for all CBP commercial transactions. It is used by CBP to track, control, and process all commercial goods imported into the U.S.. TTP ~ Trusted Traveler Program — GE, SENTRI, NEXUS and FAST; One of four programs operated by CBP to allow pre-enrolled, low-risk participants to receive expedited border processing, enabling CBP to direct additional scrutiny to the unknown, potentially higher risk, travelers arriving at ports of entry.  9  CBP-OFO-2022-092322-000015\",\n",
       " '3. Trusted Traveler Strict Standards 3.1. The Strict Standard for Trusted Traveler Programs The standards for vetting Trusted Traveler Program applicants include the following: 4. Eligibility Requirements 4,1, General Eligibility for Trusted Traveler Programs Participation in TTPs is voluntary. An applicant may not qualify for participation if: e The applicant knowingly provides false and/or misleading information on the application or during the interview; @ The applicant has been arrested for, or convicted of, any criminal offense or has pending a (:) C0) e The applicant has been found in violation of any customs, immigration, or agriculture regulations, procedures, or laws in any country (in accordance with the Strict Standard); « The applicant is the subject of an investigation by any federal, state, or local law enforcement agency in any country; @ The applicant is inadmissible to the U.S. under applicable immigration laws or has, at any time, been granted a waiver of inadmissibility or parole; = (BYTE) beeen (OM PME e The applicant is known or suspected of being or having been engaged in conduct constituting, in preparation for, in aid of, or related to terrorism; and/or e The applicant cannot satisfy CBP of his or her low-risk status or meet other program requirements. Generally, if low-risk status cannot be determined, the application must be denied. 4.2. GE Criteria for Eligibility e U.S. citizens and U.S. LPRs. 10 CBP-OFO-2022-092322-000016',\n",
       " 'e Citizens of countries approved for participation through reciprocal bi-national TTPs arrangements in designated nonimmigrant classifications. These individuals must be admissible to the U.S and be in possession of all required entry documents.  * Must be admissible to the U.S. without a waiver.  e The following Classes of Admission are currently not eligible for use at the GE border processing technology:  C-1~ Alien in Transit N-9 — Child of N-8, SK-1, SK-2, SK-4  C-2 — Alien in Transit to UN S-5 — Witness/Informant  C-3 — Foreign Gov. Off. In transit S-6 — Witness/Informant  H-1C — Registered Nurse S-7 — Family members of S-5, S-6  H-2A ~ Ag worker T-1 — Trafficking Victim  H-2B — Unskilled worker T-2 — Spouse of T-1  H-2R — Returning H-2B T-3 — Child of T-1  H-3 — Trainee T-4 — Parent of T-1  K-1 — Fiancé of USC T-5 — Sibling of T-1  K-2 — Child of K-1 U-1 — Criminal Activity Victim  K-3 — Spouse of USC U-2 — Spouse of U-1  K-4 — Child of K-3 U-3 — Child of U-1  M-1 — Vocational student U-4 — Parent of U-1  M-2 — Spouse/child of M-1 U-5 — Sibling of U-1  N-8 — Parent of SK-3 Individuals who are under Adjustment of Status in the U.S. are not eligible for processing via GE and must be processed by a CBP officer.  4.3. SENTRI Criteria for Eligibility  « U.S. citizens and U.S LPRs.  e Citizens of other countries who are admissible to the U.S. and are in possession of all required entry documents.  e Must be admissible to the U.S. without a waiver.  4.4, NEXUS Criteria for Eligibility  e U.S. citizens and U.S. LPRs who are admissible to Canada and are in possession of all required entry documents.  e Canadian citizens or landed immigrants of Canada who are admissible to the U.S. and are in possession of all required entry documents.  4.5, FAST Criteria for Eligibility  e U.S. citizens and U.S. LPRs who meet all legal and regulatory requirements to operate a commercial conveyance into Canada (including valid admission documents).  e Canadian citizens or landed immigrants of Canada who meet all legal and regulatory requirements to operate a commercial conveyance into the U.S. (including valid admission documents).  e Mexican citizens or residents who meet all legal and regulatory requirements to operate a commercial conveyance into the U.S. (including valid admission documents).  11 CBP-OFO-2022-092322-000017',\n",
       " 'e Must be 18 years of age or older and possess a valid driver’s license.  4.6. APEC Criteria for Eligibility  e U.S. citizens approved for membership in a CBP trusted traveler program (SENTRI, NEXUS or GE)  and Canadian citizen NEXUS members are eligible to apply for the APEC Business Travel Card (ABTC).  * Must be a verified businessperson government official who is actively engaged in APEC business. 5, Special Considerations  5.1. Minors A child may be enrolled into a TTP even if the parents are not enrolled. A parent or guardian must be present at the time of interview of the minor. If the custody of the child is not made clear during the interview, the parent or guardian must provide certified copies of legal documentary evidence of custody. Upon approval, minors (applicants 17 years and younger) will not be required to present any further documentation of custodial permission when crossing.  5.2. Commercial Airline Pilots and Vessel Masters Commercial airline pilots should not be denied membership in a TTP solely based on being listed as the violator in a penalty or fine against a commercial airline. This would also be the case for a commercial vessel master or captain with respect to violations against the vessel or conveyance.  5.3. CBP Employees CBP and other government employees may apply for participation in any TTP as a private citizen. CBP employee applications will be processed in the same manner as all other applications.  5.4. TTP Applicants with Disabilities During the TTP application, inspections, and interview processes (TTP processes), a CBP officer must provide effective communication, which may require the use of auxiliary aids and services and make reasonable modifications when necessary to accommodate applicants with disabilities through the TTP processes. Examples of auxiliary aids and services and reasonable modifications that may be requested based on disability needs from applicants during the TTP processes include, but are not limited to: e Additional time to complete interviews. * Sign language interpreters. e Reading documents aloud and assistance with completing forms. e Aides or family members assistance with the inspection and interview processes. * Allowing service animals to attend inspections and interviews. If an effective auxiliary aid or service/reasonable modification is not readily available, the CBP officer must ask the applicant with a disability whether they would like to reschedule their interview for a later date and time when an auxiliary aid or service/modification can be arranged for them. If you have questions about addressing a request for auxiliary aids and services or reasonable modifications, consult 12 CBP-OFO-2022-092322-000018',\n",
       " 'your supervisor. In addition, questions on the subject may be directed to the CBP Disability Access coordinator at (B\\\\7)(E) of TE) 6. Applying for Trusted Traveler Programs 6.1. How do individuals apply Persons applying for any of the TTPs should be directed to the TTP website and login.gov. On the TTP website and login.gov, applicants can create accounts, complete the application, and submit fees. Applicants will be notified of all decisions regarding the application via their TTP account dashboard; this includes conditional approvals/ notifications to schedule an interview appointment, application approvals and application denials. Applicants must have already completed the application through the TTP website and received a conditional approval notification to complete their enrollment. Using the new CBP One™ mobile application, users can create/edit their profile, view FAQ’s and activate membership cards. 6.2. Fees Global Entry e The non-refundable application fee for GE is $100.00. Eligible participants in SENTRI and NEXUS receive GE benefits at no additional cost. There is a $25.00 replacement fee for a lost, stolen, or destroyed card. SENTRI e The non-refundable application fee is $25.00 for each applicant 14 years-of-age or older, with the maximum amount of $50.00 payable by a family (husband, wife, and minor children). e Children 13 years of age and younger do not incur the application fee except when applying as an emancipated minor as noted below. « Other fees include: o A fingerprint fee of $14.50 for applicants 14 years and older and/or for anyone whose fingerprints are submitted to the FBI during the enrollment center interview process. Fingerprint submission is required for any eligible applicant who intends to use the GE border processing technology at airports. o ASENTRI DCL Systems Cost Fee of $82.75 per applicant (or a maximum of $165.50 for a husband, wife, and minor children). o Anadditional fee of $42.00 to replace a vehicle or for each additional vehicle (maximum of 4 vehicles), or a SENTRI member wishes to be registered in more than one vehicle (maximum of 8 people per vehicle). o A$25.00 fee for lost, stolen, or destroyed identification card. o Both the application fee (if not waived) and the fingerprint fee must be paid to CBP before the application will be processed. The fingerprint fee may not be waived. © The SENTRI fee collection will total $122.25 if the applicant is approved for participation. Special Circumstance — An applicant 17 years or younger applying for SENTRI as an emancipated minor is subject to all the applicable fees for the program. Emancipated minor status requires legal proof of emancipation (i.e., marriage license, court documents). The TTP website nor login.gov will collect the fee from these individuals; instead, each enrollment center will be responsible for collecting the fee for this group. 13 CBP-OFO-2022-092322-000019',\n",
       " \"NEXUS e@ The non-refundable application fee of $50.00 USD must be submitted with each adult's application. Children 17 years and younger do not incur the application fee. There is a $25.00 replacement fee for a lost, stolen, or destroyed card. FAST e@ The non-refundable FAST South and North application fee is $50.00, payable in USD only. The application must be submitted through the TTP website/login.gov. The fee for replacement of a lost, stolen, or destroyed card is $25.00. APEC e@ The application fee for the APEC Business Travel Card is $70. The fee is non-refundable. This fee is in addition to the fee for the selected CBP Trusted Traveler Program. 6.3. Fee Collection Online Fee Collection ~ Fees can be paid either through the use of a credit card or through the Automated Clearing House (ACH) option (payment via an applicant’s bank account) when applying online via TTP website and Pay.gov. For GE, NEXUS and FAST, the application fee is collected at the time of application submission. For SENTRI, the application fee is paid at time of application, but the SENTRI Dedicated Commuter Lane Systems Cost Fee, the fingerprint fee, and the additional vehicle fee (if applicable) are collected at the enrollment center upon completion of the interview. 6.4, Renewals The period of enrollment for each TTP is five years. Participants desiring to continue membership benefits after the five-year time period time must submit a renewal application through the TTP website and login.gov prior to expiration. Renewal applications may be submitted up to 365 days prior to the membership expiration date. 7. Trusted Traveler Vetting Responsibilities including recurrent vetting (i.e., 24-hour vetting), are conducted within the) (b)(7)(E) system. Program eligibility determinations are made by vetting officers who follow established policies and procedures for vetting Trusted Traveler applicants as detailed in the Trusted Traveler Vetting Standard Operating Procedures summarized below. 7.1, Risk Assessments ee seneoecy All risk assessments for participation in TTPs will be conducted by! (b)(7)(E) i Risk Assessors at the (b\\\\7)€); enn (2) C6 (-) 14 CBP-OFO-2022-092322-000020\",\n",
       " '7.2. Vetting Status At the conclusion of the vetting process, the Risk Assessor will assign a vetting status to the application: Conditionally Approved: The applicant is eligible to receive an interview, and the Risk Assessment Worksheet (RAW) will show “CONDITIONALLY APPROVED” for the Officer recommendation. A “CONDITIONALLY APPROVED” does not mean that there were no issues found at the time of vetting. It may mean that additional information is needed at the time of the enrollment interview to determine eligibility in the program. Approved: The application meets all program eligibility requirements and is eligible to be approved without an interview. This generally only applies to Renewal applications with no new or previously unaddressed issues discovered during risk assessment, which would be eligible for approval. For applications approved during vetting, anew TTP card is generated using the existing photo in GES. Denied: The application does not meet program eligibility requirements, and the RAW will show “FAIL” for the officer recommendation. All applications that initially fail vetting will be reviewed by a TTV Watch Commander as part of “Director Review”. If the Watch Commander concurs with the recommendation to fail vetting, the application will be denied. If the Watch Commander determines an interview is needed before making a final determination of eligibility, the application will be conditionally approved. Remarks will be 15 CBP-OFO-2022-092322-000021',\n",
       " 'added to the RAW detailing all concerns that need to be addressed, and/or instructions to the interviewing officer. 7.3. Risk Assessment Worksheet The Risk Assessment Worksheet (RAW) is a tool summarizing the internal findings and recommendations of the Risk Assessor/Vetting officer. The findings in the RAW should not be the sole- deterrnining factor when adjudicating a TTP application. The interviewing officer has the ultimate responsibility to determine that a TTP applicant/member meets eligibility requirements before approving their application. Penne nnnneneenennenenenn ened MEY op cmcnnenenmeninnnmansnnninnnnt Officers will ask the applicant to clarify, address or explain the issues noted in the RAW, {IGGL (by 7(E) Comments must be added in GES addressing each issue noted in the RAW. 73-4. APNE), Queries 7.4, Re-Vet An application can be submitted for a re-vetting from GES, allowing the TTV to consider new information discovered during the interview. Most re-vets are submitted by the Enrollment Center due to additional or updated information obtained during the interview that was inaccurate or not provided on the (+) (=) 7.5. Recurrent Vetting Active TTP members, as well as applicants who are Conditionally Approved and pending enrollment interviews, are run against newly input TECS and NCIC records every 24 hours. This continuous 16 CBP-OFO-2022-092322-000022',\n",
       " 'monitoring of TTP membership and conditionally approved applications is more commonly known as Recurrent Vetting ccnp MOTE) ee :))(4)(— ee conned *6, Retention Requests 8. Interview & Enrollment Procedures 8.1, interview Options To be eligible to schedule an Interview, applicants must have already completed the application through the TTP website and be conditionally approved, Alternatively, in lieu of scheduling an appointment, conditionally approved GE applicants may complete their interview upon arrival into the U.S. or at Pre- Clearance locations through EoA. 8.1.1. Enrollment Centers To ensure the safety and security of CBP personnel, CBP established procedures to include pre-screening _ 17 CBP-OFO-2022-092322-000023',\n",
       " '| eenenaeenenaeAPMTNE) | In accordance with existing facility security policies, CBP officers assigned to enrollment centers may refuse entry to TTP applicants, individuals accompanying TTP applicants, or any individual who has not been pre-screened by CBP. If a TTP applicant is refused access to the enrollment center, the circumstances must be documented in GES comments, in addition to any other reporting requirements. Pre-screened applicants with Conditionally Approved TTP status will be notified by email, that they are now eligible to continue the application process by completing the TTP interview. The interview can be completed either through EoA (only for GE), at an Enrollment Center (EC), or virtually through a remote interview (if eligible). Conditionally approved applicants using the TTP website may schedule an appointment at an EC. If an applicant has not scheduled the interview or completed their interview through EoA within 365 days of the conditional approval notification, the application is deemed abandoned and is automatically cancelled by GES. If an applicant is unable to schedule an interview within the 365-day time frame due to extenuating circumstances such as prolonged illness, schooling, or extended vacations, the applicant may contact the EC and an EC supervisor can generate a request to the TTP program office for the application to be reinstated. EC personnel are required to use the TTP internal website page to manage interview appointments and to maintain a window of availability for appointments. ECs can determine the number of appointments ona daily basis and how far in advance to have the schedule open to ensure appointment availability, based on operational needs not to hinder with primary functions. Generally, good practice is to make appointment availability within a reasonable time-period — 90 days or less. The EC hours and available appointment slots should be monitored locally and adjusted as necessary to accommodate increases in the number of applicants. The TTP Internal site limits appointment times to 15 minutes, but interviews can last as long as necessary for the officer to deem the applicant as low risk. Time permitting, ECs should make every effort to accommodate walk-ins for conditionally approved applicants seeking an interview. Walk-ins for reasons other than an interview should always be accommodated. For example, a TTP member needing to update biographic information or travel documents cannot schedule an appointment via their TTP account.  8.1.2. Enrollment on Arrival Conditionally approved GE applicants are eligible to complete the interview portion of the enrollment process at any of the participating airports in the U.S. and Pre-Clearance locations when returning from international travel. An updated list of participating airports is located on the CBP gov website via the following link: https://www.cbp.gov/travel/trusted-traveler-programs/global-entry/enrollment-arrival 8.1.3. Remote Interviews The TTP remote interview program was developed to allow qualified applicants to complete their interview virtually with a CBP officer using Zoom for Government or another approved system. Interviews are only available to applicants who meet certain criteria and who have biometrics on file in GES (e.g., renewing members). Applicants who are eligible for a remote interview will be provided the option to schedule either a remote interview or in-person interview via their TTP account. 18 CBP-OFO-2022-092322-000024',\n",
       " 'Remote interview appointments are managed through TTP Internal using a separate schedule under each designated enrollment center. As with a traditional enrollment center schedule, CBP officers will be able to view the applicants scheduled for their location. Applicants scheduling a remote interview will only be able to see the date and time they are selecting, and not which location will be conducting that interview.  Each remote interview appointment confirmation includes a unique link to their virtual meeting. CBP __officers launch each interview session individually\" (BYZE) 1_Ab\\\\7(E)_ |  3.2. Applicant Interview A CBP officer will interview applicants 18 years and older for TTP membership. The officer will review the application and any additional information provided by the applicant at that time. The officer will verify applicant identity, review documentation, and take fingerprints and photograph. Finally, the officer will explain the terms and conditions of the TTP and answer any questions or concerns the applicant may have. For applicants 17 years and younger, unless they are emancipated, the officer will review the application with the parent or legal guardian. 8.2.1. Application Review During the interview, the officer will review the application and verify: e ADMISSION CLASSIFICATION; e CITIZENSHIP AND ADMISSIBILITY; @ PERMANENT ADDRESS; « ALIEN REGISTRATION NUMBER - LPRs of the U.S.; e CONVICTIONS OR ARRESTS; @ OCCUPATION - If not employed, the applicant should indicate another status (i.e., student, retired, COC) nunemeneueneueeciecienienieninitnineicicieninecinecinncinecinn © SOLVENCY 3 innnnnnnnnennannanennennnnnel eT) cannnnnnnnnnnnnnnnnnnnnnnnnnne nn * CERTIFICATION - Verify documentation for legal guardianship of children under the age of 18. When applicable, a copy of the legal documentation must be scanned into GES and the original returned to the applicant.  Enrollment Center personnel will review all documents for authenticity. The applicant’s residence  provided on the application should be verified against physical documentation provided by the  applicant, e.g., driver’s license.  19 CBP-OFO-2022-092322-000025',\n",
       " '8.2.2. Applicant Questioning The interview for TTPs is an important aspect of the application process. The applicant’s interview is CBP’s opportunity to prevent an attempt by an individual with a clean record to join the program for nefarious intent. Enrollment Center officers must verify and validate that the information provided in the application is accurate. Information that is not corrected or updated will be printed on each member’s TTP card and will cause issues when utilizing the membership benefits. For a list of general interview questions that are designed to assist officers in their course of questioning, please reference, Appendix C — General Interview Questions Guide.  8.2.3. Risk Assessment Worksheet Issue Resolution The RAW is a too! summarizing the internal findings and recommendations of the Risk Assessor/Vetting (=)  1 \"(b)(7)(E)_ i The interviewing officer has the ultimate responsibility to determine that a TTP .-applicant/member meets eligibility requirements before approving any application. oo eee  8.2.4. Fingerprint Collection Applicants can only be denied program membership on criminal grounds discovered through a query of criminal database after fingerprints are submitted to IAFIS for biometric verification. When collecting fingerprints on applicants, all 10 digits are to be captured (unless missing due to amputation, etc.). The submission of only one hand of fingerprints is not authorized. Officers must  20 CBP-OFO-2022-092322-000026',\n",
       " 'submit fingerprints. The + (b)(7)(E)____ fingerprint machines should be recalibrated once a day at a minimum. The plate should also be cleaned between each image capture.  8.2.4.1.; (b)(7)(E)_| Fingerprint Submission Captured fingerprints are sent simultaneously to IDENT (Automated Biometric Identification System) and the Integrated Automated Fingerprint Identification System (IAFIS). Both systems independently return either a positive or a negative result for the fingerprint queries. The officer must review the query  ee 0) ee  8.2.4.2. Fingerprinting Young Children All NEXUS and SENTRI minor applicants shall be fingerprinted. Fingerprints for NEXUS and SENTRI minor applicants may be obtained to facilitate the use of GE border processing technology when applicable. Fingerprints for GE applicants 4 years of age and younger may be waived. However, if fingerprints are waived, then the child will be referred by the GE border processing technology, if not using facial verification technology, since there will be no prints on file against which a biometric match can be made. Parents cannot use their own fingerprints with the GE border processing technology when processing children.  8.2.4.3. Fingerprints on Demand The “Fingerprints on Demand” function can be found on the (b\\\\(7(E)__ page in GES. This function is to be utilized whenever a Trusted Traveler member requires re-fingerprinting. By clicking the “Fingerprints on Demand” hyperlink, a new window will appear prompting officers to select the enrollment center and take the photo (if the applicant’s photo was taken more than 5 years ago), as well  21 CBP-OFO-2022-092322-000027',\n",
       " '-28.a. new set of fingerprints. Officers must review the!___ (b)(7)(E)____results to finalize the process. The_, 8.2.5. Traveler Document Capture Currently, officers are responsible for capturing and saving applicants’ fingerprints, photographs, and___ travel documents during TTP interviews, ME) CBP’s enhanced EoA GE border processing technology at Ports of Entry to facilitate the collection of biometric data for a TTP applicant during the enrollment process inside a Federal Inspection Service area (FIS). Once a traveler is conditionally approved, instead of scheduling an interview at a GE Enrollment Center, the traveler can complete the enrollment interview during CBP primary inspection at a participating airport. Upon arrival, travelers will be directed to a primary booth designated specifically for EoA. A CBP officer will conduct both the primary processing and GE interview and collect the traveler’s biometrics to complete the enrollment. The traveler will then be cleared for entry into the U.S. and will be a GE member. 8.2.6. Photograph Capture  The photo captured at the time of the interview is the photo used for generating TTP cards. The following standards are necessary to ensure photographs are of sufficient quality for biometric matching:  e Frame applicant with full face, front view, eyes open;  e Make sure photo screen presents full head from top of head to bottom of chin;  e Center head within frame;  e Photograph subject against a plain white or off-white background whenever possible;  e Position subject and lighting so no distracting shadows appear on the face or background;  e Encourage subject to have a natural expression;  e Eyeglasses should be worn if normally used by the subject;  e Include headpieces if worn daily for religious purposes; they should not obscure or cast shadows  on the eyes or any other part of the face; e Adjust brightness and contrast to present the subject and background accurately; and e Facial features should be clearly evident in the photo. 8.2.7. Visa Information Collection The GE border processing technology calculates admission dates based on information stored in GES. It is important that EC officers enter all appropriate data fields when entering visa information for non- immigrants during the enrollment interview. This includes visa issue date, visa expiration date, visa classification, and petition date (where applicable). If the visa information is not complete or not _-Properly entered into GES (OE ene | (b)(7)(E) | 22 CBP-OFO-2022-092322-000028',\n",
       " 'visit an EC to add or update visa or petition information, as this can only be done in person in order to ensure the integrity of the inspection process. 8.2.8. Mandatory Comments  The interviewing officer is responsible for documenting relevant information/updates, a.k.a. comments, i (bE) fa member is revoked from the TTP the revocation details must  Status. In general, any changes made to an applicant’s account (name, citizenship status, removal of  vehicles, documents added, etc.) must be annotated in the account.  8.3. Criminal History Adjudication  The enrollment center officer must review the criminality and request that the applicant obtain court  documents as necessary/relevant.  All criminal charges discovered while conducting an enrollment interview must be addressed individually  and completely with the applicant. If an applicant has been charged with a crime, the interviewing  officer must determine the date of the event(s), the charges, the severity of the offense(s), the  CONVICLION(S) heer MOM TIME)  23 CBP-OFO-2022-092322-000029',\n",
       " 'The applicant is responsible for providing proof of final disposition. Dispositions must come from courts  or other government sources. Letters from attorneys on behalf of their clients cannot be used to _determineadispositiony = St~‘<tsé‘“;‘ITE. ss —~—~SSS (b)(7E)  If court documents are required, the applicant should be allowed 30 days to present them, and the  application should be left as \"conditionally approved.\" If the applicant fails to provide court documents  or follow up with the enrollment center within the 30-day period, the application may be denied. More  time may be provided at the discretion of the enrollment center supervisor. Any relevant records  relating to the final disposition of criminal charges must be scanned and attached in GES.  For more clarifying guidance and information pertaining to criminal history, please reference Appendix  A- Adjudication of Derogatory information for Trusted Traveler Program Applicants.  8.3.1. IDENT! (b)(7)(E) | 24 CBP-OFO-2022-092322-000030',\n",
       " '8.4. Approvals Before final approval, a CBP officer will:  ¢ Confirm that the enrollee understands the program requirements.  ¢ Confirm that the enrollee understands that any violation of program and legal requirements for border crossing by the enrollee may be dealt with more severely because of their “Trusted Traveler” status.  e Advise applicants of measures to be taken in the event they are approached to engage in smuggling activities including calling the 1-800-BE ALERT or 1-800-232-5378 hotline to report potential smuggling attempts and contacting the local enrollment center.  e Explain potential sanctions for participation in smuggling activities, including:  o Prosecution to the fullest extent of the law;  o Revocation of membership in all TTPs; and  o. Possible revocation of Trusted Traveler program membership for all related family members.  e Explain the issuance of the Trusted Traveler document:  o NEXUS — mailed to U.S. address in GES; o FAST North- mailed to U.S. address in GES; o FAST South- mailed to enrollment center for pick up; o  SENTRI- mailed to U.S. address if residing in the U.S.; mailed to enrollment  center for pick up for residents of Mexico if there is no U.S. address; and o GE members — cards will be mailed to the U.S. address in GES for U.S. citizens and  U.S. LPRs. For Mexican nationals, cards are mailed to the U.S. POC address.  25 CBP-OFO-2022-092322-000031',\n",
       " '8.5. Enroilment Determination The TTP application cannot be approved/denied and finalized untii (YE) eeeenennnnennnnnnn AR OME) and the applicant is interviewed. The EC must change the status in GES to “approve” or “deny” and click save to update the record. 8.5.1. Membership Briefing CBP officers will briefly explain the reporting requirements and personal exemption allowances when entering the ULS, to all new members. CBP officers will also explain the current guidelines for the importation of agricultural products, as necessary. CBP officers will stress that the smuggling of narcotics or other violations may result in penalties and/or criminal prosecution. 8.5.2, Denials 2a ee RR During all interviews, officers SOU eenennnnne dO TE) ene a -)1 CO) Po APY TE) A Supervisory CBPO must review and concur with the proposed denial before it is affected.  All denials require both internal and external comments tobe entered (PM7ME) __ Denials by the officer must be documented and recorded in GES ened OTEY ened : (by 7(E) CBP retains the authority to deny a TTP application, if an applicant cannot be  determined to be low-risk based on the totality of circumstances.  8.5.3. Re-Vets 8.5.4, Additional Documentation Required  When necessary, the officer may request that the applicant present, fax or email additional  documentation to the EC for further review and verification. Examples of documentation to be  requested include certified copies of court dispositions, proof of employment or address history, documents relating to name changes, parental guardianship etc. The officer should afford the applicant  30 days to provide the supporting documentation. If warranted, the EC supervisor may extend this time  and allow the applicant additional time to present requested documents. Failure to present the required  documentation in the prescribed time will result in the denial of the application.  26 CBP-OFO-2022-092322-000032',\n",
       " '8.6. Recurrent Vetting Active TTP members, as well as applicants who are Conditionally Approved and pending enrollment interviews, are queried against newly created TECS and NCIC records every 24 hours. This continuous monitoring of TTP membership and conditionally approved applications is more commonly known as Recurrent Vetting. TTV management will ensure applications populating the Recurrent Vetting Hotlist are reviewed in a timely manner.  8.7. Records CBP officers are to determine the relevance of records discovered during the enrollment process and their connection to the applicant. The mere existence of a record does not mean an applicant should be denied membership. There must be some association of the record to the applicant. Examples of records that may be found, but are not directly connected to the applicant include: oy In the case of pending charges, certified court records will be required before acceptance into a TTP. The applicant is responsible for providing proof of final disposition. If no disposition is available, then the charges will be treated as a conviction. Dispositions must come from courts or other government sources, Letters from attorneys on behalf of their clients cannot be used to determine a disposition. Court documents will not be required if the disposition is listed in the FBI record.  __ (b)(7)(E) When records are found, the officer performing the enrollment may consider  approving the applicant but must annotate findings with remarks in GES comments.  8.8. Member Profiles In most circumstances, Trusted Traveler applications are electronically filed. The EC should not maintain paper files or electronic files outside of GES. The EC should not be using forms or require the applicant to sign any acknowledgement letter. Information entered by the applicant will be maintained within GES for record-keeping purposes. The EC may scan the following supporting documents into GES as necessary to determine program eligibility:  ¢ Court dispositions to include rulings of emancipation (if applicable);  e Proof of legal name change (if applicable);  e Legal guardianship/adoption documents;  « Letters of inquiry received from members/applicants on denials and revocations;  * Foreign vehicle registrations [for SENTRI lane use only}, (YZ)  e Certified letter of alternative vehicle owner — personal or company owned vehicle (for SENTRI  lanes use only). 27 CBP-OFO-2022-092322-000033',\n",
       " 'The scanning of documents should be kept to a minimum. Whenever possible, supporting documents should be viewed, and comments made according to the purpose of their presentation. Financial documents, such as tax returns, bank statements, etc. should never be scanned or saved in GES. For documents required to be scanned and attached in GES (e.g. certified court documents), the documents must be returned to the applicant or shredded if return is not practical. Any comments added to the applicant’s GES profile will be placed in the comments section of the biographical details link of the summary page or comments can be added by selecting the Request List, then selecting the application 1D, you will see the comments link According to the GES System of Records Notice (SORN) and the CBP Record Keeping Guidebook, records/files relating to a Trusted Traveler member should be destroyed 3 years following the last activity on record (applicant has been denied and there is no re-application to the program, or membership has expired and there is no renewal). All records/files must be destroyed according to current CBP policy. i: ane a) C2 2 9. Global Entry Program Specifics 9.1, Global Entry Program Benefits GE provides “head of the line” privileges at all participating airports for all TTP members. Additionally, GE members may perform their CBP primary inspection using automated GE border processing technology. GE members may use the SENTRI lanes at southern land border ports of entry, provided they travel ina SENTRI registered vehicle and comply with SENTRI requirements. GE members can also use the SENTRI pedestrian lanes. SENTRI program benefits are covered under TTP Handbook section 10.1. SENTRI members who are U.S. citizens or LPRs and NEXUS members receive GE benefits provided the required documents and fingerprints are on file in GES. NEXUS members and eligible SENTRI members with incomplete information in GES may obtain GE benefits by providing fingerprints and document information at an EC. 9.2, Global Entry FIS Setup Professional Service Managers (PSM) shall work with the local airport/airline staff to identify the most effective ways to route GE members to the GE border processing technology (such as signage or airline staff directing traffic). In the event of a referral or if the GE border processing technology is down, GE members are to be provided “head of the line” privileges at locations where the program is operational, to include on primary, in secondary, and at the egress control point. GE members should never be sent to the back of the line. 28 CBP-OFO-2022-092322-000034',\n",
       " 'The lane nearest the GE border processing technology is to be staffed at all times. This lane will handle referrals from the GE border processing technology. A dedicated GE Lane must be available at the egress point if applicable (i.e., no more egress at SA locations). At ports where a dedicated lane at egress is not practical, GE members should be provided “head of the line” privileges. Signs should be placed in the FIS. directing GE members where to exit. 9.3. Global Entry Passenger Processing 9.3.1. Membership Validation Upon arrival into the U.S. at an airport(s) or at Preclearance location(s) without GE facial comparison capabilities, a member will scan his/her machine-readable travel document at the GE border processing technology. An electronic validation of their membership is performed in GES and the GE border processing technology will prompt the member to provide fingerprints. This will also satisfy reporting requirements, if applicable. It is important to note that only documents that correspond to the citizenship the traveler presented during enrollment under can be used at the GE border processing technology. For example, for a dual national who holds Spanish and Mexican citizenship and enrolls in GE as a Mexican citizen, only the Mexican passport may be used at the GE border processing technology. Any required visa must be in the Mexican passport in order for it to be used in conjunction with GE. CBP uses a facial comparison algorithm as part of the CBP Traveler Verification Service (TVS) for traveler identity processing at air, land and sea entry and exit. TVS searches live traveler photos against facial image galleries to assist in the identification of arriving or departing travelers. How It Works A traveler’s facial features are the key to Phase 1: GE Facial Comparison - instead of using a traveler’s primary travel document, GE border processing technology uses the traveler’s face to verify identity in CBP systems. GE Facial Comparison technology accelerates the admission process by reducing the steps and time the GE border processing technology requires to process travelers. Phase 1: Global Entry Facial Comparison | eT Global pl Spl Te! ae = fit mmo l : ] re) En Als Travelers 5 ftttttttt eta Oo vs s (v4 29 CBP-OFO-2022-092322-000035',\n",
       " '1. Using airline manifest data, CBP retrieves existing traveler images from government holdings, including passports, visas, and past encounter photos, and builds a photo gallery of likely travelers in TVS.  2. As travelers approach the GE border processing technology, the GE border processing technology captures a photo of the traveler and compares the image to the pre-assembled TVS gallery. CBP matches the live image to one from the gallery and verifies the associated traveler information.  3. The GE border processing technology validates the results, determines the class of admission, and admits the traveler to the U.S.. The GE border processing technology will issue a printed receipt with the results of the transaction, which the traveler will be required to present to CBP Officers when exiting the inspection area to confirm program compliance.  9.3.2. Primary Background Checks Once membership has been validated, the GE border processing technology will initiate system checks. The checks involve a real time query of the following systems:  e TECS;  e NCIC;  ° APIS;  e IDENT; and  e ESTA.  9.3.3. Legacy Global Entry Border Processing Technology Receipt When the member successfully completes processing at the GE border processing technology, a printed receipt will be issued. The receipt contains the following information:  « CBP logo.  e Referral code(s);  e Daily security code;  e Airline and flight number;  e Country of citizenship;  e Member’s name;  e Member’s DOB;  # Member’s photo;  e Member’s travel document number;  e Location and number of GE border processing technology used;  e Date and time of the transaction;  e Instructions for the member on where to proceed; and  e CBP Form 7662.  The GE border processing technology will also print out a second receipt when a non-U.S. citizen or non- LPR successfully clears the GE border processing technology which will include the Class of Admission and Admission Date. These receipts are for the traveler’s record only and need not be returned to CBP 30 CBP-OFO-2022-092322-000036',\n",
       " 'upon departure. These are not |-94s. If a GE member needs to obtain an I-94, he/she may do so by going to the electronic system (https://i94.cbp.dhs.gov).  9.3.4. CBP Declaration GE members utilizing the GE border processing technology are not required to fill out a physical CBP Declaration Form (6059B). However, members are responsible for making a truthful declaration at the GE border processing technology. Like other travelers, GE members are allowed to make amended oral declarations subsequent to responding to CBP declaration questions on the GE border processing technology. The GE border processing technology will prompt members to answer yes (“Y”) or no (“N”) to the CBP Declaration questions found on the Form 6059B. When the member answers “Y” to any of the questions, the member will be confirmed in Simplified Arrival (SA) and a declaration referral (DR) will be generated by the GE border processing technology. The referral will instruct the member to proceed to Baggage Control. A circle will be printed on the receipt, as well as the questions that were answered with a “yes” response. Modified egress, CBP personnel will determine whether further examination is warranted.  9.3.5. Required Documentation GE members who have completed processing and are ready to exit the FIS must present their travel document and their GE border processing technology receipt to designated CBP personnel at the egress point if the FIS doesn’t support modified egress. Unless a member is referred by the GE border processing technology or selected for a random exams.  9.3.6. CBP Officer’s Responsibilities at Exit Point Facial Comparison with receipt: The CBP officer responsible for checking travelers as they exit the FIS area must:  e Verify that the identity of the traveler matches the DHS-approved travel document and is the same as the identity on the GE border processing technology receipt, because of technology advancements, now the GE border processing technology incorporates a photo on the receipt,  e Verify that the time the traveler cleared the GE border processing technology is within a reasonable time frame from the time the traveler is exiting the FIS.  Receiptless Facial Comparison:  e GE receiptless facial GE border processing technologies offer members a streamlined and contactless processing experience.  e Officers use the tablet and/or workstation to view individual traveler biographic information in real-time as travelers use the receiptless facial GE border processing technology.  e Officers can use the tablet and/or workstation to identify and triage referred members.  A minimum of one (1) officer will be stationed at the end of the lines to check GE border processing technology receipts. Ports can assign additional officers based on local operational factors. Should the daily security code on the GE border processing technology receipt not match the code of day or the traveler does not match the receipt photo, the member must be immediately escorted to Passport Control Secondary for further examination. 31 CBP-OFO-2022-092322-000037',\n",
       " 'Facial Comparison Procedures: The GE border processing technology will no longer prompt the traveler to provide a Customs Declaration. The process is referred to as a Negative Declaration Inspection. The traveler will provide an oral declaration when they present their receipt to the CBP officer upon exit of the FIS or at the egress point. Airports may establish two lines: NOTHING TO DECLARE & ARTICLES TO DECLARE. A minimum of one (1) officer will be stationed at the end of the lines to check GE border processing technology receipts and take an oral declaration. Ports can assign additional officers based on local operational factors. Follows the same protocols as Simplified Arrival in obtaining an oral declaration.  9.4. Equipment Maintenance It is the responsibility of the Duty Supervisory to check that the GE border processing technology is operational, thei______(b)(7)(E)________ scanners are regularly cleaned. When the equipment is not functioning, the Duty Supervisor will report it to the Help Desk.  9.5. Airports without Global Entry border processing technology At airports without GE border processing technology, a dedicated lane or “head of the line” procedures must be in place for all CBP Trusted Travelers to use.  9.6, Global Entry Cards On July 12, 2011, CBP began issuing GE cards to U.S. citizens, U.S. Lawful Permanent Residents, and Mexican nationals enrolled in the program. The sole purpose of the cards is to allow U.S. citizens, U.S. Lawful Permanent Residents, and Mexican nationals enrolled in GE expedited processing at U.S. land borders. The GE cards are WHTI compliant documents for land and sea travel that are RFID chip enabled. These cards are valid for use at the SENTRI and NEXUS lanes coming into the U.S.. However, GE cards are not valid for entry into Canada via the NEXUS lanes and GE border processing technologies, and members must use a passport or U.S. LPR card to facilitate their entry. When using the SENTRI lanes, GE members must comply with SENTRI vehicle requirements. 10. SENTRI Program Specifics  10,1. SENTRI Program Benefits SENTRI members use dedicated processing lanes at southern land border crossings. SENTRI members may use the NEXUS lanes when entering the U.S. from Canada by land, and GE when entering the U.S. by air. In the case of non-LPR Mexican national SENTRI members, the member must submit a GE application via TTP website or login.gov. The Mexican national must consent to and pass vetting by the Government of Mexico in order to obtain GE benefits. If the member fails vetting by the Government of Mexico, the member will be denied GE benefits and be revoked from SENTRI.  32 CBP-OFO-2022-092322-000038',\n",
       " 'Approved GE and NEXUS members who are in possession of a TTP RFID enabled card may use the SENTRI lanes, provided they are traveling in a SENTRI registered vehicle. Members can also use the SENTRI pedestrian lanes. SENTRI members who are U.S. citizens or U.S. LPRs may also use GE border processing technology.  10.2. Required Vehicle Information & Registration for SENTRI Lanes All vehicles used to enter the U.S. in a SENTRI lane must be registered in the program. If an applicant is applying for GE and is utilizing the program benefits to cross the southern border, the vehicle must be enrolled in the GE program. All vehicles enrolled in either the SENTRI or GE program must comply with both U.S. and Mexican laws. A TTP applicant can register a maximum of four vehicles for use in the program. A vehicle can be included and vetted with an initial application (no additional fee). Additional vehicles must be added via a Vehicle Add application, and the associated $42 dollar fee will be collected. During the enrollment interview, vehicle registrations may be scanned into GES. If an applicant is not the vehicle(s) registered owner, written authorization from the registered owner must be provided. If the registered owner is not present, the authorization must be notarized (in English). For company-owned vehicles, vehicle authorizations must be submitted on company letterhead and signed by an executive officer of the company. A copy of the vehicle authorization will be scanned into GES and the original will be returned to the applicant. Please note that the following information is mandatory for SENTRI vehicles in GES:  ¢ Conveyance type — motorcycle, or vehicle;  « ID number — vehicle identification number;  e Registered country;  e Registered state/province;  e License plate number; and,  * Owner type — applicant, business, individual not the applicant. Despite not having an inspection at the time of enrollment, vehicles will still be subject to inspections at the time of crossing. Newly registered vehicles will be subject to a random referral during the first  through third crossing to ensure a complete! (b)(7)(E)! inspection and appropriate TECS queries__ (b)(7)(E)__ | i(b)(7)(E): are conducted.  A vehicle is not required to be registered in the state it is being enrolled in and the driver is not required to be in possession of a driver’s license for the state that the vehicle is being enrolled in. The driver must show proof of insurance for the vehicle, but it does not have to be under the applicant’s policy.  10.3. SENTRI Lane Inspections — Vehicle Processing TTP members may only use a vehicle that is registered with the SENTRI/GE program, including motorcycles. The driver of the vehicle will hold the SENTRI/NEXUS/GE card(s) in front of the RFID reader prior to reaching the primary booth. The CBP officer on primary will ensure that the correct license plate information is queried in TECSbME!On primary. The license plate captured by the license plate reader must be compared to the actual license plate on the vehicle in the Dedicated Commuter Lane (DCL). If the license plate reader reads the plate incorrectly, the CBP officer must enter the correct plate number. If the license plate reader is inoperable or the lane does not have one, the CBP officer must manually  33 CBP-OFO-2022-092322-000039',\n",
       " 'key in the correct plate number. If TECS y7VEVis unavailable, officers must revert to local procedures for processing primary traffic. TTP members whose cards fail to read at the primary vehicle booth must be sent to secondary to verify membership unless there is a system-wide outage. Many DCLs have a document reader in the booth — if the RFID does not read properly, the document can be swiped in the booth and the membership verified through, (BYE) The officer will observe and confirm that all persons in the vehicle have displayed their Trusted Traveler card and that the RFID antenna reads each card. The officer will compare the people in the vehicle to their respective cards to verify each traveler’s identity. An oral declaration is required from all members entering the U.S.. This requirement is covered during the interview briefing. If TTP members declare items in excess of their personal exemption, they may be referred to secondary to pay any duty or taxes, if applicable. _-CRP_ officers onetating.the SENTBLanes.should.check.the! oon ene) (BYTE) If the CBP officer is satisfied that all regulations are met, and primary. The primary CBP officer will not allow any vehicle carrying non-members to pass through the DCL, except in the following cases:  e Emergency vehicles responding to an emergency.  e CBP personnel who are on official duty and have been to Canada or Mexico in their official capacity; however, Port Directors may limit this to particular employees or to those who have received prior permission.  e Any person or group who has requested and received prior permission from the Port Director or Director of Field Operations to use the DCL (i.e., Ambassy personnel and emergency personnel). The officer will perform a regular (non-Trusted Traveler) inspection on such travelers. When such permission is granted, the travelers will be informed that planned regular use of the DCL, even while traveling on official duty, will require enrollment in the program.  10.4, SENTRI — Pedestrian Processing  Members use the SENTRI/NEXUS/GE card at the card reader at the primary pedestrian booth. The CBP officer should be logged into SENTRI pedestrian lanes. The traveler is responsible for making an oral customs and agriculture declaration at the primary booth. The officer on primary will be notified of tC (by7ME)_ sy and the officer will send the traveler to secondary accordingly. In cases where the card does not read and no other equipment malfunctions exist, the traveler will be sent to secondary. In cases of equipment failure, the officer will perform a normal primary inspection. 34 CBP-OFO-2022-092322-000040',\n",
       " 'if the officer is satisfied that all requirements for admission to the U.S. are met, the traveler will be admitted on primary. 11. NEXUS Program Specifics Both CBP and CBSA vet NEXUS applications. Both CBP and CBSA must deem the applicant as low-risk in order for the applicant to be approved in NEXUS. Applicants must attend a joint enrollment interview at a NEXUS EC, where they are interviewed by both CBP and CBSA. 44.1. NEXUS Program Benefits NEXUS members may use the SENTRI lanes at southern land border ports of entry provided they travel in a SENTRI registered vehicle and comply with SENTRI requirements. NEXUS members can also use the SENTRI pedestrian lanes. Approved GE and SENTRI members who are in possession of a TTP RFID enabled card may use the NEXUS lanes entering the U.S. at land border locations and by sea for small boats. 11.2. Shared Data between U.S. and Canadian Officers CBP can share only CBP-owned records from TECS or GES with Canadian officers for official law enforcement purposes. For records owned by other agencies in TECS or GES, the Third-Party Rule does apply. CBP must obtain written permission for the disclosure to third parties of any confidential information received. The sharing may take place pursuant to the ‘Statement of Mutual Understanding” (SMU) signed in 1999 by the Immigration and Naturalization Service (INS), Citizenship and Immigration Canada (CIC) and the Department of State (DOS). The document was updated in 2003 (See Appendix A). Many of INS and CIC functions now reside with CBP and CBSA. The arrangement remains in effect and is honored by all signatories. The arrangement provides for the sharing of a wide variety of information “to assist in the effective administration and enforcement of the Participants’ citizenship and immigration laws” and “to facilitate the secure flow of people to Canada or the U.S. through co-operative border management....” See Article 5 of the SMU for a list of the types of information covered by the arrangement. Any sharing must comply with all the terms of the SMU. Questions regarding the procedure for requesting or providing information pursuant to the SMU should be directed to the local Associate or Assistant Chief Counsel or the Office of International Affairs. For NEXUS and FAST North, the sharing of information takes place in accordance with the Memorandum of Understanding for the Disclosure of Information for the Purposes of the Joint Alternative Presentation and Inspection Programs, which is an arrangement between CBP and the CBSA (initially made by their agency predecessors), signed in February 2005. In addition, sharing information under these circumstances is permitted as a routine use of the information under the system of records notices for both TECS and GES. Both CBP and CBSA must ensure that the proper disclosure of information regarding a violation or potential violation of the law is to a designated official (i.e., EC Supervisor). CBP officers must NOT request information on an applicant from a CBSA officer in a manner other than the normal procedure by which information is exchanged. Canadian laws and regulations prohibit the release of certain types of information, such as suspicion of criminal association or a conviction for which a pardon has been received. Only CBSA should release applicant information, and only through 35 CBP-OFO-2022-092322-000041',\n",
       " 'established and approved procedures. The request will be submitted in writing and the Canadian agency will treat the information as strictly confidential in accordance with Article 6 of the updated SMU. All such requests will be documented. To the extent information to be exchanged is not owned by CBP, CBP officers must seek authorization from the owner-agency before releasing such information to CBSA.  11.3. NEXUS Air Processing  During the NEXUS enrollment interview, CBSA may collect biometrics for each approved applicant so that the applicant can use the NEXUS self-serve kiosks for expedited entry when entering Canada by air. NEXUS members are not required to complete a paper CBSA Declaration Card (Form E311) when using a self-serve kiosk at any Canadian airport where NEXUS is available. The kiosk is activated by inserting the NEXUS card and validating identity and membership through a facial comparison and/or iris scan. The CBSA is modernizing the way NEXUS members are processed at Canadian airports. The existing NEXUS kiosks that use iris recognition technology are being replaced with new, modernized NEXUS kiosks that use facial verification technology. The new kiosks are now available at:  1. Toronto Pearson International Airport,  2. Vancouver International Airport,  3. Montréal-Trudeau International Airport,  4. Halifax Stanfield International Airport,  5. Ottawa Macdonald-Cartier International Airport,  6. Edmonton International Airport, and  7. Billy Bishop Toronto City Airport.  e Non-NEXUS members cannot accompany a NEXUS member through a NEXUS kiosk, regardless of age.  e Travelers crossing the border in the air, land, or sea modes of transportation with currency or monetary instruments valued at $10,000 or more, cannot use NEXUS. For more information on NEXUS Terms and Conditions at: https://www.cbsa-asfc.gc.ca/prog/nexus/term- eng.html and Travelling with Can $10,000 or more at: https://www.cbsa-asfc.gc.ca/travel- voyage/ttd-vdd-eng.html.  e NEXUS members who are also U.S. LPRs or Mexican nationals need to submit an Electronic Travel Authorization (eTA) when flying to or transiting through Canada by air. U.S. and Canadian citizens are exempted.  When entering the U.S. as a NEXUS member through Preclearance locations in Canada or at U.S. airports, members may use either their NEXUS card or their passport at the GE border processing technology for expedited entry by following the below steps:  1. Proceed to the designated GE area located in the U.S. preclearance area.  2. Follow the prompts on the screen and complete the entry process.  3. Provide the receipt that prints out to the CBP officer.  4. Proceed to the trans-border lounge unless you are directed to an inspection area.  36 CBP-OFO-2022-092322-000042',\n",
       " 'Only the GE border processing technologies located in U.S. Preclearance areas at Canadian airports will accept a NEXUS card. When entering the U.S. from other airports, you must use your passport to receive NEXUS/GE privileges.  The NEXUS card is an approved travel document under the Western Hemisphere Travel Initiative (WHTI) for citizens of the U.S. and Canada. NEXUS members that are U.S. LPRs or Canadian Landed Immigrants are still required to carry proof of lawful permanent residency or Canadian Landed Immigrant status while using NEXUS to enter Canada. At the GE border processing technology, U.S. LPRs will use their Lawful Permanent Resident card. Canadian Landed Immigrants must have the appropriate passport and visa or ESTA that corresponds to their country of citizenship in order to use the GE border processing technology.  11.4, NEXUS Land Processing  NEXUS members may use any vehicle, including rental, recreational, and/or motorcycles in the NEXUS lane. Vehicles with another vehicle in tow are not restricted from utilizing the NEXUS lanes. The driver of the vehicle will hold the SENTRI/NEXUS/GE card(s) in front of the RFID reader prior to reaching the primary booth. The CBP officer on primary will ensure that the correct license plate information is queried in TECS. The license plate entered by the license plate reader must be compared to the actual license plate on the vehicle in the Dedicated Commuter Lane (DCL). If the license plate reader reads the plate incorrectly, the reader is inoperable, or the lane lacks a reader, the CBP officer must manually enter the correct plate number. If TECS is unavailable, officers must revert to local procedures for processing primary traffic. TTP members whose cards fail to read at the primary vehicle booth, must be sent to secondary to verify membership, unless there is a system-wide outage. The CBP officer will observe and confirm that all persons in the vehicle have displayed their Trusted Traveler card and that the RFID antenna read each card. The CBP officer will compare the people in the vehicle to their cards to ensure a match to photos displayed on the primary screen. An oral declaration is required from all program members entering the U.S.. | __(bY(7(E) ~—_s, If the CBP officer is satisfied that all regulations are met,!_____ (b)(7(E) i ED (‘C;é;!!C*S the vehicle is released on primary. The primary CBP officer will not allow any vehicle carrying non-members to pass through the DCL, except in the following cases:  e Emergency vehicles responding to an emergency;  e CBP personnel who are on official duty and have been to Canada or Mexico in their official capacity; however, Port Directors may limit this to particular employees or to those who have received prior permission;  e Any person or group who has requested and received prior permission from the Port Director or Director of Field Operations to use the DCL (i.e., Ambassy personnel, Emergency personnel). The  37 CBP-OFO-2022-092322-000043',\n",
       " 'officer will perform a regular (non-Trusted Traveler) inspection on such travelers. When such permission is granted, the travelers will be informed that planned regular use of the DCL, even while traveling on official duty, will require enrollment in the program. Vehicle registration is not a requirement of the NEXUS program. There are no restrictions from a vehicle towing another vehicle, a travel trailer, or a trailer with a boat, ATV, snowmobile, or other such item from utilizing the NEXUS lanes. Rental vehicles can also be used at the NEXUS lanes. Some Ports of Entry may restrict this type of vehicle based on the configuration of the port rather than restrictions of the program. 11.5. NEXUS Marine Processing TTP members who arrive by private boat will notify arrival (i.e., CBP One and/or CBP ROAM) to the nearest port of entry or designated reporting center. Each person on the boat must be a TTP member and have a Trusted Traveler card (NEXUS, SENTRI or GE) in order to use the NEXUS reporting benefit. Otherwise, regular reporting requirements must be followed, which may include reporting in person. TTP members are only required to report if they have touched foreign soil, have had contact with a foreign hovering vessel, or have received merchandise outside the U.S. territorial waters. The information can be found on the CBP web page for Small Boats or the corresponding arrival area. When entering the U.S., the boat master does the following: ¢ Call the local CBP marine reporting number for that arrival area. Please refer to the U.S. CBP website for the reporting telephone numbers at: https://www.cbp.gov/travel/pleasure-boats- private-flyers/pleasure-boat-locations. e@ Provide advance notice to CBP at least 30 minutes (minimum) and up to four hours (maximum) before arriving in the U.S. The boat master must provide the following:  ©  anestimated time of arrival;  othe name and location of the landing site of arrival;  othe registration number and/or name of the boat;  othe full name, date of birth and country of citizenship and/or permanent residence status of all NEXUS members on board;  othe destination, purpose of the trip and length of stay in the U.S. for each traveler; and  othe passport and visa details of travelers when applicable or required.  o Ensure that all travelers have photo identification and proof of citizenship, permanent residence status and/or other immigration status documents when applicable or required; and  o Declare all goods being imported, including related currency information.  If a CBP officer is not at the specified landing site to meet the boat at the reported estimated time of arrival or actual time of arrival, the individuals who have reported may proceed to their intended final destination. CBP officers will take the appropriate information and enter that information into the small boat reporting system. CBP officers will determine if each person on the vessel is a TTP member and cardholder. CBP officers will receive an oral CBP declaration from all members for goods and currency being imported. TTP members may report arrival by private boat via phone even if they exceed their personal exemption. The CBP officer will provide the travelers with instructions related to duty or taxes.  38  CBP-OFO-2022-092322-000044',\n",
       " 'CBP officers will either clear the boat and all travelers or give further instructions on reporting for secondary inspection to the boat master. When entering Canada, the boat master does the following:  e Call the NEXUS Telephone Reporting Centre (TRC) at 1 866-99-NEXUS (1-866-996-3987).  e Provide advance notice to the CBSA at least 30 minutes (minimum) and up to four hours (maximum) prior to arriving in Canada. The boat master must provide the following information to the TRC:  ©  anestimated time of arrival;  othe name and location of the landing site of arrival (in Canada, it must be a \"designated site\", more information can found at: https://www.cbsa-asfc.gc.ca/do- rb/services/nexusmarine-nexusmaritime-eng.html;  othe registration number and/or name of the boat;  othe full name, date of birth and country of citizenship and/or permanent residence status of all NEXUS members on board;  othe destination, purpose of the trip and length of stay in Canada for each traveler; and  o the passport and visa details of travelers when applicable or required.  e Ensure that all travelers have photo identification and proof of citizenship, permanent residence status and/or other immigration status documents when applicable or required;  e Declare all goods being imported, including currency information.  If any information changes before arrival, contact the NEXUS Telephone Reporting Centre at 1 866-99- NEXUS (1-866-996-3987). In addition to the above, the person in charge of the conveyance is responsible for the following:  e Ensuring that all people being transported into Canada on board the pleasure craft are in possession of all travel documents required by the legislation, i.e., passports, visas, or other; and  e The removal of inadmissible travelers and any associated administrative and medical expenses and fees.  Note: Any contraventions of the legislation may result in detention, seizure, or forfeiture of the conveyance and/or lead to criminal prosecution, monetary penalties and/or imprisonment. As proof of presentation, the boat master will receive a report number for his or her records and he or she must produce this number when asked to do so by border officers. If a CBSA officer is not at the specified landing site to meet the boat at the reported estimated time of arrival or actual time of arrival, the individuals who have reported may proceed to their intended final destination. If a NEXUS member is transporting non-NEXUS members into Canada, the vessel must arrive at a Marine Telephone Reporting Site, and immediately call the Canadian Telephone Reporting Centre at 1(888) 226- 7277. Only the boat master may leave the boat until authorization is given by the CBSA. If arriving into the U.S., the boat must arrive at a “physical reporting site” and the boat master must call the local CBP reporting telephone number.  39  CBP-OFO-2022-092322-000045',\n",
       " \"12. FAST Program Specifics FAST processing is a privilege granted by CBP to members of the Customs-Trade Partnership Against Terrorism (CTPAT) at the land border. Under specific conditions, FAST affords expedited release to trucks in supply chains where the highway carrier, importer and (on the southern border) manufacturer are all members of CTPAT and the driver is a credentialed CBP TTP member enrolled in either FAST North or FAST South. The FAST benefit includes dedicated lanes for CTPAT partners at many Canada/Mexico land border ports of entry. CTPAT highway carriers view the FAST lanes as a substantial benefit as the use of these lanes saves them considerable time in crossing the border. Moreover, since CTPAT highway carriers are transporting cargo from CTPAT importers, these shipments are considered low-risk and are therefore subject to lower examination rates. Finally, CTPAT highway carriers have a competitive advantage over non-CTPAT Partners, since most CTPAT Partner importers require that those business partners in the supply chain which are eligible for CTPAT membership —such as highway carriers — become and remain CTPAT in order to conduct business with them. Please note that FAST members do not receive any additional TTP benefits (i.e., GE, Nexus, SENTRI and APEC) or TSA Pre-Check. 12.1. FAST Program Benefits The benefits of FAST participation include: * Dedicated lanes (where available) for greater speed and efficiency in the clearance of FAST shipments; e Reduced number of examinations and front-of-the-line priority in secondary processing; e  Astrong and ongoing partnership with the CBSA/Partners in Protection (PIP) and CBP CTPAT administrations; e Enhanced supply chain security and safety while protecting the economic prosperity of the U.S., Mexico, and Canada; * For carrier participants, the knowledge that they are transporting shipments for a CTPAT approved importer, and on the southern border, a CTPAT manufacturer; and, « Rapid Business Resumption in the event of future terrorist events. FAST participation requirements along the northern and southern border are very similar with minor exceptions. For the northern border, the driver, carrier, and importer must all participate in the FAST Driver/CTPAT programs in order to be eligible for FAST processing. On the Southern border, the manufacturer must also be an approved CTPAT participant. FAST North is a bi-national program administered jointly by CBP and CBSA for expedited release into both countries. FAST South is administered exclusively by CBP for expedited release into the U.S. only with inbound traffic management assisted by Mexican authorities. 12.2. Processing FAST Members As the driver approaches the primary inspection lane, the FAST RFID chip enabled card must be held up to the reader, which retrieves the associated account and displays the driver's information on the screen inside the booth. The CBP officer must rely on Truck Manifest Module (TMM) messaging to distinguish fully qualified FAST trips from other uses of the FAST commercial driver credential. The officer must also ensure that the photograph on the FAST card matches the driver. The RFID decal on the cab of the truck will activate the TMM system. 40 CBP-OFO-2022-092322-000046\",\n",
       " 'The CBP officer will process the driver. Enrollment in the FAST commercial driver program does not exempt the driver from documentary or other admissibility requirements. If the antenna cannot read the FAST RFID chip enabled card, information may be captured by scanning the barcode printed on the FAST card or by manually typing the ID number located on the back of the FAST card.  FAST commercial drivers must present their FAST commercial driver card, and necessary admissibility documents to CBP or CBSA personnel when using FAST or when hauling placarded hazardous material (non-U.S. LPRs only). All occupants in the conveyance must have a valid and activated FAST card prior to arriving at the border. All occupants must have a valid FAST card at the time of crossing to utilize the FAST lanes, otherwise, regular service lanes must be used. Drivers may not transfer or share the card with another individual. FAST participants may not engage in ‘cabotage’ — or ‘point to point’ movement of commercial shipments within the U.S.. FAST membership satisfies HAZ-MAT background check requirements for Canadian and Mexican drivers.  13. APEC Program Specifics  APEC expedites travel for qualified businesspeople within the APEC region, which facilitates business, promotes free open trade and investment, and bolsters the U.S. economy.  A “verified businessperson” engaged in APEC business means a person engaged in the trade of goods, the provision of services or the conduct of investment activities in the APEC region. A “U.S. government official” means a U.S. government official performing U.S. government activities that support the work of APEC.  APEC gives frequent business travelers:  e Expedited entry and exit through special APEC lanes at participating airports; and,  « Multiple, short-term entries to precleared APEC economies without having to make a separate visa application to fully participating members. U.S. and Canadian ABTC holders do not receive this benefit.  14. Trusted Traveler Secondary Processing 14.1. NEXUS/SENTRI/GE Secondary Referrals at Land Borders The following are to be considered mandatory referrals for secondary inspection: 41 CBP-OFO-2022-092322-000047',\n",
       " '_.Questioning of TTP. members upon arrival is permitted by CBP policy as deemed appropriate ONE) Because TTP cards can be used as stand-alone identity and citizenship documents for U.S and Canadian citizens at land and seaports, CBP officers in primary lanes may have a need to refer the traveler to  beeen 7ME)  If secondary results are negative, participants will be allowed to proceed. If a violation exists, the CBP officer must refer to a supervisor for a decision on whether to retrieve the violator’s TTP card and forward it to the enrollment center supervisor. Generally, violations! SYED beeen ONE) een g OF the imposition of an agriculture penalty could cause a membership card to be revoked. 42 CBP-OFO-2022-092322-000048',\n",
       " '14.2. GE Referrals When a TTP member is referred for additional processing, the GE border processing technology will generate a receipt directing the member to proceed to the nearest staffed primary booth. The sole exception to this is when a declaration referral is generated, and the member is referred to Baggage Control. When the receipt has an “X” across the front with “REPORT TO PASSPORT CONTROL,” members will not be diverted back to stand in the primary lanes and will receive “head of the line privileges” when waiting for processing at Primary. The following codes are generated by GE border processing technologies and will be printed on GE receipts.  PG;  DR  RR  AP |  43 CBP-OFO-2022-092322-000049',\n",
       " '\" (b)(7)(E) _Once the officer scans the TTP member’s travel document, referral information will display int (b)(7(E)_| i ___(b)(7)(E)___ } This allows the CBP officer to know that the traveler was referred from the GE border  processing technology and the reason why, even if the GE border processing technology receipt is not presented; s—~=—<—~™sTE).s— SCS primary officers will:  e Obtain the GE border processing technology receipt and a verbal declaration;  e Verify the TTP member’s travel documents/identification;  ® Conduct TECS queries and other database queries; and  # Make a determination on admissibility and if necessary, refer the member to secondary  inspection.  A TTP member may be cleared at primary if the CBP officer is able to resolve the reason for the referral. If the TTP member is cleared on primary, the back of the GE border processing technology receipt is to be stamped with the CBP officer’s admission stamp, indicating the TTP member cleared CBP processing. The receipt must be returned to the TTP member to present at egress if applicable. If the TTP member is referred to secondary, the member must be escorted and processed expeditiously (“head of the line” over non-GE/ TTP secondary referrals). The secondary CBP officer must conduct an enforcement examination as necessary and address the code on the referral receipt. A written declaration via CBP Form 6059B may be used but is not required. Once it is determined that the TTP member may be released from secondary, the secondary CBP officer must stamp the GE border processing technology receipt on the back to indicate the TTP member’s admission. A stamped GE border processing technology receipt must be returned to the TTP member to present at egress if applicable. In the event that a U.S. LPR or non-U.S. citizen member receives a referral receipt, the CBP officer must enroll the member in the appropriate system in addition to addressing the referral reason on the receipt.  14,3. FAST Secondary Referrals When fully qualified FAST trips (those with a FAST Driver and CTPAT approved importer, carrier, and [Southern Border only] manufacturer) are selected for secondary examination, “Head-of-the-line” privileges will be provided for all Non-Intrusive Inspections and secondary examinations to include other government agency examinations. 15. The Ombudsman Process  15.1. Ombudsman Discretion The Ombudsman will respond, in accordance with CBP policies and procedures, to inquiries from denied or revoked TTP applicants. Sensitive and non-routine cases, or those requiring special attention, will be routed through the CBP Headquarters TTP Program office to the Ombudsman for review. The Supervisory Ombudsman, on behalf of the Executive Director Admissibility and Passenger Programs (XD APP), may also approve membership for those who do not meet eligibility criteria if it is determined that discretion is warranted, and the applicant presents a low risk. If the Ombudsman or Supervisory  44 CBP-OFO-2022-092322-000050',\n",
       " 'I :) 0 =) “Walk-in” or written inquiries for reconsideration made at enrollment centers, or local CBP offices, should be handled initially at those locations. Applicants should be provided with the specific reason for  denial, such as a criminal conviction, or immigration violation. If the reason cannot be provided; (b)(7)(E) | meet program eligibility requirements. Denied applicants should be advised that no appeal is available for the decision. If the applicant/member believes he/she was denied/revoked based on incorrect/inaccurate information, the matter may be forwarded to the Ombudsman for resolution. A CBP Supervisor, a GS-13 or above, should approve the forwarding of the reconsideration request to the Ombudsman, if done by the Enrollment Center on behalf of the applicant/member. All correspondence intended for the Ombudsman’s intervention should be uploaded into GES for the Ombudsman review If an applicant makes a claim that the information is incorrect (such as a record of a criminal conviction), enrollment centers should check and confirm that the information on which the denial is based is accurate. This should include the positive identification of the applicant to confirm an exact match. The Ombudsman will consider whether or not the applicant has an overall compliant travel history since the date of denial or revocation and if so, whether the applicant can be considered a low-risk traveler despite failure to meet the discretionary criteria. In other words, the Ombudsman’s primary role should be considering whether or not applicants who fall outside the Strict Standard should be recommend for approval for Trusted Traveler status. The Ombudsman functions independently of CBP Headquarters _  pr \"(b)(7)(E).___| therefore should make such determination free from any outside influence (©); officer in the field believes the Ombudsman has made an error, the officer must convey the facts through their chain of command before being forwarded to CBP Headquarters or the Ombudsman for further review. The Ombudsman discretion is paramount to the success CBP’s TTPs. It is difficult to outline every instance where Ombudsman discretion is warranted; however, the following outlines examples of conditions under which favorable discretion should be granted.  15.2, Denials Based on Vetting and/or Enrollment Interview For denials based on! (P\\\\7(E) results or the enrollment interview, the Ombudsman will consider the 45 CBP-OFO-2022-092322-000051',\n",
       " '15.3. Denials and Revocations Based on Border Violations For denials or revocations based on a border violation, the Ombudsman will review all applicable reports, statements, records, and inquiries to determine the intent of the traveler during the incident. The Ombudsman will consider whether or not the person intentionally deceived CBP or if it was an honest mistake. In addition, the Ombudsman will consider the following factors to determine if the applicant should be approved and/or reinstated: Regardless of whether a review leads to the exercise of discretion, the Ombudsman must document the review with appropriate comments and records in GES. The GES record must list the factors considered in each decision, along with any supporting documents submitted by the applicant. The GES record must fully explain the basis for each decision. 16. Violations, Revocations, and Denials 16.1. Violations Any violation of U.S. law or TTP rules can result in membership revocation. Circumstances that may result in revocation of TTP benefits include, but are not limited to, circumstances in which the member: e Fails to carry the Trusted Traveler card while using the TTP lanes (not applicable at the GE border processing technology). e Allows the use of the Trusted Traveler card by a non-participant. e Knowingly transports non-participants in a DCL. * Knowingly facilitates the entry of a non-member through an air GE border processing technology. e Alters the Trusted Traveler card. e Fails to disclose material information, which may have rendered the individual ineligible for the program. « Fails to declare merchandise. e Fails to comply with vessel reporting requirements. e Fails to report updates in citizenship status or admissibility documents that impact eligibility for membership in the program. 46 CBP-OFO-2022-092322-000052',\n",
       " \"® Fails to carry travel documents, if required (passport, visa, I-94 if applicable, U.S. LPR card, or Canadian Landed Immigrant document), along with the Trusted Traveler card. @ Fails to comply with any part of the Trusted Traveler Program or inspection process. * Fails to carry valid driver's license, valid vehicle registration and valid proof of insurance while driving a vehicle across the border. AIL TTP members must notify CBP of any changes in information submitted since the last application, such as immigration status and change in vehicle plates. Any change in immigration status must be reported by visiting an enrollment center. 16.2. DCL Violations The DCL Violations rule applies to all TTP and Non-TTP Members as follows:  e TTP Members — if they do not present their membership cards, knowingly or unknowingly (i.e., lost, stolen, forgotten, or misplaced) then the TTP member will get a violation for each encounter.  e Non-TTP Members (i.e., no tags) — if the non-TTP member uses DCL lanes, knowingly or unknowingly, without being an active TTP member, then he/she will get a violation for each encounter.  # Once the TTP or non-TTP member reaches a total of three violations, they will be subject to either membership revocation, penalties, or vehicle seizure.  e@ The DCL Violations will be recorded in Simplified Arrival, and the violations will either be automatically generated by the system, or the system will allow the CBP officer to manually annotate the violation (see tables below).  Once the system reaches or exceeds the maximum number of violations, or if the system generates a mandatory referral, the TTP and/or non-TTP member will be referred for a secondary inspection where the action will be determined by CBP.  16.3. FAST Violations  As part of normal cargo processing, whenever a violation is detected, a CBP officer must ensure the CTPAT portal and FAST databases are queried to determine if any parties (driver, carrier, importer, manufacturer, and consignee) are FAST Driver or CTPAT participants. CBP officers can verify the CTPAT status of importers, manufacturers, and carriers in the CTPAT portal. For driver information, the CBP officers may query the FAST Driver database GES if they have access or they can contact the nearest EC. A CTPAT Supply Chain Specialist (SCSS) must be notified promptly of any positive findings on an importer, manufacturer, or carrier. The nearest EC Supervisor must be promptly notified of any positive findings on a driver. The name of the assigned SCSS can be identified by logging into the CTPAT portal. Or, in the assigned CTPAT SCSS can also be identified in the TMM. An officer working secondary can select the CTPAT link through the Truck Manifest Secondary dropdown. Additionally, if there is company involvement, CTPAT companies must be identified as a CTPAT participant if an incident record is recorded in SEACATS. e Identifying CTPAT/FAST Approved Carrier 47 CBP-OFO-2022-092322-000053\",\n",
       " 'The status of all CTPAT carriers and companies must be verified in the CTPAT web portal’s security model summary page. A CBP user would request internal portal access by emailing a request to one of the following CTPAT locations: ©  OFO-INDUSTRY PARTNERSHIP oo BMZE) o Houston, Texas PM IME) emennnneet © Miami,Florida-!(bY7(E) Officers must also request access through entitlement via their supervisor. Both actions must be taken to gain access to the CTPAT web portal. The status of a carrier or company can change at any time. It is important that carrier names are verified in the CTPAT portal. Any FAST carriers discovered in violation of Federal laws must list the following data in the incident/seizure report created by the CBPO: In regards to FAST violations, the EC supervisor will review the details of the seizure or penalty and may contact Immigration and Customs Enforcement (ICE) for assistance in determining the driver’s culpability or involvement in the smuggling. If it is determined that the driver was not culpable, the EC supervisor may return the FAST card to the member with full privileges. If the driver was found to be culpable or negligent, the EC will deactivate the card, revoke the membership, and notify the driver of his ineligibility. 16.4, Cuba Travel There are eleven categories of legal travel under the Cuba General License: e Family visits e Official business for the U.S. government, foreign government, and certain intergovernmental organizations e Journalism e Professional research « Religious activities e Public performances e Support for the Cuban people @ Humanitarian projects e Activities of private foundations or research or educational institutes e  xportation, importation or transmission of information or informational materials e Certain export transactions The only required documentation needed to satisfy the Cuba General License is a self-declared reason for travel. CBP may ask for a detailed itinerary presented upon re-entry into the U.S., detailing the traveler’s time spent in Cuba to validate that travel met one of the above categories. The validity of the 48 CBP-OFO-2022-092322-000054',\n",
       " 'travel is determined at re-entry from Cuba. A general license is a blanket license, not a document that is “issued” to a particular individual. Also, individuals are not required to obtain specific licenses from OFAC if their travel is covered by a general license. CBP accepts the admission of the traveler upon re-entry as evidence the travel met the Cuban General License requirements. Therefore, GE enrollment centers should not require an affidavit (detailed itinerary) from a GE applicant during the enrollment process. If it is discovered that the traveler entered and exited Cuba from a third country, which circumvents the U.S. restrictions (in cases such as third country travel to Cuba for tourism and does not fall within one of the eleven categories would be unapproved travel to Cuba and would violate TTP policies) the traveler TTP membership should be revoked/denied.  16.5. Revocations — Port Processes A CBP Supervisor at the port of entry must be consulted prior to referring a possible revocation of a TTP member to the EC. Any violation of TTP rules when a member is in the FIS must be reported to the local When a violation involving a TTP member occurs:  e The CBP officer will retrieve the violator’s card with supervisory approval and forward it to the EC supervisor along with a copy of the (b)(7)(E)_| report of the incident.  e The traveler should be advised to address all inquiries to the EC;  e EC possibly revokes the membership in GES;  ® The details of the revocation should be documented in the comments section in the GES record; and  e GES automatically emails a revocation letter to the former member.  « The TTP member will be given a verbal explanation of why the membership may possibly be revoked by the EC supervisor. In addition, the CBP supervisor will provide the contact information in writing for the EC that includes: a point of contact name; the telephone number; and EC hours of operation.  e An EC supervisor must be consulted prior to the revocation of any member.  49 CBP-OFO-2022-092322-000055',\n",
       " '__in order to maintain the success and integrity of TTPs, Field Offices must continue to mitigate risk with i__(b)(7)(E)__jenforcement activities in the DCL: Generally, membership in a TTP should not be revoked for a merchandise or importation violation unless the violation has been documented using ani (eve)! report and/or a penalty was issued (whether mitigated or not). In some instances, TTP members voluntarily forfeit agriculture products that are prohibited from entering the U.S.. Membership should not be revoked for forfeiting a prohibited item, prior to it being discovered by an officer. TTP members, like all travelers, have the right to orally amend their declaration. There may not be any recorded violations of customs laws or regulations: Any recorded violation of —__ Customs laws does not meet Strict Standards. Examples of a recorded violation would include ari (b)(7E)} noting penalty or seizure, a secondary inspection or! (b)(7(E)___ indicating undeclared items were seized or penalty was issued, and any other record indicating there was a penalty and/or seizure on the applicant. Recorded Violation(s) Examples: The above examples is not all-inclusive and U.S. Customs and Border Protection (CBP) retains wide discretion to revoke Trusted Traveler Program (TTP) membership to applicants who cannot adequately maintain “low risk” status. 50 CBP-OFO-2022-092322-000056',\n",
       " 'Discretion should be used when deciding whether to issue a penalty to a traveler using a dedicated commuter lane, or a GE border processing technology for a merchandise or importation violation. The totality of circumstances should be evaluated when deciding whether to issue a penalty. Some examples of discretionary criteria, but not limited to, are: TTP members are subject to all authorized CBP administrative penalties or sanctions. 16.6. Revocations and Denials — Enrollment Center Revocation decisions must be finalized within two days. If a final decision for revocation/denial of participation in the program is made, the enrollment center or EoA will enter reasons for revocation into GES so that a letter or notification can by generated by the system and sent to the member or posted to their TTP account. If the final decision is that the member remain in the program, the CBP officer will notify the member. Whenever a TTP applicant is denied or a current TTP member is revoked, the EC or EoA officer must enter as much information as possible regarding the denial or revocation into the comments section in the GES. This is important for program audit purposes and any future analysis or reviews. Denied applicants and revoked members should be provided with the specific reason for denial or revocation, such as a criminal conviction, immigration violation, etc. CBP will make every effort to ensure correct information was relied upon to make the decision. If an applicant makes a claim that the information is incorrect (such as a record of a criminal conviction), enrollment centers should check and 51 CBP-OFO-2022-092322-000057',\n",
       " 'confirm that the information from which the denial is based is accurate. This should include the positive identification of the applicant to confirm an exact match. In the case of pending or dismissed charges ____—(b\\\\(7)(E)__—_—_—_—sceertified court records will be required before consideration for acceptance into a TTP. Proof of final disposition is incumbent on the applicant. If no disposition is available, the charges will be treated as a conviction. Applicants may provide court letters stating that no criminal records are found. The EC will scan the letters into GES and deny the applicant. The Ombudsman will reserve the right to use discretion and overturn the denial. If an applicant/member feels the denial/revocation decision was based upon inaccurate information, he/she may contact the local EC to speak with a supervisor. Whenever possible, the supervisor should resolve the issue and if necessary, contact the TTP Headquarters Program Office for review of the application. If the supervisor cannot resolve the issue and the applicant/member believes the denial/revocation was based on incorrect or inaccurate information, the applicant/member may file a Reconsideration Request by logging into their TTP account. If eligible to file a Reconsideration Request, he/she will find the Request Reconsideration button in the Program Memberships section of the Dashboard. In the instance when a minor initially enrolls in a TTP and the parent or guardian is later revoked from the program, a minor should not be automatically revoked. The decision to revoke should be based on the totality of circumstances. If the CBP officer decides that the minor cannot continue with his or her low-risk status based on the actions of the parent or guardian, the officer may revoke the minor. However, if the officer determines the minor is low-risk and the parent or guardian does not wish to have the minor’s membership cancelled, the child may remain in the program. The officer must have comprehensive comments added to GES in these circumstances to substantiate the decision. 16.7. Appeal of Denials or Revocations There is no formal appeal process for CBP denial or revocation of applications, but CBP will make every effort to ensure that accurate information was used, and appropriate decisions were reached. 16.8. Applicant Inquiries Applicants who have been denied or revoked and contact the enrollment center requesting further information should speak with the designated officer or CBP supervisor and be provided with as much information as can be properly provided based on CBP and TECS security policies, third agency considerations and any other policy and legal constraints. For example, to the extent consistent with law and CBP policy, the officer may disclose to the applicant or member CBP information that relates to that applicant/member which may include criminal records, fingerprint results, any voluntary disclosures by applicant, and information on customs, immigration, or agriculture violations. 52 CBP-OFO-2022-092322-000058',\n",
       " 'Calls to the enrollment centers or correspondence to the Trusted Traveler Ombudsman requesting reconsideration should contain supporting information that demonstrate the denial or revocation was based on inaccurate information. Letters received at the TTP Headquarters Program Office from applicants or members concerning the reason they were denied or revoked must be scanned into GES for either the Ombudsman or the appropriate enrollment center for response. The enrollment center (b)(7)(E)__ will update GES to indicate the date the letter was received from Headquarters. Responses should be provided within one week after the letter is received from Headquarters. Additionally, any follow-up questions concerning denials and revocations must be addressed by the enrollment center or the Ombudsman. When an applicant makes a claim that the information is incorrect (such as a record of a criminal conviction), the EC should check and confirm that the information from which the denial is based is accurate. This should include the positive identification of the applicant to confirm an exact match. In addition, if efforts at the enrollment center or other local CBP office are not able to resolve an issue, the Supervisor at the enrollment center may forward the matter to the Ombudsman for review. When a discrepancy is encountered during the review process, such as a record being attributed to an applicant by mistake, enrollment center may send an email to the Ombudsman ait___(b)(7(E)_ The subject line of the email should include the PASS ID and full name of the applicant. A summary of the issues and the EC’s recommendation on why the application should be reconsidered must be included in the email. Any supporting documentation should be attached to the GES record. A second line supervisor or higher-level manager must submit these reconsiderations to the Ombudsman. Generally, the Ombudsman will respond via email directly to the officer within 14 days.  53  CBP-OFO-2022-092322-000059',\n",
       " 'Additionally, the Ombudsman will respond, in accordance with CBP policies and procedures, to inquiries  from denied or revoked TTP applicants.  If the applicant feels that the denial was based on inaccurate or incorrect information, they may file a  Reconsideration Request by logging into their TTP account. If eligible to file a Reconsideration Request,  they will find the Request Reconsideration button in the Program Memberships section of the  Dashboard.  Reconsideration Requests and attachments to the Ombudsman should be in English and must include  the following details: ® Date of denial and denial reason shown in notification letter posted to applicant’s account. # Summary of information to further clarify a record or explain an incident or arrest; and e Attach court disposition documentation in PDF format for all arrests or convictions, even if  expunged.  The ECs should not routinely encourage each denied applicant to write to the Ombudsman, as there is  no formal appeals process.  16.9, Trusted Traveler Card Disposal  If a member’s privileges are revoked, EC or EoA personnel will destroy the member’s Trusted Traveler  card by shredding the card and updating the GES system to reflect the revocation of the membership  and the destruction of the card. The comment field in the GES will be annotated to reflect the reasons for the revocation. All comments made by EC or EoA personnel will be placed in the biographical details link of the summary page in GES. The CBSA will be advised electronically via GES, GEC, or the FAST database if it is a NEXUS or FAST North violation. 16.10. Penalties: Non-Members Utilizing a Dedicated Lane or GE Border Processing Technology  All non-members who utilize a dedicated commuter vehicle lane to enter the U.S are liable for penalties  under 19 USC 1433, 1436, and 1459. It is CBP policy to levy penalties only when it can be established  that a person had knowledge that the dedicated lanes are restricted to enrolled travelers. The CBP supervisor will determine if the person had knowledge of the restricted nature of the lanes. Any vehicle with a non-member (passenger or driver) will be referred for secondary inspection. Non-members utilizing the air GE border processing technology will be referred to secondary but cannot have a penalty levied against them. TTP members who facilitate the passage of a non-member through the air GE border processing technology lane should also be referred to secondary.  In secondary, the CBP officer will complete the following for each non-member attempting to use a  Trusted Traveler system:  1. First Offense! (b)(7)(E)___iwill be created for each non-member who uses the dedicated lane or a GE border processing technology. A CBP officer must explain to each non-member that the dedicated lanes and GE border processing technologies are restricted to program members and non-member drivers, travelers or GE border processing technology users risk the application of substantial monetary fines and other penalties for misusing the lane or the GE border processing technology. The officer should give information to the non-member on how to apply to a TTP if  54 CBP-OFO-2022-092322-000060',\n",
       " 'appropriate. It must be noted | (b)(7)(E) !that an explanation of the violation and, if appropriate, that an application for the TTP, were given to the non-member.  2. Second Offense- Each non-member must be queried during the secondary examination to determine if a record exists showing the individual has used the dedicated lane or a GE border processing technology in the past and has had the rules explained. If a person has ani record on file showing a past violation, they are considered to have knowledge of the restrictions. The non- member will have the restrictions explained a second time and a second... (b)(7)(E)____ will be created and annotated that the traveler was given an explanation a second time.  3. Third Offense- If a non-member driver utilizes the dedicated lane or a GE border processing technology a third time, a penalty may be assessed for “Failure to Properly Report Arrival”. Prior to the penalty being assessed, two previous!»=l records in TECSiwimey! on the traveler must exist (one for the first offense and one for the second offense). A supervisor must approve the assessment of the penalty. If approved by the supervisor, ani(y7E)iwill be entered into TECS{mm=i, and the penalty assessed.  Vehicles driven by non-members who use the SENTRI or NEXUS lane a third time may be subject to seizure and forfeiture.  Vehicles must not be seized unless there are two previously documented wy7e)! cases of violations committed by the non-member driver. Please consult with HQ or your field Office of Chief Counsel office before utilizing these provisions to seize a vehicle.  Penalties for the first violation are $5,000 and $10,000 for each additional penalty. Penalties may be  lowered per mitigation guidelines. Penalties cannot be levied against a traveler in the air environment  for attempting to use a GE border processing technology lane.  In addition, travelers’ ineligible to use a TTP dedicated lane that, in defiance of clearly posted signage,  traverse a DCL, or FAST-dedicated lane may be in violation, even if they report for primary inspection at  a non-DCL or non-FAST-dedicated lane. These non-member travelers may be subject to a fine or other  punishment (i.e., revocation of membership). Please consult with the TTP Headquarters Program Office  or your field Office of Chief Consul office before utilizing this provision. 16.11. Documenting Non-member Violators All non-members should be queried to see if they are a previous violator. Such information can be used_ to assess a penalty for the violation.! (b)(7)(E) ; 55 CBP-OFO-2022-092322-000061',\n",
       " '17. Equipment Failure In the event of any equipment or system failure, a CBP officer will ensure that a CBP supervisor has been notified. The CBP supervisor will contact the CBP Help Desk af_____(b)(7(E)____ jand obtain a work ticket number. If the problem persists or is not readily resolved, the supervisor/administrator will report the problem to the appropriate program manager at CBP Headquarters. Each site will maintain a log showing date and time each problem was reported, a description of the problem, and the date of the resolution. Until the equipment failure has been resolved, NEXUS/SENTRI/FAST/GE processing will continue by ensuring each TTP member is in possession of his/her Trusted Traveler card or passport/LPR card and then conducting a normal primary inspection. Non-members cannot use the dedicated lanes or the GE border processing technologies even during times of equipment failure. NEXUS members traveling by air will be processed through a designated primary processing lane conducting a normal primary inspection. NEXUS members will be allowed to move to the front of the processing line to ensure expedited processing. GE members will be directed to the nearest staffed primary booth and given head of the line privileges. The supervisor will notify CBP officers and airline staff as to the equipment failure and alternate procedures. The Duty Supervisor must be apprised of the GE border processing technology failure. The Duty Supervisor will contact the GE Program Manager at CBP Headquarters. 18. Lost, Stolen, or Inoperable Cards TTP members with inoperable, damaged, lost, or stolen Trusted Traveler cards will be referred to the EC. If the card is inoperable due to visible physical damage, a replacement card will be required and must be ordered by the member via TTP website to include payment of the replacement fee. When a member inquires about a card, for various reasons listed below, the following procedures must be followed by the EC in order to request a replacement card: TTP Member Never Received the Card  e Check GES, RFID Card Status history to verify when it was sent (mailed by the Government  Publishing Office)  e Check GES comments to see if the card was returned as non-deliverable to HQ  e Verify the mailing address, email address and phone number on file in GES  e Make any necessary updates in GES  e Add complete and comprehensive comments to GES stating if the address was verified/ updated  e Deactivate the card  e Send the designated HQ POC a request for a replacement card TTP Member Reports an Error on the Card  e Check GES to review member’s user profile (associated to his/hers Pass ID)  e Verify the correct information (Name/ DOB/Gender, etc.)  e Make the necessary updates in GES to correct the error(s)  « Review the RAW to see if the corrected information was part of the initial vetting  56 CBP-OFO-2022-092322-000062',\n",
       " 'o If the corrected information appears on the original RAW, re-vetting is not required  o If the corrected information does not appear on the original RAW, indicate this on the request for card replacement  e Verify the mailing address, email address and phone number on file in GES e Make any necessary updates on the address in GES e Add complete and comprehensive comments to GES stating the information corrected and if the address was verified/updated ¢ Deactivate the card * Send the designated HQ POC a request for a replacement card The TTP Headquarters Program Office will not replace cards for changes made by the applicant after the enrollment interview has been completed, such as name changes based on marriage, divorce or naturalizations, changes in citizenship or permanent residence status, or changes to gender. Under these circumstances, the member can provide proof of the change to the EC. The EC officers will: e  Verify/validate the information, make the necessary updates in GES to include capturing the supporting travel document (passport or |-551 if due to a change in status). e Instruct the member to request a card replacement by filing a Card Replacement Application and paying the $25 application fee at TTP website.  o The current options provided for card replacement reason in GES do not cover the full range of card replacement options. Until such time as this update is made, the member can choose any of the options to initiate the card replacement process.  o. Fees for card replacements should never be collected at Enrollment Centers.  The designated TTP Headquarters Program Office contact for card replacements is the GES Program Manager. In order to request a replacement card, EC Supervisors or Chiefs must send an email to the GES Program Manager vig ss (b)(7)(E) ~—_and include the following information:  e The Pass ID in the Subject line of the email message  e The reason for replacement (card not received or reissue to correct officer error)  e Indicate what, if any corrections/updates were made in GES  e = Indicate that comments were made in GES Card replacement requests will be reviewed and processed on a first in first out basis. Attention to detail during the enrollment process will greatly reduce the number of replacements requested by reducing officer errors. 19. Elevated Threat Level Impact When decisions are made to elevate the national threat level, all CBP personnel must be cognizant to apply heightened security measures at CBP facilities commensurate with the threat! (b)(7(E)__!  CBP-OFO-2022-092322-000063',\n",
       " \"20. Disclosure  This manual contains law enforcement and other sensitive information that may be legally exempt from disclosure to the public. No part of this manual shall be disclosed to the public without the express authorization of U.S. Customs and Border Protection Headquarters.  21. Policy Statement  This document is an internal policy statement of the U.S. Customs and Border Protection and does not create or confer any rights, privileges, or benefits on any person or party.  Appendix A - Adjudication of Derogatory Information for Trusted Traveler Program Applicants  The following guidance has been developed to adjudicate applicant's derogatory information at enrollment centers. This guidance is based on the Trusted Traveler Programs (TTP) Strict Standard per TTP Handbook section 3.1 and supersedes all previously issued guidance.  e All criminal charges discovered during a TTP enrollment interview must be addressed individually and completely. If an applicant has been charged with a crime, then the interviewing officer must determine the date of the event(s), the severity of the offense(s), the disposition of the charge(s) and any sentencing/penalties associated with the conviction(s). If the disposition of a charge is unable to be determined, and the applicant is unable to provide pertinent court documents, then the applicant is considered to have been convicted of the charge for the purpose of adjudicating the trusted traveler program application. All felony charges for which the disposition is unknown must have supporting court documents attached in GES indicating the charge was either not pursued by the Prosecuting’s office, reduced to a misdemeanor, or dismissed. All felony convictions are disqualifying and render the applicant ineligible for TTP membership.  ¢ Applicants will be given 30 days to provide court documents when potentially disqualifying criminality is discovered for which the disposition of any of the charges is unclear. During this 30-day time frame, or until court documents are made available to the interviewing officer, the application shall remain in “conditionally approved” status and must not be approved. Pertinent comments indicating the applicant was provided 30 days to obtain court documents for specified offenses must be captured via internal GES comments. If an applicant fails to provide court documents or follow up with the enrollment center by the end of the 30-day period, the application may be denied in accordance with the TTP Strict Standard policy for GE,  58 CBP-OFO-2022-092322-000064\",\n",
       " 'SENTRI, NEXUS and FAST. Additional time may be provided as warranted at the discretion of the  enrollment center supervisor. e _Allcriminal proceedings must be closed or completed, Pending charges or charges standing until  the future expiration of the statute of limitations or probationary period do not meet program  standards. e Each arrest is to be considered a separate incident. If an applicant is convicted on multiple  charges stemming from one arrest, the strict standard should be applied to the single arrest as a  whole. Here are some examples:  59 CBP-OFO-2022-092322-000065',\n",
       " '* CBP retains the authority to deny an application based on the totality of circumstances for an applicant who cannot sufficiently satisfy CBP of his or her low-risk status. > pam... ADA) 60 CBP-OFO-2022-092322-000066',\n",
       " 'e For all denials/revocations, substantive comments must be entered into the Global Enrollment System (GES) that provide a basis for the denial/revocation. 61 CBP-OFO-2022-092322-000067',\n",
       " 'e An applicant cannot knowingly provide false, inaccurate, or willfully misleading information on  his/her application or during the interview.  (b)(7)(E) Distribution of these requirements for this strict standard policy is for internal CBP use only and should not be shared with the public.  Appendix B - Statement of Mutual Understanding with Canada (Pertains to NEXUS and FAST Northern Border) Statement of Mutual Understanding On Information Sharing Among The Department of Citizenship and Immigration Canada (CIC) and The U.S. Immigration and Naturalization Service (INS) and The U.S. Department of State (DOS) 62 CBP-OFO-2022-092322-000068',\n",
       " 'The Department of Citizenship and Immigration Canada (CIC), the U.S. Immigration and Naturalization Service (INS), and the U.S. Department of State (DOS) and their successors, (hereafter collectively referred to as the Participants) stipulate as follows: This Statement of Mutual Understanding (SMU), consisting of this preamble and the sixteen articles that follow, sets forth the understanding among the Participants to share information in the manner described herein. In addition, Annexes to this SMU are hereby incorporated by reference. The provisions of the SMU apply at all times to all exchanges of information unless otherwise specified in the Annexes. The Annexes address any additional requirements or provisions applicable to specific types of information described in the Annexes to the extent that those provisions are different from, or not described in, the SMU. Notwithstanding any language used herein, however, nothing in this SMU is intended to give rise to rights or obligations under international law; the SMU reflects the firm political commitments of the Participants to operate in accordance with the provisions detailed herein. Recognizing that border security and border management are based upon cooperation and collaboration, Canada and the United States are building on their existing joint cooperative efforts under mechanisms such as Border Vision, the Accord on Our Shared Border, and documents such as the Joint Statement on Cooperation on Border Security and Regional Migration Issues and the Smart Border Declaration; Recognizing that moving the focus of control of the movement of people away from our shared land border to overseas, where potential violators of citizenship or immigration laws are interdicted prior to their arrival in the United States and Canada enables Canada and the United States to manage more effectively their movement into and within North America. Canada and the U.S. are pursuing a regional approach to migration based on the Multiple Borders Strategy. The Multiple Borders Strategy views the border not as a geo-political line but rather a continuum of checkpoints along a route of travel from the country of origin to Canada or the United States. At every checkpoint along the travel continuum-- visa screening; airport check-in; points of embarkation; transit points; international airports and seaports; and the Canada-United States border -- there is an opportunity for the Participants to link the person and the document and any known intelligence; Considering that the effective administration and enforcement of citizenship and immigration laws in the United States and Canada are important to protect the health and safety of our populace, to maintain the security of our societies, and to promote international justice and security by fostering respect for human rights and by denying access to our territories to persons who are criminals or security risks; Being convinced that greater cooperation through the exchange of information can make their actions in achieving these objectives more effective; the Participants have reached the following understandings:  63  CBP-OFO-2022-092322-000069',\n",
       " 'Article 1 Definitions  For purposes of this SMU the following definitions apply:  {a) “Citizenship and immigration laws” means the laws and regulations of the United States and Canada relating to admission, temporary entry, removal, naturalization, denaturalization, or loss of nationality.  1. On the United States side, this includes, but is not limited to: (a) the Immigration and Nationality Act (INA); (b) the Convention against Torture and Other Cruel, Inhuman or Degrading Treatment; (c) other immigration-related laws under any title of the United States Code or any other public laws; and (d) immigration-related Presidential Proclamations or Executive Orders.  2. On the Canadian side, this includes, but is not limited to: laws and regulations relating to (a) the consideration of requests for protection under the 1951 Convention relating to the Status of Refugees, the 1967 Protocol relating to the Status of Refugees, or from torture within the meaning of Article 1 of the Convention against Torture or risk to life or to a risk of cruel and unusual treatment or punishment; (b) any offences contained in the Immigration and Refugee Protection Act, the Citizenship Act, or the Crimes Against Humanity and War Crimes Act; and (c) any other immigration-related laws contained in an Act of Parliament.  (b) “Immigration-related laws” includes, but is not limited to, offences under the respective participants’ citizenship and immigration laws recited in (a) or any other conduct or circumstance, including criminal activity, that would render a person inadmissible to or removable from Canada or the United States or would otherwise affect the person’s immigration status.  (c) “Need to know” means a determination made by a Participant that specific information is needed by the requesting Participant in order to perform or assist in a lawful and authorized government function.  (d) “Information” includes, but is not limited to, all books, papers, maps, photographs, machine readable materials, or other documentary materials, regardless of physical form or characteristics including electronic format, made or received by a Participant that concerns persons, businesses, organizations, entities, activity or statistical data.  (e) “Compelling need” means extraordinary circumstances where a Participant perceives that there is an urgency to take action and where failure to take the action could reasonably pose a threat to the life or physical safety of an individual or group of individuals.  64 CBP-OFO-2022-092322-000070',\n",
       " 'Article 2 Purpose and Scope  Nothing in this SMU is intended to change or modify the laws of the Participants.  Subject to the domestic laws of the United States and Canada, the Participants are to assist each other  by sharing information in accordance with the provisions of this SMU for the following purposes:  {a) To assist in the effective administration and enforcement of the Participants’ citizenship and immigration laws;  (b) To facilitate the secure flow of people to Canada or the United States through co-operative border management among the Participants; and  (c} To promote international justice and security by fostering respect for human rights and by denying access to the United States and Canada to persons who are criminals or security risks.  Article 3 Conditions for Exchange of Information Under the SMU  Unless otherwise specified in any Annex to this SMU, the Participants are to share information under the  SMU consistent with domestic law and the purposes set out in Article 2 if any of the following  circumstances exist:  (a) There are reasonable grounds to suspect that the information would be relevant to the administration or enforcement of the citizenship or immigration laws of either Canada or the United States;  (b) There are reasonable grounds to suspect that the information would be relevant to the prevention, investigation or punishment of conduct that would constitute a crime rendering a person inadmissible or removable under the citizenship or immigration laws of either Canada or the United States; or  (c) The information is to be used for statistical or research purposes, provided that the use of the information does not identify persons, and complies with each Participant’s laws and policies for such exchanges of information.  Article 4 Procedure for the Exchange of Information  (a) The sharing of information between the Participants is to be in accordance with the provisions of this SMU.  (b) All exchanges of information under this SMU, and requests, therefore, are to be made through the points of contact established pursuant to Article 7.  (c) Exchanges of information pursuant to this SMU may take place upon request for records pertaining to specific persons or entities, or for records pertaining to groups of persons. Where provided for in the Annexes, exchanges of information may also be by systematic exchange of information maintained in databases.  65 CBP-OFO-2022-092322-000071',\n",
       " '(d) Information may also be shared at the initiative of the providing Participant, where that Participant has reason to suspect that the receiving Participant has a need to know the information for purposes of enforcing or administering its citizenship or immigration laws.  (e) The Participants are to make requests for information pursuant to Article 3, and in all cases requesting Participants are to provide the background and information necessary to enable the providing Participant to respond. All requests should identify the reason for the request, as well as the intended use of the information.  (f) When reasonably practicable, requests for information should be made in writing in either a paper or electronic format. If it is not reasonably practicable for a Participant to make a written request for the information prior to its receipt, the requesting Participant is to confirm the request in writing as soon thereafter as is possible.  (g) The Annexes to this SMU constitute prior written arrangements for the sharing of the information specified in the Annexes. Therefore, unless otherwise indicated in an Annex, further written requests for the information specified in the Annex are unnecessary.  Article 5 Types of Information to be Shared  Information shared must be relevant to the request made and, may include, but is not limited to:  e name  e alias(es)  * gender  e physical description  e date of birth  * country of birth  * country of last permanent residence  e nationality or nationalities  e biometrics including photographs and fingerprints  e work history  e military service  e links with terrorist and/or organized crime groups  ® citizenship or immigration enforcement status and history  « travel carrier information  ® passport and travel document information  e@ personal identification numbers  e travel routing, itinerary and history  e telephone numbers  e addresses  e marital status and family composition  « immigration status  ¢ previous immigration violations  ¢ outstanding immigration and criminal warrants for arrest  66 CBP-OFO-2022-092322-000072',\n",
       " '@ criminal history and convictions for which no pardon has been granted in Canada or the United States  ® occupational information  * education  e grounds of inadmissibility  e grounds of removal  @ documents submitted in support of an application to CIC, INS or DOS or to their successors  * other criminal and security intelligence relevant to the purposes of Article 2.  Article 6 Subsequent Uses and Treatment  Subsequent uses and treatment of information shared under this SMU and its annexes are restricted by  the following conditions:  (a) Information is shared between the Participants pursuant to an express understanding of strict confidentiality. Such information, as well as inquiries and requests for information, received by a Participant under this SMU is to be accorded protection from disclosure to third parties as provided under the laws and policies of the receiving Participant with regard to such information;  (b) Receiving Participants are not to use or disclose the information provided under this SMU except for the purposes enumerated in Article 2 or the Annexes, or as otherwise required by the laws of the Participant;  (c)(i) The Participants are to obtain written permission for the disclosure to third parties of any confidential information received pursuant to this SMU prior to such disclosure, or as specified in the Annexes, unless there is a compelling need that would justify a Participant’s not making such a written request, in which case the requesting Participant is to give written notice of the disclosure to the providing Participant as soon as practicable; however  (ii) The Participants acknowledge that written permission is not required for disclosure of information to agencies participating as signatories of the SMU and other agencies in the performance of their citizenship, immigration or border management functions (including the U.S. Coast Guard, U.S. Customs Service, U.S. Department of Agriculture, U.S. Federal Bureau of Investigation, U.S. Central Intelligence Agency, U.S. Department of Defense, Canada Customs and Revenue Agency, Canadian Food Inspection Agency, Health Canada, Canadian Security Intelligence Service, Canadian Department of Fisheries and Oceans, Canadian Department of Foreign Affairs and International Trade, Canadian Department of National Defense; Royal Canadian Mounted Police, or their successors and with oversight and review agencies within the United States and Canada);  (iii) A receiving Participant is to provide notice to any third party to which it discloses information received in confidence under the SMU that the third party is prohibited from further disclosure unless it obtains authorization from the providing Participant; and  67 CBP-OFO-2022-092322-000073',\n",
       " '(d) To prevent the unauthorized disclosure, copying, use, or modification of information provided to a Participant under this SMU, receiving Participants are to restrict access to such information on a need-to-know basis, and use recognized security mechanisms such as passwords, encryption, or other reasonable safeguards to prevent unauthorized access.  Article 7 Designation of Officials  (a) The Participants are to designate officials for the purpose of exchanging information under this SMU and inform the other Participants in writing or electronically of any such designation or change to an existing designation.  (b) All exchanges of information pursuant to this SMU are to be between or among designated officials of the respective Participants.  Article 8 Original Documents  (a) Where a Participant receives original documents, such documents are to be returned to the providing Participant as soon as possible, or upon request of the providing Participant. If such documents cannot be returned within 15 calendar days of the receipt of the providing Participant’s request for their return, the receiving Participant is to notify the providing Participant so that the Participants may mutually determine the date by which the documents are to be returned.  (b) When requested to do so by the receiving Participant, the providing Participant is to certify copies of records as true and correct, in a form acceptable to each Participant.  Article 9 Exemption from the Obligation to Provide Information  Where the designated official of the Participant who would otherwise provide information pursuant to  this SMU is of the opinion that to do so would likely be inconsistent with its laws, or detrimental to its  national sovereignty, security, public policy, or other important national interest, the Participant may either decline to provide the information in whole or in part, or offer to provide the information in whole or in part subject to such terms and conditions as it may specify. The Participant requesting the information is to comply with such terms and conditions as a condition precedent to the information being provided.  Article 10 Procedure for Amending and Deleting Information  Where a Participant has supplied information that is later subject to amendment for reason of accuracy  of information, official policy, or legislative requirement, that Participant is to update the information in  its system. For periodic exchanges of information between the Participants, the receiving Participant is to update its records with the revised information. For specific case information, the receiving  Participant bears the responsibility of checking the providing Participant’s information for subsequent  updates. Participants are to exercise due diligence to ensure any actions taken are based on the most  current information.  68 CBP-OFO-2022-092322-000074',\n",
       " 'Article 11 Retention and Disposal The Participants’ respective domestic laws and policies regarding the retention and disposal of information received pursuant to this SMU are applicable. Article 12 Resolution of Disputes The Participants intend to resolve any disputes arising under this SMU by consultation among the Participants. A Participant who believes that information received under the SMU may have been improperly used or disclosed is to immediately notify the providing Participant. Participants are to take such steps as they mutually decide are reasonably necessary to ensure that no further improper uses or disclosure of information provided under this SMU occur. Article 13 Review The Participants to this SMU are to cooperate in a joint review of its provisions five years from the date of signature and every five years thereafter, or upon written request of a Participant. Failure to conduct a review does not, however, result in termination of this SMU. Article 14 Amendment This SMU and its Annexes may be amended only by written decision of the Participants. Article 15 Miscellaneous (a) Participants are to advise the others of all changes to their respective laws, regulations, or policies that could affect the operation or interpretation of this SMU. (b) Participants intend to develop implementing guidelines for this SMU. Participants plan to share these guidelines with each other. Nothing in this provision is intended to impose a specific timetable for the issuance of such guidance. Article 16 Duration Activities under this SMU commence on the date when all Participants have signed. Activities under the SMU cease sixty days after one Participant provides written notice to the others of its intention to no longer participate in the SMU. Any Annexes added after activities commence under this SMU become part of the SMU on the date specified in the Annex. Any exchanges of information under the previous Statement of Mutual Understanding dated July 22, 1999, remain valid under this SMU. In Witness Whereof, the Participants have signed this Statement of Mutual Understanding: FOR THE U.S. IMMIGRATION FOR THE DEPARTMENT AND NATURALIZATION OF CITIZENSHIP AND SERVICE: IMMIGRATION CANADA:  69  CBP-OFO-2022-092322-000075',\n",
       " '/s/ (b\\\\(6) (b)(7)(C) | /sf___ APG)!  for (by6) (b\\\\ ZC) | {_.(b\\\\(6)____| A/Assistant Deputy Minister  Executive Associate Commissioner Programs and Policy  Office of Operations  19 Feb. 03 19-02-03 Date Date 70 CBP-OFO-2022-092322-000076',\n",
       " 'Appendix C - General interview Questions Guide This list of general interview questions is provided below as a guide. Not every question below has to be asked. The questions are not to be handed to the applicant as a questionnaire for completion. Relevant responses to these questions are to be noted via internal comments. 71 CBP-OFO-2022-092322-000077',\n",
       " '(b)(7)(E)',\n",
       " 'Appendix D — Authority for Trusted Traveler Programs The Intelligence Reform and Terrorism Prevention Act of 2004 (IRPTA) required that the Secretary of DHS implement a registered traveler program. See 8 U.S.C 1365b 8 CFR 235.1 — Application to lawfully enter the United States shall be made in person to an immigration officer at a U.S. port-of-entry when the port is open for inspection, or as otherwise designated in this section. Pursuant to 8 CFR 235.4 (Withdrawal of application for admission) refers to any alien applicant for admission to withdraw his or her application for admission in lieu of removal proceedings under section 240 of the Act or expedited removal under section 235(b)(1) of the Act. 8 C.F.R 235.7(a) provides that “Such advance inspection and identification, when the enrolled participant satisfies the conditions and requirements set forth in this section, satisfies the reporting requirements of §235.1(a).” Pursuant to 8 CFR 235.7(a)(4)(vii), a Trusted Traveler program applicant “... must present himself or herself for an inspection and/or positive identification at a time designated by [CBP] prior to approval of the application.” 8 CFR 235.12 — The Global Entry Program is a voluntary international trusted traveler program consisting of an integrated passenger processing system that expedites the movement of low-risk air travelers into the United States by providing an alternate inspection process for pre-approved, pre-screened travelers (Reference: https://www.ecfr.gov/current/title-8/chapter-|/subchapter-B/part-235/section-235.12) CBP Directive No: 3340-026B (Review Date: Oct 2006) — provides guidance on the implementation of the U.S. Customs and Border Protection (CBP) Threat Condition Protective Measures as they correlate to the five Threat Conditions outlined in the Homeland Security Advisory System (HSAS) (Reference: CBP D3340-026B Threat Condition Measures.doc) 19 U.S.C. 1433 — Report of arrival of vessels, vehicles, and aircraft 19 U.S.C. 1436 — Penalties for violations of arrival, reporting, entry, and clearance requirements 19 U.S.C. 1459 — Customs Duties § 1459. Reporting requirements for individuals 19 U.S.C. 1644 — Application of the Federal Aviation Act - Regulation to provide for the application to civil air navigation of the laws and regulations relating to the administration of customs, and of the laws and regulations relating to the entry and clearance of vessels, shall extend to the application in like manner of any of the provisions of this chapter. 41 CFR 102-74.385 - A person found guilty of violating any rule or regulation in this subpart while on any property under the charge and control of GSA shall be fined under title 18 of the United States Code, imprisoned for not more than 30 days, or both. 41 CFR 102-74.430 — Policy concerning vehicular and pedestrian traffic on Federal property.  73  CBP-OFO-2022-092322-000079',\n",
       " '41 CFR 102-74.450 - A person found guilty of violating any rule or regulation in this subpart while on any property under the charge and control of GSA shall be fined under title 18 of the United States Code, imprisoned for not more than 30 days, or both. 19 U.S.C. 1594 ~ Seizure of conveyances - is subject to a penalty for violation of the customs laws, the conveyance involved shall be held for the payment of such penalty and may be seized and forfeited and sold in accordance with the customs laws. The proceeds of sale, if any, in excess of the assessed penalty and expenses of seizing, maintaining, and selling the property shall be held for the account of any interested party. Title 19 ~ Non-Essential otherwise Admissible - Department of Homeland Security (DHS) required non- U.S. travelers entering the United States via land ports of entry and ferry terminals at the U.S.-Mexico and U.S.-Canada borders to be fully vaccinated against COVID-19 and provide related proof of vaccination upon request. These requirements will continue to apply to non-U.S. travelers who are traveling both for essential and non-essential reasons, and do not apply to U.S. citizens, Lawful Permanent Residents, or U.S. nationals.  74  CBP-OFO-2022-092322-000080',\n",
       " '75 CBP-OFO-2022-092322-000081']"
      ]
     },
     "execution_count": 93,
     "metadata": {},
     "output_type": "execute_result"
    }
   ],
   "source": [
    "ocr_texts"
   ]
  },
  {
   "cell_type": "code",
   "execution_count": 121,
   "id": "29fd2417",
   "metadata": {},
   "outputs": [],
   "source": [
    "def ai_agent_analyze_ocr(ocr_texts, question,client):\n",
    "\n",
    "    full_text = \"\\n\\n\".join(ocr_texts)\n",
    "    \n",
    "    prompt = f\"\"\"\n",
    "You are a legal assistant helping to analyze PDF documents extracted by OCR.\n",
    "\n",
    "User question: {question}\n",
    "\n",
    "Below is the extracted text from the PDF document (from OCR):\n",
    "\n",
    "{full_text}\n",
    "\n",
    "Please provide a clear and concise answer to the user's question based on the content of the document.\n",
    "\"\"\"\n",
    "    \n",
    "    response = client.chat.completions.create(\n",
    "        model=\"deepseek-chat\",\n",
    "        messages=[\n",
    "            {\"role\": \"system\", \"content\": \"You are a helpful legal assistant.\"},\n",
    "            {\"role\": \"user\", \"content\": prompt}\n",
    "        ],\n",
    "        temperature=0.2,\n",
    "        max_tokens=800\n",
    "    )\n",
    "    \n",
    "    answer = response.choices[0].message.content.strip()\n",
    "    return answer"
   ]
  },
  {
   "cell_type": "code",
   "execution_count": 122,
   "id": "87b0a2cc",
   "metadata": {},
   "outputs": [],
   "source": [
    "final_response = ai_agent_analyze_ocr(ocr_texts,question,client=deepseek_client)"
   ]
  },
  {
   "cell_type": "code",
   "execution_count": 123,
   "id": "9f8409e1",
   "metadata": {},
   "outputs": [
    {
     "name": "stdout",
     "output_type": "stream",
     "text": [
      "Based on the extracted text from the Presidential Proclamation dated June 4, 2025, **a person who travels to Cuba (a national of Cuba) will generally not be permitted to enter the United States** unless they fall under one of the exceptions listed.  \n",
      "\n",
      "### Key Points:  \n",
      "1. **General Restriction**: Cuba is one of the 19 countries whose nationals are subject to entry suspension under the Proclamation, effective **June 9, 2025**.  \n",
      "2. **Exceptions**: A Cuban national may still enter the U.S. if they:  \n",
      "   - Hold a **valid U.S. visa issued on or before June 8, 2025**.  \n",
      "   - Are a **lawful permanent resident (LPR)** of the U.S.  \n",
      "   - Are a **dual national traveling on a passport from a non-listed country**.  \n",
      "   - Qualify for one of the other exceptions (e.g., certain visa classifications, family-based immigrant visas, etc.).  \n",
      "\n",
      "### Action Required:  \n",
      "If the traveler does not meet an exception, they **will not be allowed entry** unless the Proclamation is amended or revoked. For specific cases, CBP or the U.S. Department of State should be consulted.  \n",
      "\n",
      "Let me know if you need further clarification!\n"
     ]
    }
   ],
   "source": [
    "print(final_response)"
   ]
  },
  {
   "cell_type": "code",
   "execution_count": null,
   "id": "516ba2be",
   "metadata": {},
   "outputs": [
    {
     "data": {
      "application/vnd.jupyter.widget-view+json": {
       "model_id": "90a630bca6b0479bb5a134819387ada7",
       "version_major": 2,
       "version_minor": 0
      },
      "text/plain": [
       "modules.json:   0%|          | 0.00/349 [00:00<?, ?B/s]"
      ]
     },
     "metadata": {},
     "output_type": "display_data"
    },
    {
     "name": "stderr",
     "output_type": "stream",
     "text": [
      "c:\\Python311\\Lib\\site-packages\\huggingface_hub\\file_download.py:143: UserWarning: `huggingface_hub` cache-system uses symlinks by default to efficiently store duplicated files but your machine does not support them in C:\\Users\\o\\.cache\\huggingface\\hub\\models--sentence-transformers--all-mpnet-base-v2. Caching files will still work but in a degraded version that might require more space on your disk. This warning can be disabled by setting the `HF_HUB_DISABLE_SYMLINKS_WARNING` environment variable. For more details, see https://huggingface.co/docs/huggingface_hub/how-to-cache#limitations.\n",
      "To support symlinks on Windows, you either need to activate Developer Mode or to run Python as an administrator. In order to activate developer mode, see this article: https://docs.microsoft.com/en-us/windows/apps/get-started/enable-your-device-for-development\n",
      "  warnings.warn(message)\n"
     ]
    },
    {
     "data": {
      "application/vnd.jupyter.widget-view+json": {
       "model_id": "8466ca50fb34457ba5e8599bbb233c51",
       "version_major": 2,
       "version_minor": 0
      },
      "text/plain": [
       "config_sentence_transformers.json:   0%|          | 0.00/116 [00:00<?, ?B/s]"
      ]
     },
     "metadata": {},
     "output_type": "display_data"
    },
    {
     "data": {
      "application/vnd.jupyter.widget-view+json": {
       "model_id": "d5dbf8d977904c3f83a5640a577c53b3",
       "version_major": 2,
       "version_minor": 0
      },
      "text/plain": [
       "README.md: 0.00B [00:00, ?B/s]"
      ]
     },
     "metadata": {},
     "output_type": "display_data"
    },
    {
     "data": {
      "application/vnd.jupyter.widget-view+json": {
       "model_id": "bd3152680b2a4d0782818c3048ead023",
       "version_major": 2,
       "version_minor": 0
      },
      "text/plain": [
       "sentence_bert_config.json:   0%|          | 0.00/53.0 [00:00<?, ?B/s]"
      ]
     },
     "metadata": {},
     "output_type": "display_data"
    },
    {
     "data": {
      "application/vnd.jupyter.widget-view+json": {
       "model_id": "5091040974bf40ef80609b9a73cfc1c8",
       "version_major": 2,
       "version_minor": 0
      },
      "text/plain": [
       "config.json:   0%|          | 0.00/571 [00:00<?, ?B/s]"
      ]
     },
     "metadata": {},
     "output_type": "display_data"
    },
    {
     "name": "stderr",
     "output_type": "stream",
     "text": [
      "Xet Storage is enabled for this repo, but the 'hf_xet' package is not installed. Falling back to regular HTTP download. For better performance, install the package with: `pip install huggingface_hub[hf_xet]` or `pip install hf_xet`\n"
     ]
    },
    {
     "data": {
      "application/vnd.jupyter.widget-view+json": {
       "model_id": "2e290be06f5e4d11bea7a0f31dcfeadd",
       "version_major": 2,
       "version_minor": 0
      },
      "text/plain": [
       "model.safetensors:   0%|          | 0.00/438M [00:00<?, ?B/s]"
      ]
     },
     "metadata": {},
     "output_type": "display_data"
    },
    {
     "data": {
      "application/vnd.jupyter.widget-view+json": {
       "model_id": "8f282cbd679a4c089d8c8d23efe8f0cd",
       "version_major": 2,
       "version_minor": 0
      },
      "text/plain": [
       "tokenizer_config.json:   0%|          | 0.00/363 [00:00<?, ?B/s]"
      ]
     },
     "metadata": {},
     "output_type": "display_data"
    },
    {
     "data": {
      "application/vnd.jupyter.widget-view+json": {
       "model_id": "6376ad76cc3f4237887628a5493815e3",
       "version_major": 2,
       "version_minor": 0
      },
      "text/plain": [
       "vocab.txt: 0.00B [00:00, ?B/s]"
      ]
     },
     "metadata": {},
     "output_type": "display_data"
    },
    {
     "data": {
      "application/vnd.jupyter.widget-view+json": {
       "model_id": "94eb82a54b9544169eb66df8d00e92fb",
       "version_major": 2,
       "version_minor": 0
      },
      "text/plain": [
       "tokenizer.json: 0.00B [00:00, ?B/s]"
      ]
     },
     "metadata": {},
     "output_type": "display_data"
    },
    {
     "data": {
      "application/vnd.jupyter.widget-view+json": {
       "model_id": "bb18acb2afad442bb3ef8350184aca6e",
       "version_major": 2,
       "version_minor": 0
      },
      "text/plain": [
       "special_tokens_map.json:   0%|          | 0.00/239 [00:00<?, ?B/s]"
      ]
     },
     "metadata": {},
     "output_type": "display_data"
    },
    {
     "data": {
      "application/vnd.jupyter.widget-view+json": {
       "model_id": "b46f2db49991439dbd7fc297f5216073",
       "version_major": 2,
       "version_minor": 0
      },
      "text/plain": [
       "config.json:   0%|          | 0.00/190 [00:00<?, ?B/s]"
      ]
     },
     "metadata": {},
     "output_type": "display_data"
    }
   ],
   "source": [
    "from sentence_transformers import SentenceTransformer\n",
    "import numpy as np\n",
    "\n",
    "model = SentenceTransformer('sentence-transformers/all-mpnet-base-v2')\n",
    "\n",
    "def semantic_chunking(text, model, threshold=0.5):\n",
    "    sentences = text.split('.')\n",
    "    embeddings = model.encode(sentences)\n",
    "    \n",
    "    similarities = [np.dot(embeddings[i], embeddings[i+1]) \n",
    "                   for i in range(len(embeddings)-1)]\n",
    "    \n",
    "    chunks = []\n",
    "    current_chunk = sentences[0]\n",
    "    \n",
    "    for i, sim in enumerate(similarities):\n",
    "        if sim < threshold:  \n",
    "            chunks.append(current_chunk)\n",
    "            current_chunk = sentences[i+1]\n",
    "        else:\n",
    "            current_chunk += '. ' + sentences[i+1]\n",
    "    \n",
    "    chunks.append(current_chunk)\n",
    "\n",
    "    return chunks"
   ]
  },
  {
   "cell_type": "code",
   "execution_count": 69,
   "id": "ca7a41d0",
   "metadata": {},
   "outputs": [],
   "source": [
    "from sentence_transformers import SentenceTransformer\n",
    "import numpy as np\n",
    "\n",
    "model = SentenceTransformer('sentence-transformers/all-mpnet-base-v2')\n",
    "\n",
    "def semantic_chunking(text, model, threshold=0.5, min_chunk_len=3):\n",
    "\n",
    "    sentences = [s.strip() for s in text.split('.') if s.strip()]\n",
    "    if len(sentences) <= 1:\n",
    "        return sentences  \n",
    "\n",
    "    embeddings = model.encode(sentences, normalize_embeddings=True)\n",
    "\n",
    "    similarities = [np.dot(embeddings[i], embeddings[i+1]) for i in range(len(embeddings) - 1)]\n",
    "\n",
    "    chunks = []\n",
    "    current_chunk = [sentences[0]]\n",
    "\n",
    "    for i, sim in enumerate(similarities):\n",
    "        if sim < threshold and len(current_chunk) >= min_chunk_len:\n",
    "            chunks.append('. '.join(current_chunk) + '.')\n",
    "            current_chunk = [sentences[i + 1]]\n",
    "        else:\n",
    "            current_chunk.append(sentences[i + 1])\n",
    "\n",
    "    if current_chunk:\n",
    "        chunks.append('. '.join(current_chunk) + '.')\n",
    "\n",
    "    return chunks\n"
   ]
  },
  {
   "cell_type": "code",
   "execution_count": 124,
   "id": "0da94bf9",
   "metadata": {},
   "outputs": [],
   "source": [
    "ocr_text = \"\\n\".join(ocr_texts)\n",
    "chunks = semantic_chunking(ocr_text, model, threshold=0.5)\n",
    "chunk_embeddings = model.encode(chunks, normalize_embeddings=True)"
   ]
  },
  {
   "cell_type": "code",
   "execution_count": 125,
   "id": "c9ce0177",
   "metadata": {},
   "outputs": [
    {
     "data": {
      "text/plain": [
       "array([[-0.02451354,  0.08217824, -0.0069642 , ..., -0.03024538,\n",
       "        -0.02166775, -0.02374367],\n",
       "       [ 0.00524226,  0.07700112, -0.01096253, ...,  0.0440694 ,\n",
       "        -0.03081658,  0.0042694 ],\n",
       "       [ 0.03243458,  0.01106589, -0.0193145 , ...,  0.01641932,\n",
       "        -0.02276189,  0.0576993 ],\n",
       "       ...,\n",
       "       [ 0.05010303,  0.00984699, -0.00612123, ...,  0.03566615,\n",
       "        -0.0437218 ,  0.03555981],\n",
       "       [-0.00726368,  0.06085514,  0.00835826, ...,  0.00073932,\n",
       "        -0.079758  ,  0.0094218 ],\n",
       "       [ 0.02267454, -0.06435157, -0.00904555, ..., -0.00564285,\n",
       "        -0.06875694, -0.05279756]], dtype=float32)"
      ]
     },
     "execution_count": 125,
     "metadata": {},
     "output_type": "execute_result"
    }
   ],
   "source": [
    "chunk_embeddings"
   ]
  },
  {
   "cell_type": "code",
   "execution_count": 126,
   "metadata": {},
   "outputs": [],
   "source": [
    "question_embeddings = model.encode(question,normalize_embeddings=True)"
   ]
  },
  {
   "cell_type": "code",
   "execution_count": 127,
   "metadata": {},
   "outputs": [
    {
     "data": {
      "text/plain": [
       "array([-2.46259887e-02,  7.49730915e-02, -2.43164245e-02,  1.84294507e-02,\n",
       "        7.40681635e-03,  3.67519446e-03, -1.52723184e-02,  1.43990701e-03,\n",
       "        4.24552932e-02,  3.45296785e-03, -6.14174036e-03,  1.51932696e-02,\n",
       "        9.14245564e-03, -3.98307331e-02, -2.73353886e-03,  3.08246650e-02,\n",
       "        2.11118460e-02, -2.31477767e-02, -9.63426530e-02, -8.17879289e-03,\n",
       "       -7.83209875e-02,  7.77560426e-03, -4.76507880e-02, -1.47334998e-02,\n",
       "        7.71743208e-02,  4.59704036e-03, -5.67097999e-02, -2.02654134e-02,\n",
       "        2.71433853e-02,  3.77836563e-02, -6.58802269e-03,  4.25994769e-03,\n",
       "        4.81555574e-02, -1.51657537e-02,  1.24493010e-06,  4.91969362e-02,\n",
       "        4.54480713e-03,  3.40875499e-02, -2.60243751e-02, -3.52002718e-02,\n",
       "       -2.00636648e-02, -6.73105642e-02,  2.06303038e-02,  2.29437463e-02,\n",
       "       -9.08645242e-02, -4.50733192e-02, -5.90507686e-02, -2.30297707e-02,\n",
       "        1.84061509e-02, -5.30719385e-02,  2.33381335e-02,  2.10018549e-02,\n",
       "       -1.39468359e-02,  1.41498968e-02, -2.97753955e-03, -1.40699849e-03,\n",
       "       -1.18324179e-02,  4.78334203e-02, -3.31879258e-02, -7.16686307e-04,\n",
       "        8.29784051e-02,  5.08306734e-03, -9.97494999e-03,  2.13428121e-02,\n",
       "       -9.41970106e-03, -2.81281993e-02, -1.11226330e-03,  7.58021176e-02,\n",
       "       -2.84045041e-02, -1.78265404e-02, -1.45017020e-02,  4.43451330e-02,\n",
       "        2.73296665e-02,  9.32094306e-02, -1.80277321e-02, -1.50607890e-02,\n",
       "        2.22839229e-02, -3.46198259e-03, -2.12342646e-02,  4.84093614e-02,\n",
       "        7.15906695e-02, -4.47173938e-02,  6.43484369e-02,  2.39954144e-02,\n",
       "       -3.20518427e-02, -4.73954575e-03, -1.93223041e-02,  4.12104605e-03,\n",
       "       -8.62690657e-02, -8.56931601e-03,  5.57534955e-02, -1.51957478e-02,\n",
       "        3.05942632e-02,  7.92928319e-03,  3.35416757e-02, -5.28520159e-03,\n",
       "        4.08270098e-02,  6.46326318e-02, -3.14950421e-02, -6.35284781e-02,\n",
       "       -6.22016937e-02,  5.11624571e-03,  1.85513962e-02, -2.23170910e-02,\n",
       "        3.57711837e-02, -6.00258447e-02, -3.09747644e-02, -1.63075479e-03,\n",
       "        5.13873696e-02, -5.77733777e-02, -3.65553088e-02,  1.78562310e-02,\n",
       "       -1.54147958e-02, -2.74040177e-02,  1.83959231e-02,  3.09317317e-02,\n",
       "       -3.76978889e-02,  3.68434899e-02,  3.20925489e-02,  5.26272096e-02,\n",
       "       -6.07843921e-02, -7.77922710e-03, -1.66667011e-02,  4.88059036e-02,\n",
       "       -1.01655433e-02,  2.97845388e-03,  2.24435590e-02,  1.00871976e-02,\n",
       "       -2.77860812e-03,  5.60573936e-02, -8.53257719e-03, -3.80408727e-02,\n",
       "        1.51050640e-02, -6.38832012e-03,  2.24718824e-02,  5.80747053e-03,\n",
       "       -5.32257631e-02,  4.02521249e-03,  5.32488339e-02, -4.49916236e-02,\n",
       "        1.91181842e-02, -3.36652510e-02,  1.75017025e-03,  1.84769575e-02,\n",
       "       -2.21158694e-02, -2.56956741e-02,  2.92943269e-02, -3.03289201e-02,\n",
       "        5.91081753e-03,  1.30295064e-02,  1.33038228e-02,  5.21076545e-02,\n",
       "        1.10421896e-01, -5.48212938e-02,  1.19525263e-04,  3.47088724e-02,\n",
       "        2.08556578e-02, -6.32806793e-02, -1.06384903e-02,  3.83828543e-02,\n",
       "       -5.06617278e-02, -3.54266614e-02, -1.12532694e-02, -1.53009798e-02,\n",
       "       -1.96544025e-02, -1.47469901e-02, -2.80731451e-02, -3.72874327e-02,\n",
       "       -1.57156698e-02,  6.32914379e-02, -6.01051003e-03, -1.39242969e-02,\n",
       "       -3.79270315e-02, -1.92464665e-02, -3.48404646e-02,  1.76225342e-02,\n",
       "       -3.51719894e-02,  1.02489740e-02,  4.98412549e-02, -5.20151993e-03,\n",
       "        3.55855599e-02,  1.04967766e-02, -7.48962304e-03, -4.51044403e-02,\n",
       "        3.52653004e-02, -1.17100915e-02,  7.68649206e-02,  5.23116961e-02,\n",
       "       -2.04716846e-02,  1.44073470e-02,  4.55300212e-02,  2.05106125e-03,\n",
       "        1.22460751e-02, -6.68293014e-02,  1.76504664e-02, -8.52852780e-03,\n",
       "        2.52356771e-02, -4.17660438e-02, -2.63840333e-02, -2.29162872e-02,\n",
       "       -4.76591140e-02,  2.74889767e-02, -3.32912244e-02,  1.75144710e-02,\n",
       "        1.69795267e-02,  3.07803452e-02,  1.45448260e-02,  3.72505770e-03,\n",
       "       -2.05922518e-02, -4.84475046e-02, -4.12204862e-03, -1.76458689e-03,\n",
       "       -2.33798213e-02,  5.94457611e-02,  8.85534286e-03,  7.35388547e-02,\n",
       "        3.60603407e-02,  1.98706500e-02,  2.65984796e-02,  2.67190486e-02,\n",
       "       -4.16584313e-02, -5.00562526e-02,  3.00125778e-02,  2.20677201e-02,\n",
       "        5.50402626e-02, -4.55023348e-03,  8.81413277e-03, -6.94641785e-04,\n",
       "        5.51895611e-02,  2.65993495e-02,  3.81187610e-02, -6.73705563e-02,\n",
       "        2.49333531e-02, -2.53003053e-02, -3.23145166e-02,  2.11745072e-02,\n",
       "       -8.29050168e-02, -1.43499061e-01,  4.29163827e-03, -1.91080142e-02,\n",
       "       -3.15986350e-02,  2.09878944e-02,  7.00278208e-02, -3.34276594e-02,\n",
       "        1.40632838e-02,  7.60456175e-02,  5.32886293e-03, -1.51367998e-02,\n",
       "        3.46854813e-02,  2.23314608e-04,  4.72345809e-03, -6.39477652e-03,\n",
       "       -1.52794942e-02, -6.92157121e-03,  3.12548019e-02, -3.00579593e-02,\n",
       "       -2.48595737e-02,  3.70102678e-03,  1.36294123e-02, -6.67039976e-02,\n",
       "       -1.46423541e-02,  6.47936296e-03, -3.69104743e-03, -2.24284697e-02,\n",
       "       -1.02708451e-02, -4.62029688e-03,  6.91802278e-02, -2.30210945e-02,\n",
       "       -1.56384185e-02, -1.68448780e-02, -8.96640867e-03,  2.66602840e-02,\n",
       "        1.68644022e-02,  3.00958548e-02,  4.13022377e-02, -2.64403597e-02,\n",
       "       -1.44615602e-02,  7.06399418e-03, -4.49822657e-02, -2.91511472e-02,\n",
       "        2.46424414e-02,  2.79408861e-02,  6.47568563e-03,  1.53830871e-02,\n",
       "       -2.62933653e-02,  6.63677230e-04, -4.28096429e-02, -1.16755499e-03,\n",
       "        1.03494199e-02, -6.28605410e-02,  6.71801120e-02,  2.24052127e-02,\n",
       "       -7.43354205e-03, -2.67735068e-02,  1.77465547e-02,  5.03922589e-02,\n",
       "        4.22861651e-02,  3.24235111e-02, -3.06998268e-02,  1.60477888e-02,\n",
       "        2.02405695e-02, -5.20637520e-02,  4.00109403e-03,  5.81006482e-02,\n",
       "        2.10880842e-02,  2.07599755e-02, -4.76769032e-03, -1.96536928e-02,\n",
       "       -3.99390236e-02, -1.10373832e-02,  9.36934073e-03,  6.12639971e-02,\n",
       "        2.66778190e-02, -3.66990715e-02, -2.99804211e-02,  1.11968964e-02,\n",
       "        1.53231826e-02,  8.79497752e-02, -1.37503827e-02,  2.23696940e-02,\n",
       "        5.58308735e-02, -1.72052905e-02, -3.34421359e-02, -4.96933572e-02,\n",
       "        2.89258715e-02,  2.05119904e-02, -1.76872499e-02, -8.95703584e-03,\n",
       "       -3.77069153e-02,  4.73289639e-02, -8.26084695e-04, -4.99247909e-02,\n",
       "        6.54966906e-02,  8.38680640e-02,  6.26262799e-02, -4.32867035e-02,\n",
       "       -1.88440587e-02, -1.38375945e-02, -1.90363228e-02, -1.48507925e-02,\n",
       "        3.34346369e-02,  1.98821183e-02,  3.58172553e-03,  4.52862643e-02,\n",
       "       -3.76186110e-02,  9.62307490e-03, -3.30365542e-03, -5.82592152e-02,\n",
       "        2.02804599e-02, -3.78628261e-03,  2.26938184e-02, -1.36048328e-02,\n",
       "       -7.48648122e-03, -6.25401512e-02, -6.30738167e-03, -9.38533898e-03,\n",
       "       -2.38822121e-02, -3.07354257e-02, -1.78931896e-02, -1.05883973e-02,\n",
       "       -2.58769356e-02, -3.68905924e-02, -7.11618662e-02, -3.52453701e-02,\n",
       "        4.58610840e-02,  1.89723186e-02,  3.99057604e-02,  9.76053104e-02,\n",
       "       -7.29592098e-03,  1.60549767e-02,  4.45797667e-02,  2.94359084e-02,\n",
       "       -4.27712910e-02, -2.46958667e-03, -8.11844878e-03,  1.12581542e-02,\n",
       "       -2.08745021e-02, -4.42985445e-03, -3.42184752e-02,  1.53821008e-02,\n",
       "        4.62694354e-02,  4.94209342e-02, -4.53976775e-03, -6.09402405e-03,\n",
       "        1.60553195e-02, -3.00725400e-02,  3.90328057e-02, -5.06808087e-02,\n",
       "        3.07597574e-02,  5.78413568e-02,  5.56562562e-03,  5.24953641e-02,\n",
       "       -4.57492284e-02,  1.56723168e-02,  1.27704302e-02, -3.07736937e-02,\n",
       "        1.47726751e-04,  1.58202574e-02, -3.59297879e-02, -1.59865916e-02,\n",
       "       -6.18668599e-03,  1.81862488e-02,  5.30137494e-02,  1.01397168e-02,\n",
       "       -3.39559838e-02, -3.52295637e-02, -1.98594201e-03,  2.61390652e-03,\n",
       "        4.70398702e-02,  3.07426625e-03, -2.76444480e-02, -4.68635000e-02,\n",
       "       -1.96743160e-02, -3.27972509e-02, -2.08794568e-02,  1.31425885e-02,\n",
       "       -5.74533967e-03, -2.42659580e-02,  9.07268433e-04, -3.50821875e-02,\n",
       "        1.76358949e-02, -4.34868634e-02,  5.59341908e-03, -5.75885959e-02,\n",
       "        2.71672066e-02, -1.13837118e-03, -6.91397721e-03, -8.74298513e-02,\n",
       "       -2.90541369e-02,  3.92323211e-02, -1.67223774e-02, -1.81573909e-02,\n",
       "       -2.38226764e-02, -8.78756959e-03,  4.34919773e-03, -7.66125275e-03,\n",
       "        3.71181150e-03, -5.71948439e-02, -6.46990836e-02, -2.90539488e-02,\n",
       "       -5.01115806e-03,  2.25858530e-03,  4.25599292e-02, -4.19526026e-02,\n",
       "        4.93795872e-02,  2.69594435e-02, -2.90923510e-02,  6.50630742e-02,\n",
       "       -8.56922823e-04, -5.79352267e-02,  1.42981028e-02,  2.75120940e-02,\n",
       "       -2.94186957e-02, -6.98442832e-02,  9.91471112e-03, -3.08501977e-03,\n",
       "       -1.34112721e-03,  7.05814436e-02,  3.51227708e-02,  2.92234998e-02,\n",
       "       -5.01935296e-02,  2.95075811e-02, -2.12277006e-02, -4.25915346e-02,\n",
       "       -1.49975931e-02, -6.60102721e-03,  1.49378423e-02,  7.80247478e-03,\n",
       "       -5.57980500e-02,  9.66557395e-03,  5.25665432e-02,  2.05326881e-02,\n",
       "        3.78726952e-04,  4.48938161e-02, -4.67857122e-02, -2.24815737e-02,\n",
       "        4.76751989e-03, -7.78078362e-02, -4.59531955e-02, -6.46067038e-02,\n",
       "       -5.53424507e-02,  5.21392711e-02,  6.65316731e-02,  5.89597272e-03,\n",
       "        3.51107530e-02, -1.46890581e-02, -3.16851437e-02, -5.23132309e-02,\n",
       "        2.75786500e-02, -2.08513346e-02, -8.19466338e-02, -5.69616770e-03,\n",
       "       -6.12451807e-02, -3.55367400e-02, -4.32238132e-02,  5.77841478e-04,\n",
       "        3.57218785e-03, -2.51671835e-03,  2.34914087e-02,  2.91753728e-02,\n",
       "       -2.25441027e-02, -3.37731801e-02,  8.00686516e-03, -1.65399387e-02,\n",
       "        6.30160887e-03,  1.64933521e-02, -2.96675172e-02, -2.64941584e-02,\n",
       "        7.04264874e-03,  2.25071982e-02, -6.02703018e-04, -1.36430771e-03,\n",
       "       -7.07923099e-02,  7.13281557e-02,  1.47621334e-02,  1.35645680e-02,\n",
       "        5.23818983e-03,  2.51369085e-03,  5.12814289e-03, -7.96489324e-03,\n",
       "       -1.12911845e-02,  1.38355177e-02,  5.36944205e-03,  4.99555422e-03,\n",
       "        1.37253031e-02,  5.35920672e-02,  8.23616330e-03,  1.81414168e-02,\n",
       "       -1.48732271e-02, -1.05103496e-02,  8.25347304e-02,  1.83350742e-02,\n",
       "        1.43937608e-02, -3.04176789e-02, -2.25217175e-02,  3.09983082e-02,\n",
       "        1.55029437e-02, -1.00909919e-02,  1.18121039e-02, -6.82189036e-03,\n",
       "        3.53946202e-02, -1.54240234e-02,  5.70973158e-02,  3.29923369e-02,\n",
       "        5.99226216e-03, -2.67817955e-02, -2.15102043e-02,  5.64769544e-02,\n",
       "       -7.80433863e-02, -3.63335162e-02, -5.43499254e-02, -1.93386916e-02,\n",
       "       -6.96122367e-03, -3.32515202e-02,  4.95507196e-03, -4.53367086e-33,\n",
       "        1.57436647e-03, -4.22126278e-02,  4.37863171e-02, -1.96746904e-02,\n",
       "        5.97043000e-02, -4.53982092e-02, -1.72352567e-02,  2.32193302e-02,\n",
       "       -5.29061407e-02, -1.40807219e-02, -9.30494256e-03, -2.77393218e-02,\n",
       "        4.27220453e-04, -1.19621269e-02, -3.43045928e-02,  8.00697040e-03,\n",
       "       -4.24609613e-03,  4.84913811e-02,  3.25566181e-03,  4.04807068e-02,\n",
       "       -3.51123922e-02,  1.08994655e-02, -1.99060459e-02,  5.12582511e-02,\n",
       "        1.00302901e-02,  1.72591321e-02, -1.87541861e-02,  4.85398956e-02,\n",
       "       -1.18278777e-02, -5.19008189e-02, -2.08610408e-02, -1.41477361e-02,\n",
       "       -9.18325875e-03, -5.67424558e-02, -1.10005299e-02, -3.66229564e-02,\n",
       "        1.67428590e-02, -1.28290746e-02,  2.78064106e-02,  1.24218054e-02,\n",
       "        3.04339044e-02, -2.82241367e-02,  3.41064818e-02,  1.73797272e-02,\n",
       "        2.73235645e-02,  5.34142628e-02,  1.56508442e-02,  7.11467443e-03,\n",
       "        6.50361627e-02, -1.97267365e-02,  4.51777019e-02, -9.58248321e-03,\n",
       "        1.56799126e-02,  1.72496587e-02,  2.50134356e-02,  2.94225626e-02,\n",
       "       -6.11934587e-02,  1.52086997e-02,  6.33092970e-02, -1.94104128e-02,\n",
       "        5.06822541e-02,  3.26056220e-02,  6.36180444e-03, -4.09437045e-02,\n",
       "        1.38354506e-02, -5.56446239e-02,  1.51293557e-02, -1.02159299e-01,\n",
       "       -5.93361631e-02,  9.33315430e-04, -9.45514534e-03,  8.03141389e-03,\n",
       "       -5.17865233e-02,  1.14492290e-01, -7.05978554e-03,  3.37040387e-02,\n",
       "       -6.96615875e-02,  8.87602568e-02, -2.95258891e-02,  3.10026091e-02,\n",
       "        4.23184335e-02,  3.13806441e-03,  3.13028670e-03,  2.82761771e-02,\n",
       "       -2.63279565e-02, -2.90258247e-02,  2.09417399e-02,  4.83495258e-02,\n",
       "       -6.97386032e-03, -9.06443410e-03, -1.72974449e-02, -4.80921529e-02,\n",
       "        4.95498963e-02,  6.22326136e-02, -1.86083987e-02,  4.39546220e-02,\n",
       "       -5.98682351e-02, -3.49892490e-02,  1.98316760e-02,  3.73421386e-02,\n",
       "       -2.10661683e-02, -2.17117928e-02,  9.65854153e-03, -1.82344764e-02,\n",
       "        4.38664816e-02, -1.28996214e-02, -4.38946998e-03,  4.18840302e-03,\n",
       "       -3.24571654e-02,  8.48068856e-04, -6.52493462e-02,  3.74771915e-02,\n",
       "       -4.35044356e-02,  8.13621879e-02, -7.31632067e-03,  3.66632603e-02,\n",
       "       -1.65850408e-02,  5.34402430e-02,  1.39776003e-02,  7.41457846e-03,\n",
       "       -3.97023112e-02, -6.86828569e-02, -4.36815396e-02, -8.42679664e-03,\n",
       "       -7.67968521e-02,  2.34447364e-02,  3.98257114e-02,  6.86398372e-02,\n",
       "       -5.00484370e-02, -2.49265824e-02, -8.71811807e-03, -3.81068178e-02,\n",
       "        1.90925945e-07,  2.27516368e-02, -4.09972593e-02,  4.43438888e-02,\n",
       "        2.39493847e-02,  2.33241208e-02,  2.74896380e-02,  1.11785671e-02,\n",
       "        1.63085628e-02,  1.84595883e-02, -1.72462016e-02, -2.05017775e-02,\n",
       "        1.54692521e-02,  1.28379585e-02,  2.60993484e-02,  7.16611138e-03,\n",
       "        1.03146974e-02,  7.52077475e-02, -1.26303397e-02,  2.33495217e-02,\n",
       "       -1.15257930e-02,  9.22363475e-02, -2.24787351e-02, -1.22813378e-02,\n",
       "       -4.16483637e-03, -3.04092299e-02, -3.97706851e-02, -2.73342170e-02,\n",
       "       -2.70966608e-02, -3.58397774e-02, -5.93186021e-02,  7.06413388e-02,\n",
       "        3.08606941e-02,  2.01517809e-02,  3.44034582e-02,  1.22668417e-02,\n",
       "        2.75652739e-03, -1.68167297e-02,  1.62138604e-02, -1.27187436e-02,\n",
       "        7.73067353e-03, -1.05034513e-02, -1.10351339e-01,  2.27257563e-03,\n",
       "       -2.19683778e-02, -1.32227410e-02,  3.95935960e-03, -2.70159263e-02,\n",
       "        3.80003266e-02,  4.99220937e-02,  2.61083618e-02, -2.22039260e-02,\n",
       "        6.64948598e-02,  8.57269857e-03,  2.83862259e-02,  3.01401950e-02,\n",
       "       -1.93539145e-03, -1.97955668e-02,  2.79999003e-02,  3.78232934e-02,\n",
       "       -7.67715052e-02,  2.12125224e-03,  8.28378461e-03, -6.80320784e-02,\n",
       "        4.16777395e-02, -5.25475815e-02,  1.02689929e-01,  6.79774657e-02,\n",
       "        1.23150367e-34, -1.87404696e-02, -1.09921047e-03, -1.27219697e-02,\n",
       "       -4.00460325e-02,  3.21449898e-02,  1.89991333e-02,  2.69221626e-02,\n",
       "       -2.21212693e-02,  1.90281142e-02, -7.37044401e-03,  3.67542617e-02],\n",
       "      dtype=float32)"
      ]
     },
     "execution_count": 127,
     "metadata": {},
     "output_type": "execute_result"
    }
   ],
   "source": [
    "question_embeddings"
   ]
  },
  {
   "cell_type": "code",
   "execution_count": 128,
   "id": "bd83747b",
   "metadata": {},
   "outputs": [],
   "source": [
    "from sklearn.metrics.pairwise import cosine_similarity\n",
    "\n",
    "def retrieve_top_k_chunks(question_embedding, chunks, chunk_embeddings, k=3):\n",
    "    sims = cosine_similarity([question_embedding], chunk_embeddings)[0]\n",
    "    top_indices = sims.argsort()[-k:][::-1]\n",
    "    return [(chunks[i], i, sims[i]) for i in top_indices]\n"
   ]
  },
  {
   "cell_type": "code",
   "execution_count": 129,
   "id": "6ae575b3",
   "metadata": {},
   "outputs": [],
   "source": [
    "def trouver_page_du_chunk(chunk, ocr_texts):\n",
    "    for i, page_text in enumerate(ocr_texts):\n",
    "        if chunk.strip()[:50] in page_text:\n",
    "            return i + 1  \n",
    "    return None\n"
   ]
  },
  {
   "cell_type": "code",
   "execution_count": 130,
   "id": "012a013e",
   "metadata": {},
   "outputs": [
    {
     "name": "stdout",
     "output_type": "stream",
     "text": [
      "Chunk 4 (score: 0.44) - Page 1:\n",
      "\n",
      "Exceptions  Additionally, the following are excepted from the Proclamation:  (i) any lawful permanent resident (LPR) of the United States;  (ii) any dual national of a country designated under sections 2 and 3 of the proclamation when the individual is traveling on a passport issued by a country not so designated;  (iii) any foreign national traveling with a valid nonimmigrant visa in the following classifications: A-1, A-2, C-2, C-3, G-1, G-2, G-3, G-4, NATO-1, NATO-2, NATO-3, NATO-4, NATO-5, o...\n",
      "Chunk 2 (score: 0.41) - Page 1:\n",
      "\n",
      "The Proclamation fully or partially suspends the entry of nationals of the following 19 countries: Afghanistan,  Myanmar (Burma), Chad, Republic of The Congo, Equatorial Guinea, Eritrea, Haiti, Iran, Libya, Somalia,  Sudan, Yemen, Burundi, Cuba, Laos, Sierra Leone, Togo, Turkmenistan, and Venezuela. The Proclamation will  be implemented by CBP and partner agencies, such as U. S....\n",
      "Chunk 1 (score: 0.40) - Page inconnue:\n",
      "\n",
      "dhs. gov Presidential Proclamation: Restricting the Entry of Foreign Nationals to Protect the United States from Foreign Terrorists and Other National Security and Public Safety Threats  On June 4, 2025, the President of the United States issued a Presidential Proclamation, Restricting the Entry of  Foreign Nationals to Protect the United States from Foreign Terrorists and Other National Security and Public  Safety Threats. This proclamation is effective at 12:01 am Eastern Daylight Time on June...\n"
     ]
    }
   ],
   "source": [
    "top_chunks = retrieve_top_k_chunks(question_embeddings, chunks, chunk_embeddings, k=3)\n",
    "\n",
    "for chunk, idx, score in top_chunks:\n",
    "    page = trouver_page_du_chunk(chunk, ocr_texts)\n",
    "    print(f\"Chunk {idx} (score: {score:.2f}) - Page {page if page else 'inconnue'}:\\n\")\n",
    "    print(chunk[:500] + \"...\")\n"
   ]
  }
 ],
 "metadata": {
  "kernelspec": {
   "display_name": "Python 3",
   "language": "python",
   "name": "python3"
  },
  "language_info": {
   "codemirror_mode": {
    "name": "ipython",
    "version": 3
   },
   "file_extension": ".py",
   "mimetype": "text/x-python",
   "name": "python",
   "nbconvert_exporter": "python",
   "pygments_lexer": "ipython3",
   "version": "3.11.0"
  }
 },
 "nbformat": 4,
 "nbformat_minor": 5
}
